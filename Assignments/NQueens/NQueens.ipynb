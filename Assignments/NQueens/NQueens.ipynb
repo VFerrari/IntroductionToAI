{
 "cells": [
  {
   "cell_type": "markdown",
   "metadata": {},
   "source": [
    "# **Assignment - Genetic Algorithm for the N-Queens problem.**\n",
    "**Subject:** MC906/MO416 - Introduction to Artificial Intelligence \n",
    "\n",
    "**Authors:**\n",
    "\n",
    "    Victor Ferreira Ferrari         - RA 187890"
   ]
  },
  {
   "cell_type": "markdown",
   "metadata": {},
   "source": [
    "## Introduction\n",
    "\n",
    "This assignment consists of a genetic algorithm based solution for the N-Queens problem.\n",
    "This notebook uses the _NumPy_ library."
   ]
  },
  {
   "cell_type": "code",
   "execution_count": 1,
   "metadata": {},
   "outputs": [],
   "source": [
    "import numpy as np"
   ]
  },
  {
   "cell_type": "markdown",
   "metadata": {},
   "source": [
    "The parameters for the problem and the method are below:"
   ]
  },
  {
   "cell_type": "code",
   "execution_count": 2,
   "metadata": {},
   "outputs": [],
   "source": [
    "N = 8\n",
    "POP_SIZE = 4\n",
    "MUT_RATE = 0.5\n",
    "MAX_ITER = 15000"
   ]
  },
  {
   "cell_type": "markdown",
   "metadata": {},
   "source": [
    "The regular execution of this assignment is with N=8, so the original 8-Queens problem.\n",
    "\n",
    "The population in each generation has 4 states, and every new generation replaces the last one. Mutation rate and max iterations are parameters added for this implementation, and their values were decided empirically.\n",
    "\n",
    "The overall best solution is always saved, so that if the iteration count expires, we still have the best solution."
   ]
  },
  {
   "cell_type": "markdown",
   "metadata": {},
   "source": [
    "## Code\n",
    "The entire code can be found below:"
   ]
  },
  {
   "cell_type": "code",
   "execution_count": 3,
   "metadata": {},
   "outputs": [],
   "source": [
    "def nqueens_genetic():\n",
    "    pop = gen_initial_population(POP_SIZE)\n",
    "    \n",
    "    # Fitness\n",
    "    fit = []\n",
    "    for i in pop:\n",
    "        fit.append(fitness(i))\n",
    "    fit = np.array(fit)\n",
    "    \n",
    "    # Best\n",
    "    best_idx = np.argmax(fit)\n",
    "    best_sol = pop[best_idx]\n",
    "    best_val = fit[best_idx]\n",
    "    \n",
    "    # Stop criteria\n",
    "    sol_val = np.arange(N).sum()\n",
    "    iterations = 0\n",
    "    \n",
    "    while best_val < sol_val and iterations < MAX_ITER:\n",
    "        \n",
    "        # Roulette selection\n",
    "        sel = selection(pop, fit, POP_SIZE)\n",
    "    \n",
    "        # Reproduction\n",
    "        for i in range(0, len(sel), 2):\n",
    "            pop[i], pop[i+1] = reproduction(sel[i], sel[i+1])\n",
    "    \n",
    "        # Mutation\n",
    "        mutate_pop(pop, MUT_RATE)\n",
    "        \n",
    "        # Fitness\n",
    "        for i in range(POP_SIZE):\n",
    "            fit[i] = fitness(pop[i])\n",
    "                \n",
    "        # Update Max\n",
    "        best_idx = np.argmax(fit)\n",
    "        if fit[best_idx] > best_val:\n",
    "            best_sol = pop[best_idx]\n",
    "            best_val = fit[best_idx]\n",
    "        \n",
    "        iterations += 1\n",
    "    \n",
    "    # Board\n",
    "    board = create_board(best_sol)\n",
    "    print(board)\n",
    "    \n",
    "    print('Solution: ', best_sol)\n",
    "    print('Iterations: ', iterations)\n",
    "    print('Solution Value: ', best_val)\n",
    "    \n",
    "\n",
    "def gen_initial_population(amount):\n",
    "    pop = []\n",
    "    \n",
    "    # Creating random states.\n",
    "    for i in range(amount):\n",
    "        code = np.random.randint(0, high=N, size=N)\n",
    "        pop.append(code)\n",
    "    \n",
    "    return pop\n",
    "\n",
    "def fitness(state):\n",
    "        \n",
    "    # Max value is the sum of elements in the range 0-N.\n",
    "    value = np.arange(N).sum()\n",
    "    \n",
    "    # Check line.\n",
    "    for j in range(len(state)):\n",
    "        for i in state[j+1:]:\n",
    "            value -= 1 if state[j]==i else 0\n",
    "    \n",
    "    # Check diagonals\n",
    "    for j in range(len(state)):\n",
    "        for i in range(j+1,len(state)):\n",
    "            dx = state[i] - state[j]\n",
    "            dy = i - j\n",
    "            value -= 1 if dx == dy or dx == -dy else 0\n",
    "    \n",
    "    return value\n",
    "\n",
    "def create_board(state):\n",
    "    board = np.zeros((N,N))\n",
    "    \n",
    "    for i in range(len(state)):\n",
    "        board[state[i],i] = 1\n",
    "    \n",
    "    return board\n",
    "\n",
    "def selection(pop, fit, amount):\n",
    "    \n",
    "    # Roulette selection\n",
    "    sel_idxs = np.random.choice(np.arange(amount), (amount), replace=True, p=fit/fit.sum())\n",
    "    \n",
    "    selected = []\n",
    "    for idx in sel_idxs:\n",
    "        selected.append(pop[idx])\n",
    "    \n",
    "    return selected    \n",
    "\n",
    "def reproduction(x, y):\n",
    "    # Single-point crossover: generate point\n",
    "    point = np.random.randint(0, x.size-1)\n",
    "    \n",
    "    # Getting children\n",
    "    c1 = np.concatenate([x[:point], y[point:]])\n",
    "    c2 = np.concatenate([y[:point], x[point:]])\n",
    "    \n",
    "    return c1,c2\n",
    "\n",
    "def mutate_pop(pop, rate):\n",
    "    \n",
    "    # Select states to mutate.\n",
    "    mut_amount = int(rate*len(pop))\n",
    "    mut_idx = np.random.randint(0, len(pop)-1, mut_amount) \n",
    "    size = pop[0].size\n",
    "    \n",
    "    # Change element to random.\n",
    "    for i in mut_idx:\n",
    "        change = np.random.randint(0, size, 2)\n",
    "        pop[i][change[0]] = change[1]"
   ]
  },
  {
   "cell_type": "markdown",
   "metadata": {},
   "source": [
    "## Step-By-Step\n",
    "\n",
    "The initial population is generated randomly, without any restrictions outside of coding. A state is an array of N positions, representing the position of the queen in each column."
   ]
  },
  {
   "cell_type": "code",
   "execution_count": 4,
   "metadata": {},
   "outputs": [
    {
     "name": "stdout",
     "output_type": "stream",
     "text": [
      "[array([6, 6, 4, 3, 2, 2, 6, 0]), array([0, 0, 0, 2, 5, 3, 2, 4]), array([4, 4, 6, 2, 7, 0, 4, 1]), array([6, 6, 4, 7, 7, 7, 2, 5])]\n"
     ]
    }
   ],
   "source": [
    "pop = gen_initial_population(POP_SIZE)\n",
    "print(pop)"
   ]
  },
  {
   "cell_type": "markdown",
   "metadata": {},
   "source": [
    "The fitness function returns the number of queens that are not attacking each other. That means that for each combination of pairs of queens, if they are not attacking each other, the value goes up by 1. \n",
    "\n",
    "The maximum value is N-1+N-2+...+1. For 8 queens, this value is 28."
   ]
  },
  {
   "cell_type": "code",
   "execution_count": 5,
   "metadata": {},
   "outputs": [
    {
     "name": "stdout",
     "output_type": "stream",
     "text": [
      "[14 21 19 21]\n"
     ]
    }
   ],
   "source": [
    "# Fitness\n",
    "fit = []\n",
    "for i in pop:\n",
    "    fit.append(fitness(i))\n",
    "fit = np.array(fit)\n",
    "print(fit)"
   ]
  },
  {
   "cell_type": "markdown",
   "metadata": {},
   "source": [
    "To breed a new generation, first we have to **select** the individuals to breed. This is done by **roulette selection**.\n"
   ]
  },
  {
   "cell_type": "code",
   "execution_count": 6,
   "metadata": {},
   "outputs": [
    {
     "name": "stdout",
     "output_type": "stream",
     "text": [
      "[array([6, 6, 4, 7, 7, 7, 2, 5]), array([0, 0, 0, 2, 5, 3, 2, 4]), array([4, 4, 6, 2, 7, 0, 4, 1]), array([6, 6, 4, 3, 2, 2, 6, 0])]\n"
     ]
    }
   ],
   "source": [
    "# Roulette selection\n",
    "sel = selection(pop, fit, POP_SIZE)\n",
    "print(sel)"
   ]
  },
  {
   "cell_type": "markdown",
   "metadata": {},
   "source": [
    "Then, reproduction is done through single-point crossover in pairs."
   ]
  },
  {
   "cell_type": "code",
   "execution_count": 7,
   "metadata": {},
   "outputs": [
    {
     "name": "stdout",
     "output_type": "stream",
     "text": [
      "[array([6, 0, 0, 2, 5, 3, 2, 4]), array([0, 6, 4, 7, 7, 7, 2, 5]), array([4, 4, 6, 3, 2, 2, 6, 0]), array([6, 6, 4, 2, 7, 0, 4, 1])]\n"
     ]
    }
   ],
   "source": [
    "# Reproduction\n",
    "for i in range(0, len(sel), 2):\n",
    "    pop[i], pop[i+1] = reproduction(sel[i], sel[i+1])\n",
    "print(pop)"
   ]
  },
  {
   "cell_type": "markdown",
   "metadata": {},
   "source": [
    "Mutation is done by randomly altering one of the queen positions in the states. The individuals are chosen randomly, with the amount being restricted by the mutation rate."
   ]
  },
  {
   "cell_type": "code",
   "execution_count": 8,
   "metadata": {},
   "outputs": [
    {
     "name": "stdout",
     "output_type": "stream",
     "text": [
      "[array([6, 0, 0, 2, 5, 3, 2, 4]), array([0, 6, 7, 7, 7, 7, 5, 5]), array([4, 4, 6, 3, 2, 2, 6, 0]), array([6, 6, 4, 2, 7, 0, 4, 1])]\n"
     ]
    }
   ],
   "source": [
    "# Mutation\n",
    "mutate_pop(pop, MUT_RATE)\n",
    "print(pop)"
   ]
  },
  {
   "cell_type": "markdown",
   "metadata": {},
   "source": [
    "Finally, we have a new generation, and their fitness values can be calculated."
   ]
  },
  {
   "cell_type": "code",
   "execution_count": 9,
   "metadata": {},
   "outputs": [
    {
     "name": "stdout",
     "output_type": "stream",
     "text": [
      "[23 18 21 24]\n"
     ]
    }
   ],
   "source": [
    "# Fitness\n",
    "for i in range(POP_SIZE):\n",
    "    fit[i] = fitness(pop[i])\n",
    "print(fit)"
   ]
  },
  {
   "cell_type": "markdown",
   "metadata": {},
   "source": [
    "We can visualize a state/solution by creating a board."
   ]
  },
  {
   "cell_type": "code",
   "execution_count": 10,
   "metadata": {},
   "outputs": [
    {
     "name": "stdout",
     "output_type": "stream",
     "text": [
      "[[0. 1. 1. 0. 0. 0. 0. 0.]\n",
      " [0. 0. 0. 0. 0. 0. 0. 0.]\n",
      " [0. 0. 0. 1. 0. 0. 1. 0.]\n",
      " [0. 0. 0. 0. 0. 1. 0. 0.]\n",
      " [0. 0. 0. 0. 0. 0. 0. 1.]\n",
      " [0. 0. 0. 0. 1. 0. 0. 0.]\n",
      " [1. 0. 0. 0. 0. 0. 0. 0.]\n",
      " [0. 0. 0. 0. 0. 0. 0. 0.]]\n"
     ]
    }
   ],
   "source": [
    "# Board\n",
    "board = create_board(pop[0])\n",
    "print(board)"
   ]
  },
  {
   "cell_type": "markdown",
   "metadata": {},
   "source": [
    "## Solution\n",
    "\n",
    "By running the `nqueens_genetic` function, you can solve an instance of the N-Queens problem. Feel free to change the parameters and see the difference! This method is not guaranteed to return the solution, though, so an iteration limit was set."
   ]
  },
  {
   "cell_type": "code",
   "execution_count": 11,
   "metadata": {},
   "outputs": [
    {
     "name": "stdout",
     "output_type": "stream",
     "text": [
      "[[0. 0. 1. 0. 0. 0. 0. 0.]\n",
      " [0. 0. 0. 0. 0. 0. 1. 0.]\n",
      " [0. 0. 0. 1. 0. 0. 0. 0.]\n",
      " [1. 0. 0. 0. 0. 0. 0. 0.]\n",
      " [0. 0. 0. 0. 0. 0. 0. 0.]\n",
      " [0. 1. 0. 0. 0. 0. 0. 0.]\n",
      " [0. 0. 0. 0. 1. 1. 0. 0.]\n",
      " [0. 0. 0. 0. 0. 0. 0. 1.]]\n",
      "Solution:  [3 5 0 2 6 6 1 7]\n",
      "Iterations:  15000\n",
      "Solution Value:  27\n"
     ]
    }
   ],
   "source": [
    "N=8\n",
    "POP_SIZE = 4\n",
    "MUT_RATE = 0.5\n",
    "MAX_ITER = 15000\n",
    "\n",
    "nqueens_genetic()"
   ]
  }
 ],
 "metadata": {
  "kernelspec": {
   "display_name": "Python 3",
   "language": "python",
   "name": "python3"
  },
  "language_info": {
   "codemirror_mode": {
    "name": "ipython",
    "version": 3
   },
   "file_extension": ".py",
   "mimetype": "text/x-python",
   "name": "python",
   "nbconvert_exporter": "python",
   "pygments_lexer": "ipython3",
   "version": "3.6.9"
  },
  "latex_envs": {
   "LaTeX_envs_menu_present": true,
   "autoclose": false,
   "autocomplete": true,
   "bibliofile": "biblio.bib",
   "cite_by": "apalike",
   "current_citInitial": 1,
   "eqLabelWithNumbers": true,
   "eqNumInitial": 1,
   "hotkeys": {
    "equation": "Ctrl-E",
    "itemize": "Ctrl-I"
   },
   "labels_anchors": false,
   "latex_user_defs": false,
   "report_style_numbering": false,
   "user_envs_cfg": false
  },
  "toc": {
   "base_numbering": 1,
   "nav_menu": {},
   "number_sections": true,
   "sideBar": true,
   "skip_h1_title": false,
   "title_cell": "Table of Contents",
   "title_sidebar": "Contents",
   "toc_cell": false,
   "toc_position": {},
   "toc_section_display": true,
   "toc_window_display": false
  }
 },
 "nbformat": 4,
 "nbformat_minor": 4
}
