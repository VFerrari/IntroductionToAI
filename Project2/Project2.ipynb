{
 "cells": [
  {
   "cell_type": "markdown",
   "metadata": {},
   "source": [
    "# **Project 2 - Genetic Algorithm for Image Reconstruction.**\n",
    "**Subject:** MC906/MO416 - Introduction to Artificial Intelligence \n",
    "\n",
    "**Authors:**\n",
    "\n",
    "    Eduardo Barros Innarelli - RA 170161\n",
    "    Victor Ferreira Ferrari  - RA 187890\n",
    "    Vinicius Couto Espindola - RA 188115"
   ]
  },
  {
   "cell_type": "markdown",
   "metadata": {},
   "source": [
    "## **Introduction**\n",
    "### Project\n",
    "The project consists of a study of genetic algorithm-based solutions for **image reconstruction**. A few set aspects of the problem will be explained, implemented and discussed here, such as:\n",
    "\n",
    "- The **modeling** of the problem as an evolutionary problem (chromosomes, genes, etc);\n",
    "- How to **generate the initial population**;\n",
    "- The chosen **fitness function**;\n",
    "- How to **visualize** the result.\n",
    "\n",
    "Along with that, some aspects of the genetic algorithm will be tested and discussed with multiple approaches, such as:\n",
    "\n",
    "- Stop criteria;\n",
    "- Selection technique;\n",
    "- Crossover technique;\n",
    "- Mutation technique;\n",
    "- Generation replacement method.\n",
    "\n",
    "Also, the following **parameters** will be tested with multiple values as well:\n",
    "- Population size;\n",
    "- Mutation rate;\n",
    "- Crossover rate.\n",
    "\n",
    "In the end, different variations of the process will be compared and discussed."
   ]
  },
  {
   "cell_type": "markdown",
   "metadata": {},
   "source": [
    "### Usage\n",
    "\n",
    "This project uses the external libraries _OpenCV_ for image reading and manipulation, _NumPy_ for array manipulation, and _MatPlotLib_ for result visualization. The other imports are part of the Standard Python Library."
   ]
  },
  {
   "cell_type": "code",
   "execution_count": 1,
   "metadata": {},
   "outputs": [],
   "source": [
    "# External Libraries\n",
    "from matplotlib import pyplot as plt\n",
    "from cv2 import imread, imwrite, resize\n",
    "import numpy as np\n",
    "\n",
    "# Python Libraries\n",
    "from time import time\n",
    "from itertools import combinations\n",
    "from random import sample, choices, shuffle\n",
    "from os.path import join, basename"
   ]
  },
  {
   "cell_type": "markdown",
   "metadata": {},
   "source": [
    "## **Problem**\n",
    "### General Information\n",
    "The problem consists of, given the original image, recreating an image from scratch. The original is only used for fitness purposes (how good is the image generated). This is not particularly useful in many applications, but can be used as basis for other problems, and is good for the purpose of this project: test different methods of reproduction, mutation, etc.\n",
    "\n",
    "The motivation came from [Roger Johansson's \"Evolution of Mona Lisa\"](https://rogerjohansson.blog/2008/12/07/genetic-programming-evolution-of-mona-lisa/), but instead of using polygons, the pixel values are directly used.\n",
    "\n",
    "### Modeling\n",
    "The modeling of the problem as a GA problem is almost direct: the image is the individual (chromosome) and each of its pixels is a gene. The image can be represented by a multitude of different ways. The chosen way of representation is as a flat array, as this allows for easier operations, especially crossover.\n",
    "\n",
    "### Inputs\n",
    "Due to the huge number of combinations in a regular RGB image ($255^3$ possiblities per pixel), greyscale images are used in this project. High resolution images were rescaled to a lower resolution using *OpenCV* as some images would simply take too long to test."
   ]
  },
  {
   "cell_type": "markdown",
   "metadata": {},
   "source": [
    "## **Methods**"
   ]
  },
  {
   "cell_type": "markdown",
   "metadata": {},
   "source": [
    "### Notes on Structure\n",
    "\n",
    "The code was organized in such a manner which allows us to first define every method used as well as discuss them in separated modules, making each part more readable and comprehesible.\n",
    "\n",
    "In order to merge all components of the code, we created a class called GeneticAlgorithm. This class retains some essential variables for the methods defined along the report. To allow such methods to access these variables (even though they are not a part of the class) nearly every method must receive as it's **first parameter the class instance** which is referred as the **parameter 'self' in the method's definitions**. It should also be noted that the method usualy have no return statements, simply because the 'self' parameter is a reference to the class instance, which **allow the methods to make changes in-place**.\n",
    "\n",
    "To specify which class variables are necessary/used and which are defined/altered by the methods in each section, there will be a list of **used class variables** and **defined class variables** within the description of every section. On top of these uses and definitions, there are parameters which are method dependent, these are in the sections **necessary parameters**."
   ]
  },
  {
   "cell_type": "markdown",
   "metadata": {},
   "source": [
    "### The Goal Image\n",
    "\n",
    "Before starting the algorithm we must first read an image from memory. To do so we'll use the read function embedded in the GeneticAlgorithm class. This function is responsible for reading the image, reducing it's resolution, flattening it to an array and finally storing it in the class.\n",
    "\n",
    "The read image is kept in two class variables: \n",
    " 1. *self.goal* - The flattened image, which is an array containing the input image pixels. \n",
    " 2. *self.shape* - After dowscalling and before flattening the image, we must save the input image shape so we can reverse the flattening process allowing us to visualize the array of genes as an image.\n",
    " \n",
    "**Note:** a relevant detais is that the length of the array kept in *self.goal* is the amount of genes every individual must have, so we'll often use the variable *self.goal.size* to set the amount of genes in methods were this information is necessary.\n",
    "\n",
    "Since processing the input image is the first step of the algorithm, the methods defined bellow this section will consider that the class variables *self.goal* and *self.shape* are defined and ready to be used."
   ]
  },
  {
   "cell_type": "markdown",
   "metadata": {},
   "source": [
    "### Population Initialization\n",
    "**Responsible: Vinícius (Major) and Victor (Minor)**\n",
    "\n",
    "The first step to run a genetic algorithm is creating a population to serve as a starting point for the selection, reproduction and mutation process. \n",
    "\n",
    "**Necessary parameters:**\n",
    " 1. *pop_size* - Defines the amount of individuals to be created in the initial population.\n",
    "\n",
    "**Used class variables:** \n",
    " 1. *self.goal.size* - Defines the amount of genes that every individual must have.\n",
    "\n",
    "**Defined class variables:**\n",
    " 1. *self.population* - List of *ndarrays* where each element contains the genes of an individual.\n",
    " 2. *self.all_fits* - List of float values where each element is the fitness of an individual.\n",
    " 3. *self.pop_size* - Saves the value chosen for population size (*pop_size* parameter).\n",
    "\n",
    "The following code defines some methods which will be used to create a population out of nothing."
   ]
  },
  {
   "cell_type": "markdown",
   "metadata": {},
   "source": [
    "#### Random Initialization\n",
    "The first method chosen for this stage was the completely random initialization. Here we simply randomize every gene of the *pop_size* individuals considering the possible state space, in other words, we generate *pop_size* arrays by randomizing every of it's *self.goal.size* elements within the range $[0-255]$.  "
   ]
  },
  {
   "cell_type": "code",
   "execution_count": 2,
   "metadata": {},
   "outputs": [],
   "source": [
    "def random(self, pop_size):\n",
    "    # Generate completely random indivuduals \n",
    "    self.population = []\n",
    "    size = self.goal.size\n",
    "    \n",
    "    for i in range(pop_size):\n",
    "        print(f\"Generating Population...  {i:>3}/{pop_size}\\r\", end='')\n",
    "        person = np.random.randint(0, 256, size, dtype=np.uint8)\n",
    "        self.population.append(person)\n",
    "    self.pop_size = pop_size\n",
    "    print(f\"{' '*50}\\r\", end='')"
   ]
  },
  {
   "cell_type": "markdown",
   "metadata": {},
   "source": [
    "#### Partially Random Initialization\n",
    "\n",
    "The complete random initilization isn't very helpful to provide a good starting point for the algorithm, allowing the initial population to be completely unfit when compared to the goal image. An alternative would be to insert one completely white individual with the others. This way, depending on the goal image, this individual can start better fit than the others.\n",
    "\n",
    "This method does not ensure a better starting point for all images, though. For some images, as can be seen in the \"Result\" section, this white individual can make the entire population have a white section, over time. If, in the goal image, this section is not white, the algorithm depends on mutation to insert different values in that section."
   ]
  },
  {
   "cell_type": "code",
   "execution_count": 3,
   "metadata": {},
   "outputs": [],
   "source": [
    "def white_and_random(self, pop_size):\n",
    "    self.population = []\n",
    "    size = self.goal.size\n",
    "    \n",
    "    person = np.full(size, 255, dtype=np.uint8)\n",
    "    self.population.append(person)\n",
    "    \n",
    "    for i in range(pop_size-1):\n",
    "        print(f\"Generating Population...  {i+1:>3}/{pop_size}\\r\", end='')\n",
    "        person = np.random.randint(0, 256, size, dtype=np.uint8)\n",
    "        self.population.append(person)\n",
    "    self.pop_size = pop_size\n",
    "    print(f\"{' '*50}\\r\", end='')"
   ]
  },
  {
   "cell_type": "markdown",
   "metadata": {},
   "source": [
    "### Fitness Function\n",
    "**Responsible: Victor**\n",
    "\n",
    "For each individual, we must determine a method which will tell us how apt such individual for the problem in question.\n",
    "\n",
    "The MSE (mean squared error) is a very common error function for AI and Machine Learning models, so that was implemented here. Since we want more distance between the individuals when the error is low enough, we can use the squared error directly, without taking the mean. This makes for a big number, and more distance between individuals.\n",
    "\n",
    "Finally, a \"correct pixels\" fitness function was made, to identify how many pixels are exactly the same as the goal image. This can be useful because it doesn't allow for much approximation, relying on directly imitating the goal image."
   ]
  },
  {
   "cell_type": "code",
   "execution_count": 4,
   "metadata": {},
   "outputs": [],
   "source": [
    "def squared_error(individual, original):\n",
    "     return ((original.astype(np.float64) - individual.astype(np.float64))**2).sum()"
   ]
  },
  {
   "cell_type": "code",
   "execution_count": 5,
   "metadata": {},
   "outputs": [],
   "source": [
    "def mse(individual, original):\n",
    "     return squared_error(individual,original)/individual.size"
   ]
  },
  {
   "cell_type": "code",
   "execution_count": 6,
   "metadata": {},
   "outputs": [],
   "source": [
    "def correct_pixels(individual, original):\n",
    "    return np.count_nonzero(original.astype(np.int16) - individual.astype(np.int16))"
   ]
  },
  {
   "cell_type": "markdown",
   "metadata": {},
   "source": [
    "### Convergence Criteria\n",
    "**Responsible: Vinícius**\n",
    "\n",
    "The algorithm cannot run forever. In this section will define a convergence method for halting the program's exection. \n",
    "\n",
    "The convergence function must identify when the algorithm's improvement rate has significantly decreased or even stalled. To do so, it must know to some extent the rate of improvement per generation, which can be infered by the difficulty of improving the best individual found so far. Assume we have the best indivudual so far ($B$), therefore, we can estimate when the algorithm is decreasing it's evolution rate (or improvement rate) by checking how many generations have passed since $B$ was achieved: the more generations where $B$ wasn't improved, the more likely is that the algorithm has converged. The convergence method defined in this section is based on this idea.\n",
    "\n",
    "The convergence method will also play a secondary role: it is responsible for updating the best individual found across all generations, such individual is used as the final generated image which will be compared with the goal image.\n",
    "\n",
    "**Necessary parameters:**\n",
    " 1. *limit* - Suppose generation $X$ has the best individual so far, also suppose we are at generation $Y|Y>X$. This implies that the last $L=Y-X$ generation(s) did not improve the fittest individual found so far. If $L>limit$ we consider that the algorithm has converged.\n",
    "\n",
    "**Used class variables:** \n",
    " 1. *self.all_fits* - Used to find the fittest individual of the new generation by getting the minimum fitness.\n",
    " 2. *self.best_fit* - Holds the fittness of the best individual across all previous generations.\n",
    "\n",
    "**Defined class variables:**\n",
    " 1. *self.counter* - Counts generations since the last improvement of the best individual.\n",
    " 2. *self.best_genfit* - If theres a new better individual we must update this variable."
   ]
  },
  {
   "cell_type": "markdown",
   "metadata": {},
   "source": [
    "#### Convergence Halting Method"
   ]
  },
  {
   "cell_type": "code",
   "execution_count": 7,
   "metadata": {},
   "outputs": [],
   "source": [
    "def convergence(self, limit):\n",
    "    ''' Identifies convergence and updates fittest individual found so far \n",
    "        \n",
    "        Parameters:\n",
    "            self - GeneticAlgorithm class which the function is being called from\n",
    "            limit - Amount of iterations wich can be worst than the best one found so far\n",
    "        Return:\n",
    "            Bool - True if converged, False otherwise.\n",
    "    '''\n",
    "    # Get min fitness for population\n",
    "    new_genfit = self.all_fits.min()\n",
    "     \n",
    "    # Update number of iterations without improvement\n",
    "    if new_genfit >= self.best_genfit:\n",
    "        self.counter += 1\n",
    "    else:\n",
    "        self.counter = 0\n",
    "        self.best_genfit = new_genfit\n",
    "    \n",
    "    # Check convergence\n",
    "    if self.counter >= limit or self.best_genfit <= 0:\n",
    "        self.counter = 0\n",
    "        return True\n",
    "    else:\n",
    "        return False "
   ]
  },
  {
   "cell_type": "markdown",
   "metadata": {},
   "source": [
    "#### Secondary Halting Method \n",
    "\n",
    "Even checking for convergence, the algorithm might still present sufficiently small improvements to avoid convergence, however, they might be so small that it will take a enormous amount of time to converge. As a failsafe to this scenario, we will limit the total amount of generations that can be created. This secondary halting method is not defined in this section however, it is defined withing the GeneticAlgorithm class as *self.abort()*."
   ]
  },
  {
   "cell_type": "markdown",
   "metadata": {},
   "source": [
    "### Parents Selection\n",
    "**Responsible: Vinícius and Victor**\n",
    "\n",
    "In this section we'll define methods responsible for selecting from the population individuals responsible for bearing the next generation. The main goal is to find a method which properly balances the diversity and quality of the new generation of individuals.\n",
    "\n",
    "An analysis of the fitness values showed that the individuals tend to have similar fit in the model we created, leading to premature convergence. This can affect methods such as *roulette selection* which depend heavily on the difference between the fitness score of individuals. A possible solution to this was to apply exponential transfer on the fitness values of the individuals so one does not monopolize the probability, which could lead to homogenization. Another solution to prevent this issue was to implement methods which depend on the comparison among a group of individuals chosen with equal probability. An example of such method is the *tournament selection*.  \n",
    "\n",
    "**Necessary parameters:**\n",
    " 1. *N* - The amount of individuals which will be selected for reproduction.\n",
    " 2. *k* - Defines the amount of competiors in each tournament (tournament selection only).\n",
    " 3. *P* - Defines how many partners an individual can have (tournament selecion only).\n",
    " 4. *T* - Defines the maximum amount of couples allowed (tournament selection only).\n",
    " \n",
    "**Used class variables:** \n",
    " 1. *self.pop_size:* Used to define the range of the individuals indexes within the population.\n",
    " 2. *self.all_fits:* The selection is based on the individuals fitness, therefore this variable is accessed.\n",
    " \n",
    "**Defined class variables:**\n",
    " 1. *self.mates:* creates a list of tuples where each tuple pairs the index of two individuals for reproduction.\n",
    " \n",
    "The following code defines some methods which will be used to select individual for the creation of the next generation."
   ]
  },
  {
   "cell_type": "markdown",
   "metadata": {},
   "source": [
    "#### Tournament Selection\n",
    "\n",
    "Suppose we're given a population $P$. The tournament method will randomly select $k$ individuals out of $P$, then the fittest individual out of the $K$ selected will be chosen to partake in the reproduction step. This process is repeated until we have selected $N$ winners.\n",
    "The second step is pairing the $N$ winners among themselves creating couples. This step is done by first creating every two number combination possible with the $N$ elements and then applying restrictions over which pairs from the combination will be a valid couple. \n",
    "\n",
    "Suppose we have an element $x\\in N$:\n",
    " 1. *$x$ will never form a couple with itself* - A child of the couple $(x,x)$ would simply produce $x$.\n",
    " 2. *$x$ will only match with some $y \\in N$ exactly once* - Repeating couples such as $(x,y)$ and $(y,x)$ is likely to reduce the population's diversity.\n",
    " 3. *$x$ can be in at most $P$ of the selected couples* - If an element $x$ partakes in multiple couples, diversity is likely to deteriorate.\n",
    "\n",
    "The couples will be matched using elements from $N$ and obeying the previous restrictions, we can pick at most $T$ pairs.\n",
    "\n",
    "In this method the size of $K$ controls diversity: when $K$ is larger, it's more likely that unfit individuals are competing with fitter ones, therefore there will likely be a smaller diversity within the population. If we seek more diversity, a smaller $k$ might help. \n"
   ]
  },
  {
   "cell_type": "code",
   "execution_count": 8,
   "metadata": {},
   "outputs": [],
   "source": [
    "def tournament(self, k, N, P, T):\n",
    "    pool = list(range(self.pop_size))\n",
    "    pairs = {x:set() for x in pool}\n",
    "    fitness = lambda x: self.all_fits[x]\n",
    "    winners,self.mates = [],[]\n",
    "\n",
    "    # Run tournament to pick N winners\n",
    "    while len(winners) < N:\n",
    "        competitors = np.random.choice(pool, size=k, replace=False)\n",
    "        winner = max(competitors, key=fitness)\n",
    "        winners.append(winner)\n",
    "        pool.remove(winner) # remove winner from pool\n",
    "    \n",
    "    # Combination: given a pool of winners, match them as couples\n",
    "    for (dad,mom) in shuffle(combinations(winners, 2)):\n",
    "        if (len(pairs[dad]) < P) and (len(pairs[mom]) < P): \n",
    "            pairs[dad].add(mom)\n",
    "            pairs[mom].add(dad)\n",
    "            self.mates.append((dad,mom))\n",
    "            if len(self.mates) == T: break"
   ]
  },
  {
   "cell_type": "markdown",
   "metadata": {},
   "source": [
    "#### Roulette Method\n",
    "\n",
    "Suppose we're given a population $P$. The roulette method will attribute a probability for each individual according to it's fitness value: lower fits implies high probability and higher fits implies lower probabilities. This allows a stochastic method to prize the quality individual without losing too much diversity, especially since _exponential transfer_ is used as a method to avoid premature convergence.\n",
    "\n",
    "In contrast with the tournament method, the roulette does not discriminate individuals. For that reason, any individual can be matched with any other individual, including with itself, and the same match can happen multiple times. That is why a way to avoid premature convergence is needed."
   ]
  },
  {
   "cell_type": "code",
   "execution_count": 9,
   "metadata": {},
   "outputs": [],
   "source": [
    "def roulette(self, N):\n",
    "    fit = self.all_fits\n",
    "    size = self.pop_size\n",
    "    \n",
    "    # Exponential transfer.\n",
    "    fit = np.sqrt(fit+1)\n",
    "    \n",
    "    # Roulette method: select N individuals from the population,\n",
    "    # with proportional probabilities to their fitness values.\n",
    "    probs = fit/fit.sum()\n",
    "    probs = (1-probs)/(size-1)\n",
    "    winners = np.random.choice(np.arange(size), size=N, replace=True, p=probs)    \n",
    "    \n",
    "    self.mates = list(zip(winners[::2],winners[1::2]))"
   ]
  },
  {
   "cell_type": "markdown",
   "metadata": {},
   "source": [
    "### Crossover Techniques\n",
    "**Responsible: Eduardo and Victor**\n",
    "\n",
    "In this section we'll define methods that generate descendants from selected parents. \n",
    "\n",
    "Based on genetic recombination, crossover exchanges genes between two individuals in a stochastic manner, resulting in a new one. Computationally, the way genes are swapped depends on the method implemented. By reproducting, the population preserves genetic diversity between generations.\n",
    "\n",
    "**Necessary parameters:**\n",
    " 1. *K* - Determines the ammount of points to use when applying k-point crossover.\n",
    " 2. *Window* - Tuple with the size of the window for the crossover (block crossover only).\n",
    " \n",
    "**Used class variables:** \n",
    " 1. *self.goal.size* - This attribute tells us how many genes are there in a individual.\n",
    " 1. *self.mates* - Each couple in this variable will be parents in the reproduction method.\n",
    " \n",
    "**Defined class variables:**\n",
    " 1. *self.children* - These are the new individuals generated from reproduction."
   ]
  },
  {
   "cell_type": "markdown",
   "metadata": {},
   "source": [
    "#### K-Point Crossover Reproduction\n",
    "\n",
    "Supose we're given two individuals $A$ and $B$. This method will split the individual genes in $K$ points and exchagen the resulting sections of genes. The algorithm is quite simple: get the amount of genes $G$, select $K$ points within the range $[0-G]$ then swap the genes among parents within the ranges define by the range and the $K$ points."
   ]
  },
  {
   "cell_type": "code",
   "execution_count": 10,
   "metadata": {},
   "outputs": [],
   "source": [
    "def k_point_crossover(self, k):\n",
    "    ''' \n",
    "    For each couple, K points are picked randomly from their chromossomes and\n",
    "    genes between these points are swapped, intercalating pairs of points.\n",
    "    \n",
    "    Parameters:\n",
    "        self - GeneticAlgorithm class which the function is being called from\n",
    "        k - Amount of crossover points for gene exchange\n",
    "    '''\n",
    "    \n",
    "    num_genes = self.goal.size\n",
    "    self.children = []\n",
    "\n",
    "    for father, mother in self.mates:\n",
    "        # Save k unique random crosspoints in a sorted list\n",
    "        crosspoints = sorted(sample(range(0, num_genes-1), k))\n",
    "        \n",
    "        # Deep copy to freely change values\n",
    "        father = self.population[father].copy()\n",
    "        mother = self.population[mother].copy()\n",
    "        \n",
    "        # List of crosspoint pairs, adding a pair with last crosspoint\n",
    "        # and last pixel\n",
    "        # Ex: \n",
    "        # 16 pixels, points [1,9,12] -> pairs [(1,9), (9,12), (12,16)]\n",
    "        pairs = list(zip(crosspoints,crosspoints[1:]))\n",
    "        pairs.append(tuple((crosspoints[-1], num_genes)))\n",
    "\n",
    "        # Perform crossover in pair range, intercalating pairs\n",
    "        for start, end in pairs[::2]:\n",
    "            father[start:end], mother[start:end] = mother[start:end], father[start:end]\n",
    "        \n",
    "        self.children += [father, mother]"
   ]
  },
  {
   "cell_type": "markdown",
   "metadata": {},
   "source": [
    "#### Block Crossover Reproduction\n",
    "\n",
    "As mentioned previously, the individuals are represented by a flattened version, in an 1D array. However, it is still an image, and the best representation is as a 2D array, because a pixel usually is related to the one above or below, and not only the ones in the same row.\n",
    "\n",
    "For that reason, crossover by blocks or windows, instead of rows, can be more effective in minimizing fitness. The following method crosses over random windows of fixed sizes between pairs."
   ]
  },
  {
   "cell_type": "code",
   "execution_count": 11,
   "metadata": {},
   "outputs": [],
   "source": [
    "def block_crossover(self, window):\n",
    "    self.children = []\n",
    "    \n",
    "    for father, mother in self.mates:\n",
    "        father = self.population[father].copy()\n",
    "        father.reshape(self.shape)\n",
    "        mother = self.population[mother].copy()\n",
    "        mother.reshape(self.shape)\n",
    "        \n",
    "        start_lin = np.random.randint(0, self.shape[0]-window[0])\n",
    "        start_col = np.random.randint(0, self.shape[1]-window[1])\n",
    "        \n",
    "        idx = []\n",
    "        for i in range(window[0]):\n",
    "            fun = lambda x: (start_lin+i, start_col+x)\n",
    "            idx += [fun(x) for x in range(window[1])]\n",
    "\n",
    "        father[idx],mother[idx] = mother[idx],father[idx]\n",
    "        self.children += [father.ravel(), mother.ravel()]"
   ]
  },
  {
   "cell_type": "markdown",
   "metadata": {},
   "source": [
    "### Mutation Method\n",
    "**Responsible: Victor**\n",
    "\n",
    "Just permuting the genes of the previous generation might reduce the diversity among individuals by creating childs which are too similar to their parents. To counter this we'll use mutation methods allowing genes to mix within individuals.\n",
    "\n",
    "The core idea of mutation methods are to affect some genes of some individuals with some unpredictable alteration. This granular insertion of randomness can revive diversity in a homogeneous population without causing the quality of individuals to deteriorate (which would conflict with the selection and reproduction steps). There are two core values to ensure the granularity of these changes: the *Mutation Rate* defines a percentage of individuals which will mutate, and the *Mutation Amount* defines the percentage of genes which will mutate per individual.\n",
    "\n",
    "**Necessary parameters:**\n",
    " 1. *MR* - Mutation rate dictates the probability of an individual to mutate.\n",
    " 2. *MA* - Mutation amount defines the amount of genes which will mutate.\n",
    " \n",
    "**Used class variables:** \n",
    " 1. *self.goal.size* - This attribute tells us how many genes are there in a individual.\n",
    " 1. *self.children* - Mutations are applied only on the individuals resulting from the reproduction step.\n",
    " \n",
    "**Defined class variables:**\n",
    " 1. *self.children* - The childrens gene are altered in-place altering this value.\n",
    "\n",
    "The following code defines some methods which will be used to mutate the individuals."
   ]
  },
  {
   "cell_type": "markdown",
   "metadata": {},
   "source": [
    "#### Random Mutation\n",
    "\n",
    "Given a population $P$ where each individual has $G$ genes, randomly pick $MR\\cdot |P|$ individuals and for each of these individuals randomly pick $M\\cdot |G|$ genes to ramdomize within the range $[0-255]$. Quite straightforward."
   ]
  },
  {
   "cell_type": "code",
   "execution_count": 12,
   "metadata": {},
   "outputs": [],
   "source": [
    "def random_mut(self, MR, MA):\n",
    "    # Set some synonyms\n",
    "    size = self.goal.size\n",
    "    pop  = self.children\n",
    "    \n",
    "    # Select individuals to mutate.\n",
    "    mut_amount = int(MR*len(pop)) # amount of individuals to mutate\n",
    "    individuals = choices(pop, k=mut_amount)\n",
    "    \n",
    "    # Change elements to random value.\n",
    "    gene_amount = int(MA*size) # amount of genes to mutate per individual\n",
    "    for i in individuals:\n",
    "        genes = np.random.choice(size, gene_amount, replace=False)\n",
    "        new   = np.random.randint(0, 256, gene_amount, np.uint8)\n",
    "        i[genes] = new # Changes are in-place"
   ]
  },
  {
   "cell_type": "markdown",
   "metadata": {},
   "source": [
    "#### Reduced Mutation\n",
    "\n",
    "This method is quite similar to the previous, still picking the same amount of individuals and genes randomly, but this time exploring a property of images. Small variations on pixels are visible, but a somewhat different shade can still result in a similar image. Therefore, we can restrict the amount of shades the mutated genes can receive, in the interest of getting a \"good enough\" approximation instead of the same exact image as the goal."
   ]
  },
  {
   "cell_type": "code",
   "execution_count": 13,
   "metadata": {},
   "outputs": [],
   "source": [
    "def reduced_mut(self, MR, MA):\n",
    "    # Set some synonyms\n",
    "    size = self.goal.size\n",
    "    pop  = self.children\n",
    "    \n",
    "    # Select individuals to mutate.\n",
    "    mut_amount = int(MR*len(pop)) # amount of individuals to mutate\n",
    "    individuals = choices(pop, k=mut_amount)\n",
    "    \n",
    "    # Change elements to random value.\n",
    "    gene_amount = int(MA*size) # amount of genes to mutate per individual\n",
    "    for i in individuals:\n",
    "        genes = np.random.choice(size, gene_amount, replace=False)\n",
    "        new   = np.random.randint(0, 32, gene_amount, np.uint8)\n",
    "        i[genes] = new*8 # Changes are in-place"
   ]
  },
  {
   "cell_type": "markdown",
   "metadata": {},
   "source": [
    "#### Increment Mutation\n",
    "\n",
    "We'll repeat most of the steps from the previous method, however we'll also constraint how much each gene can mutate based on the original value of the gene. Suppose we will mutate some gene $g$, when doing so this mutation will be constrained to be within some range $[g-\\epsilon,g+\\epsilon]$. The main goal of this method is to have a even more fine control of the mutation. In this case, $\\epsilon$ is not a parameter, but a constant $\\epsilon=10$."
   ]
  },
  {
   "cell_type": "code",
   "execution_count": 14,
   "metadata": {},
   "outputs": [],
   "source": [
    "def inc_mut(self, MR, MA):\n",
    "    # Set some synonyms\n",
    "    size = self.goal.size\n",
    "    pop  = self.children\n",
    "    \n",
    "    # Select individuals to mutate.\n",
    "    mut_amount = int(MR*len(pop)) # amount of individuals to mutate\n",
    "    individuals = choices(pop, k=mut_amount)\n",
    "    \n",
    "    # Change elements to random value.\n",
    "    gene_amount = int(MA*size) # amount of genes to mutate per individual\n",
    "    for i in individuals:\n",
    "        genes = np.random.choice(size, gene_amount, replace=False)\n",
    "        new   = np.random.randint(-10, 11, gene_amount, np.int8)\n",
    "        i[genes] += new # Changes are in-place"
   ]
  },
  {
   "cell_type": "markdown",
   "metadata": {},
   "source": [
    "### Replacement Techniques\n",
    "**Responsible: Eduardo**\n",
    "\n",
    "In this stage we're storing both the parents and their children. Increasing the population size can affect the algorithm performance in terms of memory usage and time as well as the convergence rate due to unfit individuals being kept alive. To mitigate this, it's necessary to choose which individuals will remain in the new generation.\n",
    "\n",
    "**Necessary parameters:**\n",
    " - None.\n",
    " \n",
    "**Used class variables:** \n",
    " 1. *self.children* - Calculates the fitness of every child to apply the replacement method.\n",
    " \n",
    "**Defined class variables:**\n",
    " 1. *self.all_fits* - Will be updated with the fitness of the individuals that survived the replacement.\n",
    " 2. *self.population* - The population will also be updated with the individuals that survived the replacement. "
   ]
  },
  {
   "cell_type": "markdown",
   "metadata": {},
   "source": [
    "#### Elitism\n",
    "\n",
    "The elitism replacement method follows the \"survival of the fittest\" principle, where the children are placed in the same pool as the previous generation, and the $N$ best individuals from that pool are chosen to survive. This speeds up convergence, since the population is always improving before converging."
   ]
  },
  {
   "cell_type": "code",
   "execution_count": 15,
   "metadata": {},
   "outputs": [],
   "source": [
    "def elitism(self):\n",
    "    ''' \n",
    "    Preserve the fittest individuals between both parents and children\n",
    "        \n",
    "    Parameters:\n",
    "        self - GeneticAlgorithm class which the function is being called from\n",
    "    '''\n",
    "    \n",
    "    # Calculate children fitness.\n",
    "    generator = map(lambda x: self.fit(x, self.goal), self.children)\n",
    "    all_fits = np.concatenate((self.all_fits, np.array(list(generator), dtype=np.float64)))\n",
    "    \n",
    "    # Sort fits and population by fits.\n",
    "    idxs = all_fits.argsort()\n",
    "    full = self.population + self.children\n",
    "    full = np.array(full)\n",
    "    \n",
    "    # Combine parents with children, sorted by fitness function\n",
    "    combined = full[idxs]\n",
    "    all_fits = all_fits[idxs]\n",
    "    \n",
    "    # Update population with the fittest individuals\n",
    "    self.population = list(combined[:self.pop_size])\n",
    "    self.all_fits = all_fits[:self.pop_size]"
   ]
  },
  {
   "cell_type": "markdown",
   "metadata": {},
   "source": [
    "#### Steady State\n",
    "\n",
    "The steady state replacement method ensures that all children generated in this generation are included in the next one. This means that, if $N$ children are created, this has the same effect as a generational replacement. If $M<N$, though, those $M$ children will replace the **least fit** parents.\n",
    "\n",
    "This method is interesting because it gives incentive to diversity, since all children are included in the next generation, while still preserving the best from the previous generation."
   ]
  },
  {
   "cell_type": "code",
   "execution_count": 16,
   "metadata": {},
   "outputs": [],
   "source": [
    "def steady_state(self):\n",
    "    ''' \n",
    "    Children replaces the least fit parents.\n",
    "    \n",
    "    Obs: if number of children and parents are equal, this has the same\n",
    "    effect as a generational replacement.\n",
    "    \n",
    "    Parameters:\n",
    "        self - GeneticAlgorithm class which the function is being called from\n",
    "    '''\n",
    "    \n",
    "    pop_sorted = sorted(range(self.pop_size), key = lambda x: self.all_fits[x])\n",
    "    \n",
    "    # Replace worst fits from population with childs\n",
    "    while self.children and pop_sorted:\n",
    "        old = pop_sorted.pop()\n",
    "        new = self.children.pop()\n",
    "        self.population[old] = new\n",
    "        self.all_fits[old] = self.fit(new, self.goal)"
   ]
  },
  {
   "cell_type": "markdown",
   "metadata": {},
   "source": [
    "## **Genetic Algorithm Class**\n",
    "**Responsible: Vinícius (Major) and Victor (Minor)**\n",
    "\n",
    "The class will be responsible for selecting which methods will be used for each of the methods in each of the algorithms steps, as well as define it's parameters and executing the main loop. The main loop will be responsible for properly calling the methods, any in between tasks as wells as check halting conditions and picking the fittest individual found in all generations.\n",
    "\n",
    "##### Preprocessing and Visualization Method\n",
    "To perceive empirically if the quality of each generation as well as the final result, we will use openCV to exhibit the image represented by some individual.\n",
    "\n",
    "##### Fitness Update Method\n",
    "There are multiple steps in which we must use the fitness of every individual in the population, to avoid overhead, we'll define a function which will take care of updating the fitness values list. Calling it only once or twice (depending on the method for survivors selection) to avoid overhead.\n"
   ]
  },
  {
   "cell_type": "code",
   "execution_count": 17,
   "metadata": {},
   "outputs": [],
   "source": [
    "class GeneticAlgorithm():\n",
    "    ''' The GeneticAlgorithm class retains and coordinates all necessary variables and methods\n",
    "        for the execution of the genetic algorithm created.\n",
    "        It's initialization receives the methods which will compute each step of the algorithm\n",
    "        as well as the parameters utilized by each of these methods. A limit integer is also\n",
    "        define to halt the programs execution.\n",
    "        \n",
    "        Methods:\n",
    "            run    - execute the genetic algorithm based on the instance variables/methods\n",
    "            update - recalculate individuals fitness and updates best individual so far\n",
    "            read   - read a image from file, rescale and flatten\n",
    "            show   - reshape flattened image and exhibit with matplotlib\n",
    "    '''\n",
    "    \n",
    "    def __init__(self, \n",
    "                 limit     = 10000, # Max amount of generations to create\n",
    "                 fit       = None,  # Function to calculate individual fitness\n",
    "                 conv      = None,  # Convergence function and parameters\n",
    "                 init      = None,  # Population Initializer function and parameters\n",
    "                 mating    = None,  # Population Selection function and parameters\n",
    "                 crossover = None,  # Selected Indviduals Crossover function and parameters\n",
    "                 mutate    = None,  # Selected Indviduals Mutation function and parameters\n",
    "                 replace   = None,  # Choose which individuals are kept/replaced\n",
    "                ):\n",
    "        \n",
    "        # Halting criterias\n",
    "        self.counter = 0 # Convergence counter\n",
    "        self.limit = limit\n",
    "        self.abort = lambda: bool(self.gen_count >= self.limit)\n",
    "        \n",
    "        # Goal related variables\n",
    "        self.shape = None # Holds original downsized image shape\n",
    "        self.goal  = None # Holds an array with the ideal individual (goal image)\n",
    "        \n",
    "        # Convergence related variables\n",
    "        self.best        = None         # Best individual obtained so far\n",
    "        self.best_fit    = float('inf') # The fit score of the bets individual so far\n",
    "        self.all_fits    = None         # List of each individual fitness\n",
    "        self.best_gen    = None         # Best generation.\n",
    "        self.best_genfit = float('inf')\n",
    "        \n",
    "        # Generation related variables\n",
    "        self.pop_size   = None  # The amount of individuals kept per generation\n",
    "        self.population = None  # List of individual of the current generation\n",
    "        self.gen_count  = 1     # Current generation (first, second, ...)\n",
    "        self.mates      = None  # Paired individuals which will reproduce\n",
    "        self.children   = []\n",
    "    \n",
    "        # Static Genetic Methods Functions\n",
    "        self.fit = fit\n",
    "        define = lambda x: lambda: x[0](self,*x[1]) if x[1] else x[0](self)\n",
    "        self.conv   = define(conv)\n",
    "        self.init   = define(init)\n",
    "        self.mating = define(mating)\n",
    "        self.crossover = define(crossover)\n",
    "        self.mutate = define(mutate)\n",
    "        self.replace = define(replace)\n",
    "        # TODO: MR needs to decrease with time to converge.\n",
    "        \n",
    "        # Auxiliar variables\n",
    "        self.time = 0\n",
    "        self.plot_points = []\n",
    "        \n",
    "        test = [self.conv,self.init,self.mating,self.crossover,self.mutate]\n",
    "        test = all(map(bool, test))\n",
    "        assert test, \"There are undefined steps for the algorithm\"\n",
    "    \n",
    "    def test(self, img_path, res_factor=None, graph=None):\n",
    "        milestones = [1000, 10000, 50000, 100000, 200000, 500000, 1000000, 2000000, 3000000, 4000000, 5000000, 6000000, 7000000, 8000000, 9000000]\n",
    "        self.time = time()\n",
    "        self.read(img_path, res=res_factor)\n",
    "        self.init()\n",
    "        \n",
    "        generator = map(lambda x: self.fit(x, self.goal), self.population)\n",
    "        self.all_fits = np.array(list(generator), dtype=np.float64)\n",
    "        \n",
    "        while not (self.conv() or self.abort()):\n",
    "            print(f\"Current Generation: {self.gen_count:>7} (avg. fit: {self.all_fits.mean():>12.3f}). Current Best: {self.best_fit:>10} (gen {self.best_gen}).\\r\", end='')\n",
    "            \n",
    "            self.mating()     # Generate tuples indicating mating pairs\n",
    "            self.crossover()  # Generate two childs for each couple\n",
    "            self.mutate()     # Apply mutation on all individuals (old and new)\n",
    "            self.replace()    # Select which individuals will be kept\n",
    "            \n",
    "            self.gen_count += 1\n",
    "            self.update()\n",
    "            \n",
    "            if graph and self.gen_count in graph: \n",
    "                self.update_points()\n",
    "            \n",
    "            if self.gen_count in milestones:\n",
    "                self.write(self.best, img_path)\n",
    "            continue\n",
    "        \n",
    "        print(f\"\\nElapsed time: {(time()-self.time):.3f}\")\n",
    "        self.counter = 0\n",
    "        self.show(self.best, compare=True)\n",
    "        self.write(self.best, img_path)\n",
    "        if len(self.plot_points) > 2: self.plot(graph)\n",
    "        \n",
    "    def update(self):\n",
    "        ''' Updates the fitness of every individual in the population.\n",
    "            Also updates the fittest individual found among all generations.\n",
    "        '''\n",
    "        # Update fittest individual\n",
    "        idx = np.argmin(self.all_fits)\n",
    "        if self.all_fits[idx] < self.best_fit: \n",
    "            self.best     = self.population[idx].copy() # save best inividual\n",
    "            self.best_gen = self.gen_count\n",
    "            self.best_fit = self.all_fits[idx]\n",
    "\n",
    "    def update_points(self):\n",
    "        idx = sorted(range(self.pop_size), key=lambda x:self.all_fits[x])\n",
    "        best = self.best_fit\n",
    "        med = self.all_fits[idx[self.pop_size//2]]\n",
    "        worst = self.all_fits[idx[-1]]\n",
    "        self.plot_points.append((best,med,worst))\n",
    "        \n",
    "    def plot(self, graph):\n",
    "        x = graph[:len(self.plot_points)]\n",
    "        y_best,y_med,y_worst = [],[],[]\n",
    "        for b,m,w in self.plot_points:\n",
    "            y_best.append(b)\n",
    "            y_med.append(m)\n",
    "            y_worst.append(w)\n",
    "        plt.plot(x, y_worst, '--', label=\"Worst\")\n",
    "        plt.plot(x, y_med, '--', label=\"Median\")\n",
    "        plt.plot(x, y_best, 'r-',label=\"Best\")\n",
    "        plt.legend()\n",
    "        plt.ylabel('Fitness')\n",
    "        plt.xlabel('Generation')\n",
    "        plt.title('Fitness per Generation')\n",
    "        plt.show()\n",
    "            \n",
    "    def read(self, filepath, res=None):\n",
    "        '''Reads an image in grey scale, resizes it and extends to array.\n",
    "            Params:\n",
    "                filepath - Path to the input image to be read\n",
    "                res - Either tuple with new pixel dimensions or ratio with new scale\n",
    "            Return: \n",
    "                np.array - array with the streched image\n",
    "        '''\n",
    "        img = imread(filepath,0) # load in greyscale\n",
    "        \n",
    "        if res and tuple==type(res):\n",
    "            img = resize(img, res)\n",
    "        elif res and float==type(res):\n",
    "            w = int(img.shape[0]*res)\n",
    "            h = int(img.shape[1]*res)\n",
    "            img = resize(img, (h,w))\n",
    "            \n",
    "        self.shape = img.shape # keep shape\n",
    "        self.goal  = img.reshape(img.size)\n",
    "\n",
    "    def show(self, individual, compare=False):\n",
    "        '''Prints the image represented by an individual.\n",
    "            Params:\n",
    "                individual - Np.array to be reshaped and printed\n",
    "        '''\n",
    "        plt.figure(figsize=(15,15))\n",
    "        \n",
    "        # If compare mode, print goal along side\n",
    "        if compare: \n",
    "            plt.subplot(1,2,2)\n",
    "            goal = self.goal.copy()\n",
    "            goal = goal.reshape(self.shape)\n",
    "            plt.imshow(goal, cmap='gray')\n",
    "            plt.title('Goal')\n",
    "            plt.axis('off')\n",
    "            plt.subplot(1,2,1)\n",
    "            \n",
    "        img = individual.copy()\n",
    "        img = img.reshape(self.shape)\n",
    "        plt.imshow(img, cmap='gray')\n",
    "        plt.title('Individual')\n",
    "        plt.axis('off')\n",
    "        plt.show() \n",
    "    \n",
    "    def write(self, individual, path, folder='Outputs'):\n",
    "        img = individual.copy()\n",
    "        img = img.reshape(self.shape)\n",
    "        name= 'g' + str(self.gen_count) + '_' + basename(path)\n",
    "        imwrite(join(folder, name), img)"
   ]
  },
  {
   "cell_type": "markdown",
   "metadata": {},
   "source": [
    "## **Tests**\n",
    "**Responsible: Eduardo (Major), Victor (Minor) and Vinicius (Minor)**\n",
    "\n",
    "Now that a few variations of each technique are implemented, it's possible to test multiple combinations of those methods and other parameters, and compare the final results."
   ]
  },
  {
   "cell_type": "markdown",
   "metadata": {},
   "source": [
    "### Test Cases\n",
    "\n",
    "As previously mentioned, the test cases are **small**, **monochromatic** images, sometimes with a reduction factor. This is due to the amount of possibilities per individual, the convergence can be very slow if the pixel count is too large. Since we are dealing with a low pixel count, pixel art and sprites are good candidates for a recognizable goal image.\n",
    "\n",
    "Along with those cases, some larger images (200x200) are also used to test scalability."
   ]
  },
  {
   "cell_type": "code",
   "execution_count": 18,
   "metadata": {},
   "outputs": [
    {
     "name": "stdout",
     "output_type": "stream",
     "text": [
      "Current Generation:    5000 (avg. fit: 16996368.810). Current Best: 16969993.0 (gen 4998).\n",
      "Elapsed time: 15.992\n"
     ]
    },
    {
     "data": {
      "image/png": "[encoded data removed]",
      "text/plain": [
       "<Figure size 1080x1080 with 2 Axes>"
      ]
     },
     "metadata": {
      "needs_background": "light"
     },
     "output_type": "display_data"
    },
    {
     "data": {
      "image/png": "[encoded data removed]",
      "text/plain": [
       "<Figure size 432x288 with 1 Axes>"
      ]
     },
     "metadata": {
      "needs_background": "light"
     },
     "output_type": "display_data"
    }
   ],
   "source": [
    "ga = GeneticAlgorithm(\n",
    "    limit     = 5001,\n",
    "    fit       = squared_error,\n",
    "    conv      = (convergence,(10000,)), \n",
    "    init      = (white_and_random,(100,)),\n",
    "    mating    = (roulette,[50]), \n",
    "    crossover = (k_point_crossover,[2]), \n",
    "    mutate    = (reduced_mut,[0.05,0.025]), # Tip higher MR and lower MA\n",
    "    replace   = (steady_state,None),\n",
    "    )\n",
    "\n",
    "ga.test('images/link.png', res_factor=1, graph = list(range(1,5000,500)))"
   ]
  },
  {
   "cell_type": "markdown",
   "metadata": {},
   "source": [
    "## **Result Analysis and Comparisons**"
   ]
  },
  {
   "cell_type": "markdown",
   "metadata": {},
   "source": [
    "## **Notes**\n",
    "\n",
    " - Uniform Crossover is extremely slow since it has to iterate through every gene (and there are a lot of genes) and randomize the possibility of gene exchange. Despite being a possible counter measure to premature convergence, it was simply to slow to use it.\n",
    " - Rergarding mutation rate and mutation ammount, in our case it appeared to be better when we would use the a higher probability of mutation with a smaller number of genes to mutate. The more genes we mutate, the slower is the iteration (as we need to roll the dice more times), so a higher change of mutation was a more efficient approach agains a higher number of genes to mutate.\n",
    " - Different sizes of populations did not seem to interfere significantly with the results, as expected a smaller population converges faster but it alsos converges prematurely most times.\n",
    " - We've noted that the elitism replacement method was killing the diversity within our population. This observation was done through the average fitness of each generation: with this value we were able to note that the average fitness was always equal to the best fit so far. So there was the need to wait for a mutation to insert some diversity in the population. Changing the the replacement method was helpfull to create diversity and improve the convergence rate."
   ]
  },
  {
   "cell_type": "markdown",
   "metadata": {},
   "source": [
    "## **Conclusions**\n",
    "\n",
    "As mentioned previously, the amount of possibilities makes this a hard problem to solve, especially for higher resolution images."
   ]
  }
 ],
 "metadata": {
  "kernelspec": {
   "display_name": "Python 3",
   "language": "python",
   "name": "python3"
  },
  "language_info": {
   "codemirror_mode": {
    "name": "ipython",
    "version": 3
   },
   "file_extension": ".py",
   "mimetype": "text/x-python",
   "name": "python",
   "nbconvert_exporter": "python",
   "pygments_lexer": "ipython3",
   "version": "3.8.3"
  },
  "latex_envs": {
   "LaTeX_envs_menu_present": true,
   "autoclose": false,
   "autocomplete": true,
   "bibliofile": "biblio.bib",
   "cite_by": "apalike",
   "current_citInitial": 1,
   "eqLabelWithNumbers": true,
   "eqNumInitial": 1,
   "hotkeys": {
    "equation": "Ctrl-E",
    "itemize": "Ctrl-I"
   },
   "labels_anchors": false,
   "latex_user_defs": false,
   "report_style_numbering": false,
   "user_envs_cfg": false
  },
  "toc": {
   "base_numbering": 1,
   "nav_menu": {},
   "number_sections": true,
   "sideBar": true,
   "skip_h1_title": false,
   "title_cell": "Table of Contents",
   "title_sidebar": "Contents",
   "toc_cell": false,
   "toc_position": {},
   "toc_section_display": true,
   "toc_window_display": false
  }
 },
 "nbformat": 4,
 "nbformat_minor": 4
}
