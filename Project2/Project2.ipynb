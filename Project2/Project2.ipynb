{
 "cells": [
  {
   "cell_type": "markdown",
   "metadata": {},
   "source": [
    "# **Project 2 - Genetic Algorithm for Image Reconstruction.**\n",
    "**Subject:** MC906/MO416 - Introduction to Artificial Intelligence \n",
    "\n",
    "**Authors:**\n",
    "\n",
    "    Eduardo Barros Innarelli - RA 170161\n",
    "    Victor Ferreira Ferrari  - RA 187890\n",
    "    Vinicius Couto Espindola - RA 188115"
   ]
  },
  {
   "cell_type": "markdown",
   "metadata": {},
   "source": [
    "## **Introduction**\n",
    "### Project\n",
    "The project consists of a study of genetic algorithm-based solutions for **image reconstruction**. A few set aspects of the problem will be explained, implemented and discussed here, such as:\n",
    "\n",
    "- The **modeling** of the problem as an evolutionary problem (chromosomes, genes, etc);\n",
    "- How to **generate the initial population**;\n",
    "- The chosen **fitness function**;\n",
    "- How to **visualize** the result.\n",
    "\n",
    "Along with that, some aspects of the genetic algorithm will be tested and discussed with multiple approaches, such as:\n",
    "\n",
    "- Stop criteria;\n",
    "- Selection technique;\n",
    "- Crossover technique;\n",
    "- Mutation technique;\n",
    "- Generation replacement method.\n",
    "\n",
    "Also, the following **parameters** will be tested with multiple values as well:\n",
    "- Population size;\n",
    "- Mutation rate;\n",
    "- Crossover rate.\n",
    "\n",
    "In the end, different variations of the process will be compared and discussed."
   ]
  },
  {
   "cell_type": "markdown",
   "metadata": {},
   "source": [
    "### Usage\n",
    "\n",
    "This project uses the external libraries _OpenCV_ for image reading and manipulation, _NumPy_ for array manipulation, _Scikit-Learn_ for error calculations, and _MatPlotLib_ for result visualization. The other imports are part of the Standard Python Library."
   ]
  },
  {
   "cell_type": "code",
   "execution_count": 25,
   "metadata": {},
   "outputs": [],
   "source": [
    "# External Libraries\n",
    "from matplotlib import pyplot as plt\n",
    "from sklearn.metrics import mean_squared_error, mean_absolute_error, median_absolute_error\n",
    "import numpy as np\n",
    "import cv2\n",
    "\n",
    "# Python Libraries\n",
    "from random import randint, sample, uniform"
   ]
  },
  {
   "cell_type": "markdown",
   "metadata": {},
   "source": [
    "## **Problem**\n",
    "### General Information\n",
    "The problem consists of, given an image, recreate it from scratch, using the original image only for fitness purposes, to check the similarity between our image and the original. This is not particularly useful in many applications, but can be used as basis for other problems, and is good for the purpose of this project: test different methods of reproduction, mutation, etc.\n",
    "\n",
    "The motivation came from [Roger Johansson's \"Evolution of Mona Lisa\"](https://rogerjohansson.blog/2008/12/07/genetic-programming-evolution-of-mona-lisa/), but instead of using polygons, the pixel values are directly used.\n",
    "\n",
    "### Modeling\n",
    "The modeling of the problem as a GA problem is almost direct: the image is the individual (chromosome) and each of its pixels is a gene. The image can be represented by a multitude of different ways. The chosen way of representation is as a flat array, as this allows for easier operations, especially crossover.\n",
    "\n",
    "### Inputs\n",
    "Due to the huge number of combinations in an image (255 possiblities per pixel), greyscale images are used in this project. Low-resolution images are best for this, but there are methods of reducing the resolution using _OpenCV_."
   ]
  },
  {
   "cell_type": "markdown",
   "metadata": {},
   "source": [
    "## **Methods**"
   ]
  },
  {
   "cell_type": "markdown",
   "metadata": {},
   "source": [
    "### Notes on Structure\n",
    "\n",
    "The code was organized in such a manner which allows us to first define every method used as well as discuss them in separated modules, making each part more readable and comprehesible.\n",
    "\n",
    "In order to merge all components of the code we created a class called GeneticAlgorithm. This class retains some essential variables for the methods defined along the report. In order to allow the methods to access these variables even though they are not a part of the class, every single method must receive as it's first parameter the class instance, prepended into every parameter list."
   ]
  },
  {
   "cell_type": "markdown",
   "metadata": {},
   "source": [
    "### Population Initialization\n",
    "\n",
    "The first step to run a genetic algorithm is creating a population to serve as a starting point for the selection, reproduction and mutation process. This function also handles the initilization of the current best population, the best population overall fitness and best individual fitness, which are paramount for convergence check and final results.   \n",
    "\n",
    "Every method in this section will be subdued by the following parameters:\n",
    " 1. **fitness:** Used to calculate to initialize population score and best individual.\n",
    " 2. **pop_size:** Defines the maximum amount of individuals for the population.\n",
    " \n",
    "**Note:** The amount of genes in each individual is defined by the goal variables in the class. These variables store information of the image we aim to generate, including the amount of pixels (which are the genes in our model).\n",
    "\n",
    "The following code defines some methods which will be used to create a population out of nothing."
   ]
  },
  {
   "cell_type": "code",
   "execution_count": 105,
   "metadata": {},
   "outputs": [],
   "source": [
    "def random(self, fitness, pop_size):\n",
    "    # Generate completely random indivuduals \n",
    "    self.population = []\n",
    "    for i in range(pop_size):\n",
    "        print(f\"Generating Population...  {i:>3}/{pop_size}\\r\", end='')\n",
    "        person = [randint(0,255) for i in range(self.goal.size)]\n",
    "        person = np.asarray(person, dtype=np.uint8)\n",
    "        self.population.append(person)\n",
    "    print(f\"{' '*50}\\r\", end='')"
   ]
  },
  {
   "cell_type": "code",
   "execution_count": 27,
   "metadata": {},
   "outputs": [],
   "source": [
    "def heuristic(self, fitness, pop_size):\n",
    "    pass"
   ]
  },
  {
   "cell_type": "markdown",
   "metadata": {},
   "source": [
    "### Fitness Function\n",
    "**Responsible: Victor**\n",
    "\n",
    "For each individual, we must determine a method which will tell us how apt such individual for the problem in question.\n",
    "\n",
    "The following methods define some method to evaluate how close is an individual to the image we seek to generate."
   ]
  },
  {
   "cell_type": "code",
   "execution_count": 28,
   "metadata": {},
   "outputs": [],
   "source": [
    "def rmse(individual, original):\n",
    "     return mean_squared_error(original, individual, squared=False)"
   ]
  },
  {
   "cell_type": "code",
   "execution_count": 29,
   "metadata": {},
   "outputs": [],
   "source": [
    "def mse(individual, original):\n",
    "     return mean_squared_error(original, individual)"
   ]
  },
  {
   "cell_type": "code",
   "execution_count": 30,
   "metadata": {},
   "outputs": [],
   "source": [
    "def mean_abs_error(individual, original):\n",
    "    return mean_absolute_error(original, individual)"
   ]
  },
  {
   "cell_type": "code",
   "execution_count": 31,
   "metadata": {},
   "outputs": [],
   "source": [
    "def median_abs_error(individual, original):\n",
    "    return median_absolute_error(original, individual)"
   ]
  },
  {
   "cell_type": "markdown",
   "metadata": {},
   "source": [
    "### Halting Criteria\n",
    "\n",
    "The algorithm cannot run forever. In this section will define two methods used for halting the exection. \n",
    " - The first is our convergence check, which relates to the improvement rate of each generation: if the new generations are not improving when compared to it's antecessors, we consider it a convergence. \n",
    " - The second, is a simple fail safe for the scenario where the convergence is too slow. "
   ]
  },
  {
   "cell_type": "code",
   "execution_count": 123,
   "metadata": {},
   "outputs": [],
   "source": [
    "counter = 0\n",
    "\n",
    "def convergence(self, fitness, limit):\n",
    "    ''' Besides identifying convergence, the function will mantain the score of the \n",
    "        best generation so far and also update the fittest individual found in all \n",
    "        generations. All it needs is a fitness function and a limit to evaluate.\n",
    "        \n",
    "        Parameters:\n",
    "            self - GeneticAlgorithm class which the function is being called from\n",
    "            fitness - A function which gives the fitness of an invidual\n",
    "            limit - Amount of iterations wich can be worst than the best one found so far\n",
    "        Return:\n",
    "            Bool - True if converged, False otherwise.\n",
    "    '''\n",
    "    global counter\n",
    "    \n",
    "    # Get fitness average for population\n",
    "    new_genfit = 0\n",
    "    for person in self.population:\n",
    "        fit = fitness(person, self.goal)\n",
    "        new_genfit += fit\n",
    "        if fit < self.best_fit: \n",
    "            self.best     = person # save best inividual\n",
    "            self.best_fit = fit\n",
    "            \n",
    "    new_genfit /= len(self.population) # using simple mean\n",
    "     \n",
    "    # Update number of iterations without improvement\n",
    "    if new_genfit >= self.best_genfit:\n",
    "        counter += 1\n",
    "    else:\n",
    "        counter = 0\n",
    "        self.best_genfit = new_genfit\n",
    "    \n",
    "    # Check convergence\n",
    "    if counter >= limit:\n",
    "        counter = 0\n",
    "        return True\n",
    "    else:\n",
    "        return False "
   ]
  },
  {
   "cell_type": "code",
   "execution_count": 13,
   "metadata": {},
   "outputs": [],
   "source": [
    "def abort(self):\n",
    "    return self.gen_count >= self.max_gens"
   ]
  },
  {
   "cell_type": "markdown",
   "metadata": {},
   "source": [
    "### Selection Criteria\n",
    "\n",
    "In this section we'll define methods responsible for selecting individual of the population responsible for bearing the next generation.\n",
    "\n",
    "Every method in this section will be subdued by the following parameters:\n",
    " 1. **P:** Defines the probability of accepting a certain idividual.\n",
    " 2. **N:** Amount of individuals to be selected for the next generation.\n",
    " 3. **K:** Amount of individuals to partake in a competition.\n",
    " \n",
    "The following code defines some methods which will be used to select individual for the creation of the next generation."
   ]
  },
  {
   "cell_type": "code",
   "execution_count": 32,
   "metadata": {},
   "outputs": [],
   "source": [
    "def competition(self, P, N, K):\n",
    "    pass"
   ]
  },
  {
   "cell_type": "code",
   "execution_count": 33,
   "metadata": {},
   "outputs": [],
   "source": [
    "def roulette(self, P, N, K):\n",
    "    pass"
   ]
  },
  {
   "cell_type": "markdown",
   "metadata": {},
   "source": [
    "### Reproduction Method\n",
    "\n",
    "Reproduction will ensure that the select individuals can exchange genes, preserving some genetic diversity for the next generation.\n",
    "\n",
    "Every method in this section will be subdued by the following parameters:\n",
    " 1. **K:** Amount of crossover points for gene exchange.\n",
    " \n",
    "The following code defines some methods which will be used for reproduction to create the next generation."
   ]
  },
  {
   "cell_type": "code",
   "execution_count": 39,
   "metadata": {},
   "outputs": [],
   "source": [
    "def crosspoint(k, parent1, parent2):\n",
    "    \n",
    "    num_pixels = self.goal.size\n",
    "\n",
    "    # Save k unique random crosspoints in a sorted list\n",
    "    crosspoints = sorted(sample(range(0, num_pixels-1), k))\n",
    "    \n",
    "    # List of crosspoint pairs, adding a pair with last crosspoint\n",
    "    # and last pixel\n",
    "    # Ex: \n",
    "    # 16 pixels, points [1,9,12] -> pairs [(1,9), (9,12), (12,16)]\n",
    "    pairs = list(zip(crosspoints,crosspoints[1:]))\n",
    "    pairs.append(tuple((crosspoints[-1], num_pixels)))\n",
    "        \n",
    "    # Perform crossover in pair range, intercalating pairs\n",
    "    for start, end in pairs[::2]:\n",
    "        parent1[start:end], parent2[start:end] = parent2[start:end], parent1[start:end]\n",
    "            \n",
    "    return (parent1, parent2)"
   ]
  },
  {
   "cell_type": "code",
   "execution_count": null,
   "metadata": {},
   "outputs": [],
   "source": [
    "def uniform_crossover(exchange_prob, parent1, parent2):\n",
    "    \n",
    "    num_pixels = self.goal.size\n",
    "    \n",
    "    # Exchange genes with a given probability\n",
    "    for gene in range(num_pixels):\n",
    "        if uniform(0,1) < exhange_prob:\n",
    "            parent1[gene], parent2[gene] = parent2[gene], parent1[gene]\n",
    "    \n",
    "    return (parent1, parent2)        "
   ]
  },
  {
   "cell_type": "markdown",
   "metadata": {},
   "source": [
    "### Mutation Method\n",
    "**Responsible: Victor**\n",
    "\n",
    "To simply permute the genes of the previous generation might reduce the diversity among individuals by creating childs which are too similar to their parents. To counter this we'll use mutation methods allowing genes to mix within individuals. \n",
    "\n",
    "Every method in this section will be subdued by the following parameters:\n",
    " 1. **MR:** Mutation rate dictates the probability of an individual to mutate.\n",
    " 2. **MA:** Mutation amount defines the amount of genes which will mutate.\n",
    " \n",
    "The following code defines some methods which will be used to mutate the individuals."
   ]
  },
  {
   "cell_type": "code",
   "execution_count": 35,
   "metadata": {},
   "outputs": [],
   "source": [
    "def flip(pop, MR, MA):\n",
    "    \n",
    "    # Select individuals to mutate.\n",
    "    mut_amount = int(MR*len(pop))\n",
    "    individuals = np.random.choice(len(pop), mut_amount, replace=False)\n",
    "    size = pop[0].size\n",
    "    \n",
    "    # Change elements to random value.\n",
    "    gene_amount = int(MA*size)\n",
    "    for i in individuals:\n",
    "        genes = np.random.choice(size, gene_amount, replace=False)\n",
    "        new = np.random.randint(0, 255, gene_amount)\n",
    "        pop[i][genes] = new\n",
    "            \n",
    "    return pop"
   ]
  },
  {
   "cell_type": "code",
   "execution_count": 36,
   "metadata": {},
   "outputs": [],
   "source": [
    "def swap(pop, MR, MA):\n",
    "    \n",
    "    # Select individuals to mutate.\n",
    "    mut_amount = int(MR*len(pop))\n",
    "    individuals = np.random.choice(len(pop), mut_amount, replace=False)\n",
    "    size = pop[0].size\n",
    "    \n",
    "    # Swap genes (TODO: swap sequences?).\n",
    "    gene_amount = int(MA*size)\n",
    "    for i in individuals:\n",
    "        genes1 = np.random.choicee(size, gene_amount, replace=False)\n",
    "        genes2 = np.random.randint(size, gene_amount, replace=False)\n",
    "        pop[i][[genes1,genes2]] = pop[i][[genes2,genes1]]\n",
    "\n",
    "    return pop"
   ]
  },
  {
   "cell_type": "markdown",
   "metadata": {},
   "source": [
    "## **Genetic Algorithm Class**\n",
    "\n",
    "The class will be responsible for selecting which methods will be used for each of the methods in each of the algorithms steps, as well as define it's parameters and executing the main loop. The main loop will be responsible for properly calling the methods, any in between tasks as wells as check halting conditions and picking the fittest individual found in all generations.\n",
    "\n",
    "##### Preprocessing and Visualization Method\n",
    "To perceive empirically if the quality of each generation as well as the final result, we will use openCV to exhibit the image represented by some individual."
   ]
  },
  {
   "cell_type": "code",
   "execution_count": 111,
   "metadata": {},
   "outputs": [],
   "source": [
    "class GeneticAlgorithm():\n",
    "    def __init__(self, fit=None, conv=None, init=None, halt=None, select=None, reprod=None, mutate=None):\n",
    "        # Goal related variables\n",
    "        self.shape = None # Holds original downsized image shape\n",
    "        self.goal  = None # Holds an array with the ideal individual (goal image)\n",
    "        \n",
    "        # Generation related variables\n",
    "        self.population  = None # List of individual of the current generation\n",
    "        self.best        = None # Best individual obtained so far\n",
    "        self.best_fit    = float('inf') # The fit score of the bets individual so far\n",
    "        self.best_genfit = float('inf') # Overall fitness of the fittest population\n",
    "        self.gen_count   = 0 # Current generation (first, second, ...)\n",
    "        \n",
    "        # Static Genetic Methods Functions\n",
    "        define = lambda x: lambda: x[0](self,*x[1]) if x[0] else None\n",
    "        self.conv   = define(conv)\n",
    "        self.init   = define(init)\n",
    "        self.halt   = define(halt)\n",
    "        self.select = define(select)\n",
    "        self.reprod = define(reprod)\n",
    "        self.mutate = define(mutate)\n",
    "        \n",
    "        test = [self.conv,self.init,self.select,self.reprod,self.mutate]\n",
    "        test = all(map(bool, test))\n",
    "        assert test, \"There are undefined steps for the algorithm\"\n",
    "    \n",
    "    def test(self, img_path):\n",
    "        self.read(img_path, res=0.6)\n",
    "        self.init()\n",
    "        while not self.conv():\n",
    "            self.gen_count += 1\n",
    "            print(f\"Current Generation: {self.gen_count:>5}\\r\", end='')\n",
    "            continue\n",
    "        self.show(self.best, compare=True)\n",
    "    \n",
    "    def read(self, filepath, res=None):\n",
    "        '''Reads an image in grey scale, resizes it and extends to array.\n",
    "            Params:\n",
    "                filepath - Path to the input image to be read\n",
    "                res - Either tuple with new pixel dimensions or ratio with new scale\n",
    "            Return: \n",
    "                np.array - array with the streched image\n",
    "        '''\n",
    "        img = cv2.imread(filepath,0) # load in greyscale\n",
    "        \n",
    "        if res and tuple==type(res):\n",
    "            img = cv2.resize(img, res)\n",
    "        elif res and float==type(res):\n",
    "            w = int(img.shape[0]*res)\n",
    "            h = int(img.shape[1]*res)\n",
    "            img = cv2.resize(img, (h,w))\n",
    "        print(img.shape)\n",
    "        self.shape = img.shape # keep shape\n",
    "        self.goal  = img.reshape(img.size)\n",
    "\n",
    "    def show(self, individual, compare=False):\n",
    "        '''Prints the image represented by an individual.\n",
    "            Params:\n",
    "                individual - Np.array to be reshaped and printed\n",
    "        '''\n",
    "        # If compare mode, print goal along side\n",
    "        if compare: \n",
    "            plt.subplot(1,2,2)\n",
    "            goal = self.goal.copy()\n",
    "            goal = goal.reshape(self.shape)\n",
    "            plt.imshow(goal, cmap='gray')\n",
    "            plt.title('Goal')\n",
    "            plt.axis('off')\n",
    "            plt.subplot(1,2,1)\n",
    "            \n",
    "        img = individual.copy()\n",
    "        img = img.reshape(self.shape)\n",
    "        plt.imshow(img, cmap='gray')\n",
    "        plt.title('Individual')\n",
    "        plt.axis('off')\n",
    "        plt.show()    "
   ]
  },
  {
   "cell_type": "code",
   "execution_count": null,
   "metadata": {},
   "outputs": [
    {
     "name": "stdout",
     "output_type": "stream",
     "text": [
      "(577, 480)\n",
      "Generating Population...   38/100\r"
     ]
    }
   ],
   "source": [
    "ga = GeneticAlgorithm(\n",
    "    # conv: convergence func, fitness func and limit iterations\n",
    "    conv   = (convergence,(mse,100)), \n",
    "    init   = (random,(mse,100)), \n",
    "    halt   = (convergence,[None]),\n",
    "    select = (roulette,[None]), \n",
    "    reprod = (crosspoint,[None]), \n",
    "    mutate = (flip,[None])\n",
    "    )\n",
    "\n",
    "ga.test('images\\monalisa.jpg')"
   ]
  },
  {
   "cell_type": "code",
   "execution_count": null,
   "metadata": {},
   "outputs": [],
   "source": [
    "#     def run(self, filename):\n",
    "#         goal = self.read()\n",
    "#         pop = gen_initial_population(POP_SIZE)\n",
    "    \n",
    "#         # Fitness\n",
    "#         fit = []\n",
    "#         for i in pop:\n",
    "#             fit.append(fitness(i))\n",
    "#         fit = np.array(fit)\n",
    "\n",
    "#         # Best\n",
    "#         best_idx = np.argmax(fit)\n",
    "#         best_sol = pop[best_idx]\n",
    "#         best_val = fit[best_idx]\n",
    "\n",
    "#         # Stop criteria\n",
    "#         sol_val = np.arange(N).sum()\n",
    "#         iterations = 0\n",
    "\n",
    "#         while best_val < sol_val and iterations < MAX_ITER:\n",
    "\n",
    "#             # Roulette selection\n",
    "#             sel = selection(pop, fit, POP_SIZE)\n",
    "\n",
    "#             # Reproduction\n",
    "#             for i in range(0, len(sel), 2):\n",
    "#                 pop[i], pop[i+1] = reproduction(sel[i], sel[i+1])\n",
    "\n",
    "#             # Mutation\n",
    "#             mutate_pop(pop, MUT_RATE)\n",
    "\n",
    "#             # Fitness\n",
    "#             for i in range(POP_SIZE):\n",
    "#                 fit[i] = fitness(pop[i])\n",
    "\n",
    "#             # Update Max\n",
    "#             best_idx = np.argmax(fit)\n",
    "#             if fit[best_idx] > best_val:\n",
    "#                 best_sol = pop[best_idx]\n",
    "#                 best_val = fit[best_idx]\n",
    "\n",
    "#             iterations += 1\n",
    "\n",
    "#         # Board\n",
    "#         board = create_board(best_sol)\n",
    "#         print(board)\n",
    "\n",
    "#         print('Solution: ', best_sol)\n",
    "#         print('Iterations: ', iterations)\n",
    "#         print('Solution Value: ', best_val)"
   ]
  },
  {
   "cell_type": "markdown",
   "metadata": {},
   "source": [
    "## **Tests**"
   ]
  },
  {
   "cell_type": "markdown",
   "metadata": {},
   "source": [
    "## **Result Analysis and Comparisons**"
   ]
  },
  {
   "cell_type": "markdown",
   "metadata": {},
   "source": [
    "## **Conclusions**"
   ]
  }
 ],
 "metadata": {
  "kernelspec": {
   "display_name": "Python 3",
   "language": "python",
   "name": "python3"
  },
  "language_info": {
   "codemirror_mode": {
    "name": "ipython",
    "version": 3
   },
   "file_extension": ".py",
   "mimetype": "text/x-python",
   "name": "python",
   "nbconvert_exporter": "python",
   "pygments_lexer": "ipython3",
   "version": "3.8.3"
  },
  "latex_envs": {
   "LaTeX_envs_menu_present": true,
   "autoclose": false,
   "autocomplete": true,
   "bibliofile": "biblio.bib",
   "cite_by": "apalike",
   "current_citInitial": 1,
   "eqLabelWithNumbers": true,
   "eqNumInitial": 1,
   "hotkeys": {
    "equation": "Ctrl-E",
    "itemize": "Ctrl-I"
   },
   "labels_anchors": false,
   "latex_user_defs": false,
   "report_style_numbering": false,
   "user_envs_cfg": false
  },
  "toc": {
   "base_numbering": 1,
   "nav_menu": {},
   "number_sections": true,
   "sideBar": true,
   "skip_h1_title": false,
   "title_cell": "Table of Contents",
   "title_sidebar": "Contents",
   "toc_cell": false,
   "toc_position": {},
   "toc_section_display": true,
   "toc_window_display": false
  }
 },
 "nbformat": 4,
 "nbformat_minor": 4
}
