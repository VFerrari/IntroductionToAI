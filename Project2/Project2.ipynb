{
 "cells": [
  {
   "cell_type": "markdown",
   "metadata": {},
   "source": [
    "# **Assignment - Genetic Algorithm for Image Generation.**\n",
    "**Subject:** MC906/MO416 - Introduction to Artificial Intelligence \n",
    "\n",
    "**Authors:**\n",
    "\n",
    "    Victor Ferreira Ferrari         - RA 187890\n",
    "    Vinicius Couto Espindola        - RA 188115"
   ]
  },
  {
   "cell_type": "markdown",
   "metadata": {},
   "source": [
    "## Introduction"
   ]
  },
  {
   "cell_type": "code",
   "execution_count": 1,
   "metadata": {},
   "outputs": [],
   "source": [
    "import numpy as np"
   ]
  },
  {
   "cell_type": "markdown",
   "metadata": {},
   "source": [
    "The parameters for the problem and the method are below:"
   ]
  },
  {
   "cell_type": "code",
   "execution_count": 2,
   "metadata": {},
   "outputs": [],
   "source": [
    "N = 8\n",
    "POP_SIZE = 4\n",
    "MUT_RATE = 0.5\n",
    "MAX_ITER = 15000"
   ]
  },
  {
   "cell_type": "markdown",
   "metadata": {},
   "source": [
    "The regular execution of this assignment is with N=8, so the original 8-Queens problem.\n",
    "\n",
    "The population in each generation has 4 states, and every new generation replaces the last one. Mutation rate and max iterations are parameters added for this implementation, and their values were decided empirically.\n",
    "\n",
    "The overall best solution is always saved, so that if the iteration count expires, we still have the best solution."
   ]
  },
  {
   "cell_type": "markdown",
   "metadata": {},
   "source": [
    "## Code"
   ]
  },
  {
   "cell_type": "markdown",
   "metadata": {},
   "source": [
    "### Population Initialization\n",
    "\n",
    "The first step to run a genetic algorithm is creating a population to serve as a starting point for the selection, reproduction and mutation process. \n",
    "\n",
    "Every method in this section will be subdued by the following parameters:\n",
    " 1. **population_size:** Defines the maximum amount of individual for the population.\n",
    "\n",
    "The following code defines some methods which will be used to create a population out of nothing."
   ]
  },
  {
   "cell_type": "code",
   "execution_count": 53,
   "metadata": {},
   "outputs": [],
   "source": [
    "def random(population_size):\n",
    "    pass"
   ]
  },
  {
   "cell_type": "code",
   "execution_count": 59,
   "metadata": {},
   "outputs": [],
   "source": [
    "def heuristic(population_size):\n",
    "    pass"
   ]
  },
  {
   "cell_type": "markdown",
   "metadata": {},
   "source": [
    "### Fitness Function\n",
    "\n",
    "For each individual, we must determine a method which will tell us how apt such individual for the problem in question.\n",
    "\n",
    "The following methods define some method to evaluate how close is an individual to the image we seek to generate."
   ]
  },
  {
   "cell_type": "code",
   "execution_count": 60,
   "metadata": {},
   "outputs": [],
   "source": [
    "def fitness(state):\n",
    "     pass"
   ]
  },
  {
   "cell_type": "markdown",
   "metadata": {},
   "source": [
    "### Halting Criteria\n",
    "\n",
    "The algothm cannot run forever. In this section will define two methods used for halting the exection. \n",
    " - The first is our convergence check, which relates to the improvement rate of each generation: if the new generations are not improving when compared to it's antecessors, we consider it a convergence. \n",
    " - The second, is a simple fail safe for the scenario where the convergence is too slow. "
   ]
  },
  {
   "cell_type": "code",
   "execution_count": 61,
   "metadata": {},
   "outputs": [],
   "source": [
    "def convergence():\n",
    "    pass"
   ]
  },
  {
   "cell_type": "code",
   "execution_count": 62,
   "metadata": {},
   "outputs": [],
   "source": [
    "def abort():\n",
    "    pass"
   ]
  },
  {
   "cell_type": "markdown",
   "metadata": {},
   "source": [
    "### Selection Criteria\n",
    "\n",
    "In this section we'll define methods responsible for selecting individual of the population responsible for bearing the next generation.\n",
    "\n",
    "Every method in this section will be subdued by the following parameters:\n",
    " 1. **P:** Defines the probability of accepting a certain idividual.\n",
    " 2. **N:** Amount of individuals to be selected for the next generation.\n",
    " 3. **K:** Amount of individuals to partake in a competition.\n",
    " \n",
    "The following code defines some methods which will be used to select individual for the creation of the next generation."
   ]
  },
  {
   "cell_type": "code",
   "execution_count": 63,
   "metadata": {},
   "outputs": [],
   "source": [
    "def competition(P, N, K):\n",
    "    pass"
   ]
  },
  {
   "cell_type": "code",
   "execution_count": 64,
   "metadata": {},
   "outputs": [],
   "source": [
    "def roullet(P, N, K):\n",
    "    pass"
   ]
  },
  {
   "cell_type": "markdown",
   "metadata": {},
   "source": [
    "### Reproduction Method\n",
    "\n",
    "Reproduction will ensure that the select individuals can exchange genes, preserving some genetic diversity for the next generation.\n",
    "\n",
    "Every method in this section will be subdued by the following parameters:\n",
    " 1. **K:** Amount of crossover points for gene exchange.\n",
    " \n",
    "The following code defines some methods which will be used for reproduction creating new for the creation of the next generation."
   ]
  },
  {
   "cell_type": "code",
   "execution_count": 65,
   "metadata": {},
   "outputs": [],
   "source": [
    "def K_point_cross(K):\n",
    "    pass"
   ]
  },
  {
   "cell_type": "markdown",
   "metadata": {},
   "source": [
    "### Mutation Method\n",
    "\n",
    "To simply permute the genes of the previous generation might reduce the diversity among individuals by creating childs which are too similar to their parents. To counter this we'll use mutation methods allowing genes to mix within individuals. \n",
    "\n",
    "Every method in this section will be subdued by the following parameters:\n",
    " 1. **MR:** Mutation rate dictates the probability of an individual to mutate.\n",
    " 2. **MA:** Mutation amount defines the amount of genes which will mutate.\n",
    " \n",
    "The following code defines some methods which will be used to mutate the individuals."
   ]
  },
  {
   "cell_type": "code",
   "execution_count": 66,
   "metadata": {},
   "outputs": [],
   "source": [
    "def flip(MR, MA):\n",
    "    pass"
   ]
  },
  {
   "cell_type": "code",
   "execution_count": 67,
   "metadata": {},
   "outputs": [],
   "source": [
    "def swap(MR, MA):\n",
    "    pass"
   ]
  },
  {
   "cell_type": "markdown",
   "metadata": {},
   "source": [
    "### Genetic Algorithm Class\n",
    "\n",
    "The class will be responsible for selecting which methods will be used for each of the methods in each of the algorithms steps, as well as define it's parameters and executing the main loop. The main loop will be responsible for properly calling the methods, any in between tasks as wells as check halting conditions and picking the fittest individual found in all generations.\n",
    "\n",
    "##### Preprocessing and Visualization Method\n",
    "To perceive empirically if the quality of each generation as well as the final result, we will use openCV to exhibit the image represented by some individual."
   ]
  },
  {
   "cell_type": "code",
   "execution_count": 87,
   "metadata": {},
   "outputs": [],
   "source": [
    "import cv2\n",
    "from matplotlib import pyplot as plt\n",
    "\n",
    "class GeneticAlgorithm():\n",
    "    def __init__(self, fit, init, select, reprod, mutate):\n",
    "        self.shape = None\n",
    "        self.goal  = None\n",
    "        \n",
    "        func,params = fit\n",
    "        self.fit = {\n",
    "            'default':fit,\n",
    "        }.get(func, None)\n",
    "        self.fit_params = params\n",
    "        \n",
    "        func,params = init\n",
    "        self.init = {\n",
    "            'random':random,\n",
    "            'heuristic':heuristic,\n",
    "        }.get(func, None)\n",
    "        self.init_params = params\n",
    "        \n",
    "        func,params = select\n",
    "        self.select = {\n",
    "            'roullet':roullet,\n",
    "            'competition':competition,\n",
    "        }.get(func, None)\n",
    "        self.select_params = params\n",
    "        \n",
    "        func,params = fit\n",
    "        self.reprod = {\n",
    "            'k-cross':K_point_cross,\n",
    "        }.get(func, None)\n",
    "        self.reprod_params = params\n",
    "        \n",
    "        func,params = fit\n",
    "        self.mutate = {\n",
    "            'flip':flip,\n",
    "            'swap':swap,\n",
    "        }.get(func, None)\n",
    "        self.mutate_params = params\n",
    "        \n",
    "        test = [self.fit,self.init,self.select,self.reprod,self.mutate]\n",
    "        test = map(bool, test)\n",
    "        assert test, \"There are undefined steps for the algorithm\"\n",
    "        \n",
    "#     def run(self, filename):\n",
    "#         goal = self.read()\n",
    "#         pop = gen_initial_population(POP_SIZE)\n",
    "    \n",
    "#         # Fitness\n",
    "#         fit = []\n",
    "#         for i in pop:\n",
    "#             fit.append(fitness(i))\n",
    "#         fit = np.array(fit)\n",
    "\n",
    "#         # Best\n",
    "#         best_idx = np.argmax(fit)\n",
    "#         best_sol = pop[best_idx]\n",
    "#         best_val = fit[best_idx]\n",
    "\n",
    "#         # Stop criteria\n",
    "#         sol_val = np.arange(N).sum()\n",
    "#         iterations = 0\n",
    "\n",
    "#         while best_val < sol_val and iterations < MAX_ITER:\n",
    "\n",
    "#             # Roulette selection\n",
    "#             sel = selection(pop, fit, POP_SIZE)\n",
    "\n",
    "#             # Reproduction\n",
    "#             for i in range(0, len(sel), 2):\n",
    "#                 pop[i], pop[i+1] = reproduction(sel[i], sel[i+1])\n",
    "\n",
    "#             # Mutation\n",
    "#             mutate_pop(pop, MUT_RATE)\n",
    "\n",
    "#             # Fitness\n",
    "#             for i in range(POP_SIZE):\n",
    "#                 fit[i] = fitness(pop[i])\n",
    "\n",
    "#             # Update Max\n",
    "#             best_idx = np.argmax(fit)\n",
    "#             if fit[best_idx] > best_val:\n",
    "#                 best_sol = pop[best_idx]\n",
    "#                 best_val = fit[best_idx]\n",
    "\n",
    "#             iterations += 1\n",
    "\n",
    "#         # Board\n",
    "#         board = create_board(best_sol)\n",
    "#         print(board)\n",
    "\n",
    "#         print('Solution: ', best_sol)\n",
    "#         print('Iterations: ', iterations)\n",
    "#         print('Solution Value: ', best_val)\n",
    "    \n",
    "    def read(self, filepath, res=None):\n",
    "        '''Reads an image in grey scale, resizes it and extends to array.\n",
    "            Params:\n",
    "                filepath - Path to the input image to be read\n",
    "                res - Either tuple with new dimensions or ratios\n",
    "            Return: \n",
    "                np.array - array with the streched image\n",
    "        '''\n",
    "        img = cv2.imread(filepath,0) # load in greyscale\n",
    "        img = cv2.resize(img, res) if res else img\n",
    "        self.shape = img.shape # keep shape\n",
    "        self.goal  = img.reshape(img.size)\n",
    "\n",
    "    def show(self, individual, compare=False):\n",
    "        '''Prints the image represented by an individual.\n",
    "            Params:\n",
    "                individual - Np.array to be reshaped and printed\n",
    "        '''\n",
    "        img = individual.copy()\n",
    "        img = img.reshape(self.shape)\n",
    "        \n",
    "        # If compare mode, print goal along side\n",
    "        if compare: \n",
    "            plt.subplot(1,2,1)\n",
    "            goal = self.goal.copy()\n",
    "            goal = goal.reshape(self.shape)\n",
    "            plt.imshow(img, cmap='gray')\n",
    "            plt.title('Goal')\n",
    "            plt.axis('off')\n",
    "            plt.subplot(1,2,2)\n",
    "            \n",
    "        plt.imshow(img, cmap='gray')\n",
    "        plt.title('Individual')\n",
    "        plt.axis('off')\n",
    "        plt.show()\n",
    "    "
   ]
  },
  {
   "cell_type": "code",
   "execution_count": 88,
   "metadata": {},
   "outputs": [
    {
     "data": {
      "image/png": "[encoded data removed]",
      "text/plain": [
       "<Figure size 432x288 with 2 Axes>"
      ]
     },
     "metadata": {
      "needs_background": "light"
     },
     "output_type": "display_data"
    }
   ],
   "source": [
    "ga = GeneticAlgorithm((None,None), (None,None), (None,None), (None,None), (None,None))\n",
    "ga.read('images\\monalisa.jpg', res=None)\n",
    "ga.show(ga.goal, compare=True)"
   ]
  },
  {
   "cell_type": "code",
   "execution_count": null,
   "metadata": {},
   "outputs": [],
   "source": []
  }
 ],
 "metadata": {
  "kernelspec": {
   "display_name": "Python 3",
   "language": "python",
   "name": "python3"
  },
  "language_info": {
   "codemirror_mode": {
    "name": "ipython",
    "version": 3
   },
   "file_extension": ".py",
   "mimetype": "text/x-python",
   "name": "python",
   "nbconvert_exporter": "python",
   "pygments_lexer": "ipython3",
   "version": "3.8.3"
  },
  "latex_envs": {
   "LaTeX_envs_menu_present": true,
   "autoclose": false,
   "autocomplete": true,
   "bibliofile": "biblio.bib",
   "cite_by": "apalike",
   "current_citInitial": 1,
   "eqLabelWithNumbers": true,
   "eqNumInitial": 1,
   "hotkeys": {
    "equation": "Ctrl-E",
    "itemize": "Ctrl-I"
   },
   "labels_anchors": false,
   "latex_user_defs": false,
   "report_style_numbering": false,
   "user_envs_cfg": false
  },
  "toc": {
   "base_numbering": 1,
   "nav_menu": {},
   "number_sections": true,
   "sideBar": true,
   "skip_h1_title": false,
   "title_cell": "Table of Contents",
   "title_sidebar": "Contents",
   "toc_cell": false,
   "toc_position": {},
   "toc_section_display": true,
   "toc_window_display": false
  }
 },
 "nbformat": 4,
 "nbformat_minor": 4
}
