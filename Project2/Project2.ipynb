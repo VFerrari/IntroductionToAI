{
 "cells": [
  {
   "cell_type": "markdown",
   "metadata": {},
   "source": [
    "# **Project 2 - Genetic Algorithm for Image Reconstruction.**\n",
    "**Subject:** MC906/MO416 - Introduction to Artificial Intelligence \n",
    "\n",
    "**Authors:**\n",
    "\n",
    "    Eduardo Barros Innarelli - RA 170161\n",
    "    Victor Ferreira Ferrari  - RA 187890\n",
    "    Vinicius Couto Espindola - RA 188115"
   ]
  },
  {
   "cell_type": "markdown",
   "metadata": {},
   "source": [
    "## **Introduction**\n",
    "### Project\n",
    "The project consists of a study of genetic algorithm-based solutions for **image reconstruction**. A few set aspects of the problem will be explained, implemented and discussed here, such as:\n",
    "\n",
    "- The **modeling** of the problem as an evolutionary problem (chromosomes, genes, etc);\n",
    "- How to **generate the initial population**;\n",
    "- The chosen **fitness function**;\n",
    "- How to **visualize** the result.\n",
    "\n",
    "Along with that, some aspects of the genetic algorithm will be tested and discussed with multiple approaches, such as:\n",
    "\n",
    "- Stop criteria;\n",
    "- Selection technique;\n",
    "- Crossover technique;\n",
    "- Mutation technique;\n",
    "- Generation replacement method.\n",
    "\n",
    "Also, the following **parameters** will be tested with multiple values as well:\n",
    "- Population size;\n",
    "- Mutation rate;\n",
    "- Crossover rate.\n",
    "\n",
    "In the end, different variations of the process will be compared and discussed."
   ]
  },
  {
   "cell_type": "markdown",
   "metadata": {},
   "source": [
    "### Usage\n",
    "\n",
    "This project uses the external libraries _OpenCV_ for image reading and manipulation, _NumPy_ for array manipulation, _Scikit-Learn_ for error calculations, and _MatPlotLib_ for result visualization. The other imports are part of the Standard Python Library."
   ]
  },
  {
   "cell_type": "code",
   "execution_count": 1,
   "metadata": {},
   "outputs": [],
   "source": [
    "# External Libraries\n",
    "from matplotlib import pyplot as plt\n",
    "from sklearn.metrics import mean_squared_error, mean_absolute_error, median_absolute_error\n",
    "import numpy as np\n",
    "import cv2\n",
    "\n",
    "# Python Libraries\n",
    "from random import randint, sample, uniform, shuffle, choices"
   ]
  },
  {
   "cell_type": "markdown",
   "metadata": {},
   "source": [
    "## **Problem**\n",
    "### General Information\n",
    "The problem consists of, given an image, recreate it from scratch, using the original image only for fitness purposes, to check the similarity between our image and the original. This is not particularly useful in many applications, but can be used as basis for other problems, and is good for the purpose of this project: test different methods of reproduction, mutation, etc.\n",
    "\n",
    "The motivation came from [Roger Johansson's \"Evolution of Mona Lisa\"](https://rogerjohansson.blog/2008/12/07/genetic-programming-evolution-of-mona-lisa/), but instead of using polygons, the pixel values are directly used.\n",
    "\n",
    "### Modeling\n",
    "The modeling of the problem as a GA problem is almost direct: the image is the individual (chromosome) and each of its pixels is a gene. The image can be represented by a multitude of different ways. The chosen way of representation is as a flat array, as this allows for easier operations, especially crossover.\n",
    "\n",
    "### Inputs\n",
    "Due to the huge number of combinations in an image (255 possiblities per pixel), greyscale images are used in this project. Low-resolution images are best for this, but there are methods of reducing the resolution using _OpenCV_."
   ]
  },
  {
   "cell_type": "markdown",
   "metadata": {},
   "source": [
    "## **Methods**"
   ]
  },
  {
   "cell_type": "markdown",
   "metadata": {},
   "source": [
    "### Notes on Structure\n",
    "\n",
    "The code was organized in such a manner which allows us to first define every method used as well as discuss them in separated modules, making each part more readable and comprehesible.\n",
    "\n",
    "In order to merge all components of the code we created a class called GeneticAlgorithm. This class retains some essential variables for the methods defined along the report. In order to allow the methods to access these variables even though they are not a part of the class, every single method must receive as it's first parameter the class instance, prepended into every parameter list."
   ]
  },
  {
   "cell_type": "markdown",
   "metadata": {},
   "source": [
    "### Population Initialization\n",
    "\n",
    "The first step to run a genetic algorithm is creating a population to serve as a starting point for the selection, reproduction and mutation process. This function also handles the initilization of the current best population, the best population overall fitness and best individual fitness, which are paramount for convergence check and final results.   \n",
    "\n",
    "Every method in this section will be subdued by the following parameters:\n",
    " 1. **fitness:** Used to calculate to initialize population score and best individual.\n",
    " 2. **pop_size:** Defines the maximum amount of individuals for the population.\n",
    " \n",
    "**Note:** The amount of genes in each individual is defined by the goal variables in the class. These variables store information of the image we aim to generate, including the amount of pixels (which are the genes in our model).\n",
    "\n",
    "The following code defines some methods which will be used to create a population out of nothing."
   ]
  },
  {
   "cell_type": "code",
   "execution_count": 2,
   "metadata": {},
   "outputs": [],
   "source": [
    "def random(self, pop_size):\n",
    "    # Generate completely random indivuduals \n",
    "    self.population = []\n",
    "    for i in range(pop_size):\n",
    "        print(f\"Generating Population...  {i:>3}/{pop_size}\\r\", end='')\n",
    "        person = [randint(0,255) for i in range(self.goal.size)]\n",
    "        person = np.asarray(person, dtype=np.uint8)\n",
    "        self.population.append(person)\n",
    "    self.pop_size = pop_size\n",
    "    print(f\"{' '*50}\\r\", end='')"
   ]
  },
  {
   "cell_type": "code",
   "execution_count": 3,
   "metadata": {},
   "outputs": [],
   "source": [
    "def heuristic(self, pop_size):\n",
    "    pass"
   ]
  },
  {
   "cell_type": "markdown",
   "metadata": {},
   "source": [
    "### Fitness Function\n",
    "**Responsible: Victor**\n",
    "\n",
    "For each individual, we must determine a method which will tell us how apt such individual for the problem in question.\n",
    "\n",
    "The following methods define some method to evaluate how close is an individual to the image we seek to generate."
   ]
  },
  {
   "cell_type": "code",
   "execution_count": 4,
   "metadata": {},
   "outputs": [],
   "source": [
    "def rmse(individual, original):\n",
    "     return np.sqrt(mean_squared_error(original, individual))"
   ]
  },
  {
   "cell_type": "code",
   "execution_count": 5,
   "metadata": {},
   "outputs": [],
   "source": [
    "def mse(individual, original):\n",
    "     return mean_squared_error(original, individual)"
   ]
  },
  {
   "cell_type": "code",
   "execution_count": 6,
   "metadata": {},
   "outputs": [],
   "source": [
    "def mean_abs_error(individual, original):\n",
    "    return mean_absolute_error(original, individual)"
   ]
  },
  {
   "cell_type": "code",
   "execution_count": 7,
   "metadata": {},
   "outputs": [],
   "source": [
    "def median_abs_error(individual, original):\n",
    "    return median_absolute_error(original, individual)"
   ]
  },
  {
   "cell_type": "code",
   "execution_count": 8,
   "metadata": {},
   "outputs": [],
   "source": [
    "def correct_pixels(individual, original):\n",
    "    return np.count_nonzero(original - individual)"
   ]
  },
  {
   "cell_type": "markdown",
   "metadata": {},
   "source": [
    "### Convergence Criteria\n",
    "\n",
    "The algorithm cannot run forever. In this section will define a convergence method for halting the program's exection. \n",
    "\n",
    "The convergence function must identify when the algorithm's improvement rate has significantly decreased or even stalled. To do so, it must know the overall quality of the current population, which can be easily calculated with the sum of every indivudual's fitness score. Let's call this overall finess the generation fitness. We can estimate when the algorithm is decreasing it's evolution rate (or improvement rate) by checking how many generations have passed since the best generation so far was achieved: the more unimproved generations, the more likely is has converged. This is what the convergence method will do.\n",
    "\n",
    "**Note:** even checking for convergence, the algorithm might still present sufficiently small improvements to avoid convergence, however, they might be so small that it will take a enormous amount of time to converge. As a failsafe to this scenario, we will limit the total amount of generations that can be created from withing the GeneticAlgorithm class."
   ]
  },
  {
   "cell_type": "code",
   "execution_count": 9,
   "metadata": {},
   "outputs": [],
   "source": [
    "def convergence(self, limit):\n",
    "    ''' Identifies convergence and updates fittest individual found so far \n",
    "        \n",
    "        Parameters:\n",
    "            self - GeneticAlgorithm class which the function is being called from\n",
    "            limit - Amount of iterations wich can be worst than the best one found so far\n",
    "        Return:\n",
    "            Bool - True if converged, False otherwise.\n",
    "    '''\n",
    "    # Get fitness average for population\n",
    "    new_genfit = self.all_fits.min()\n",
    "     \n",
    "    # Update number of iterations without improvement\n",
    "    if new_genfit >= self.best_genfit:\n",
    "        self.counter += 1\n",
    "    else:\n",
    "        self.counter = 0\n",
    "        self.best_genfit = new_genfit\n",
    "    \n",
    "    # Check convergence\n",
    "    if self.counter >= limit:\n",
    "        self.counter = 0\n",
    "        return True\n",
    "    else:\n",
    "        return False "
   ]
  },
  {
   "cell_type": "markdown",
   "metadata": {},
   "source": [
    "### Parents Selection\n",
    "\n",
    "In this section we'll define methods responsible for selecting individual of the population responsible for bearing the next generation.\n",
    "\n",
    "Every method in this section will be subdued by the following parameters:\n",
    " 1. **P:** Defines the probability of accepting a certain idividual.\n",
    " 2. **N:** Amount of couples to be selected for mating.\n",
    " 3. **K:** Amount of individuals to partake in a competition.\n",
    " \n",
    "The following code defines some methods which will be used to select individual for the creation of the next generation.\n",
    "\n",
    "# REVISAR"
   ]
  },
  {
   "cell_type": "code",
   "execution_count": 10,
   "metadata": {},
   "outputs": [],
   "source": [
    "def tournament(self, k):\n",
    "    pool = list(range(len(self.population)))\n",
    "    pairs = len(self.population)//2\n",
    "    winners = []\n",
    "\n",
    "    for i in range(2*pairs):\n",
    "        competitors = sample(pool, k=k)\n",
    "        winner = max(competitors, key=lambda x: self.all_fits[x])\n",
    "        pool.remove(winner) # remove winner from pool\n",
    "        winners.append(winner)\n",
    "    \n",
    "    self.mates = list(zip(winners[::2],winners[1::2]))"
   ]
  },
  {
   "cell_type": "code",
   "execution_count": 11,
   "metadata": {},
   "outputs": [],
   "source": [
    "def ranked(self):\n",
    "    idxs  = list(reversed(range(len(self.population))))\n",
    "    probs = list(map(sum(idxs).__rtruediv__, idxs))\n",
    "    ranks = sorted(idxs, key=lambda x: self.all_fits[x])\n",
    " \n",
    "    # The line bellow implies: fetch 2*N elements from ranks considering \n",
    "    # a probability probs[i] for each element i in ranks (sum(probs)=1)\n",
    "    winners = np.random.choice(ranks, size=self.pop_size//2, p=probs, replace=False)\n",
    "    \n",
    "    self.mates = list(zip(winners[::2],winners[1::2]))"
   ]
  },
  {
   "cell_type": "markdown",
   "metadata": {},
   "source": [
    "### Crossover Techniques\n",
    "\n",
    "In this section we'll define methods that generate descendants from selected parents. \n",
    "\n",
    "Based on genetic recombination, crossover exchanges genes between two individuals in a stochastic manner, resulting in a new one. Computationally, the way genes are swapped depends on the method implemented. By reproducting, the population preserves genetic diversity between generations."
   ]
  },
  {
   "cell_type": "code",
   "execution_count": 18,
   "metadata": {},
   "outputs": [],
   "source": [
    "def k_point_crossover(self, k):\n",
    "    ''' \n",
    "    For each couple, K points are picked randomly from their chromossomes and\n",
    "    genes between these points are swapped, intercalating pairs of points.\n",
    "    \n",
    "    Parameters:\n",
    "        self - GeneticAlgorithm class which the function is being called from\n",
    "        k - Amount of crossover points for gene exchange\n",
    "    '''\n",
    "    \n",
    "    num_genes = self.goal.size\n",
    "    self.children, self.child_fits = [],[]\n",
    "\n",
    "    for father, mother in self.mates:\n",
    "        # Save k unique random crosspoints in a sorted list\n",
    "        crosspoints = sorted(sample(range(0, num_genes-1), k))\n",
    "        \n",
    "        # Deep copy to freely change values\n",
    "        father = self.population[father].copy()\n",
    "        mother = self.population[mother].copy()\n",
    "        \n",
    "        # List of crosspoint pairs, adding a pair with last crosspoint\n",
    "        # and last pixel\n",
    "        # Ex: \n",
    "        # 16 pixels, points [1,9,12] -> pairs [(1,9), (9,12), (12,16)]\n",
    "        pairs = list(zip(crosspoints,crosspoints[1:]))\n",
    "        pairs.append(tuple((crosspoints[-1], num_genes)))\n",
    "\n",
    "        # Perform crossover in pair range, intercalating pairs\n",
    "        for start, end in pairs[::2]:\n",
    "            father[start:end], mother[start:end] = mother[start:end], father[start:end]\n",
    "        \n",
    "        self.children   += [father, mother]\n",
    "        self.child_fits += [self.fit(father, self.goal), self.fit(mother,self.goal)]        "
   ]
  },
  {
   "cell_type": "code",
   "execution_count": 19,
   "metadata": {},
   "outputs": [],
   "source": [
    "def uniform_crossover(self, exchange_prob):\n",
    "    '''\n",
    "    For each couple, it's genes are exchanged with a given probability.\n",
    "    \n",
    "    Parameters:\n",
    "        self - GeneticAlgorithm class which the function is being called from\n",
    "        exchange_prob - Probability of gene being exchanged between parents\n",
    "    '''\n",
    "    \n",
    "    num_genes = self.goal.size\n",
    "    self.children, self.child_fits = [],[]\n",
    "    \n",
    "    for father, mother in self.mates:\n",
    "        \n",
    "        # Deep copy to freely change values\n",
    "        father = self.population[father].copy()\n",
    "        mother = self.population[mother].copy()\n",
    "        \n",
    "        # Exchange genes with a given probability\n",
    "        for gene in range(num_genes):\n",
    "            if uniform(0,1) < exhange_prob:\n",
    "                father[gene], mother[gene] = mother[gene], father[gene]\n",
    "                \n",
    "        self.children   += [father, mother]\n",
    "        self.child_fits += [self.fit(father, self.goal), self.fit(mother,self.goal)] "
   ]
  },
  {
   "cell_type": "markdown",
   "metadata": {},
   "source": [
    "### Mutation Method\n",
    "**Responsible: Victor**\n",
    "\n",
    "To simply permute the genes of the previous generation might reduce the diversity among individuals by creating childs which are too similar to their parents. To counter this we'll use mutation methods allowing genes to mix within individuals. \n",
    "\n",
    "Every method in this section will be subdued by the following parameters:\n",
    " 1. **MR:** Mutation rate dictates the probability of an individual to mutate.\n",
    " 2. **MA:** Mutation amount defines the amount of genes which will mutate.\n",
    " \n",
    "The following code defines some methods which will be used to mutate the individuals."
   ]
  },
  {
   "cell_type": "code",
   "execution_count": 16,
   "metadata": {},
   "outputs": [],
   "source": [
    "def flip(self, MR, MA):\n",
    "    # Set some synonyms\n",
    "    size = self.goal.size\n",
    "    pop  = self.population + self.children # applies mutations on both sets\n",
    "    \n",
    "    # Select individuals to mutate.\n",
    "    mut_amount = int(MR*len(pop)) # amount of individuals to mutate\n",
    "    individuals = choices(pop, k=mut_amount)\n",
    "    \n",
    "    # Change elements to random value.\n",
    "    gene_amount = int(MA*size) # amount of genes to mutate per individual\n",
    "    for i in individuals:\n",
    "        genes = np.random.choice(size, gene_amount, replace=False)\n",
    "        new   = np.random.randint(0, 255, gene_amount, np.uint8)\n",
    "        i[genes] = new # Changes are in-place"
   ]
  },
  {
   "cell_type": "code",
   "execution_count": 17,
   "metadata": {},
   "outputs": [],
   "source": [
    "def swap(self, MR, MA):\n",
    "    # Set some sinonyms\n",
    "    size = self.goal.size\n",
    "    pop  = self.population\n",
    "    \n",
    "    # Select individuals to mutate.\n",
    "    mut_amount = int(MR*len(pop))\n",
    "    individuals = choices(pop, k=mut_amount)\n",
    "    \n",
    "    # Swap genes (TODO: swap sequences?).\n",
    "    gene_amount = int(MA*size)\n",
    "    for i in individuals:\n",
    "        genes1 = np.random.choice(size, gene_amount, replace=False)\n",
    "        genes2 = np.random.choice(size, gene_amount, replace=False)\n",
    "        i[genes1], i[genes2] = i[genes2], i[genes1]"
   ]
  },
  {
   "cell_type": "markdown",
   "metadata": {},
   "source": [
    "### Replacement Techniques\n",
    "\n",
    "In this stage we're storing both the parents and their children. Increasing the population size can affect the algorithm performance in terms of memory usage and time as well as the convergence rate due to unfit individuals being kept alive. To mitigate this, it's necessary to choose which individuals will remain in the new generation."
   ]
  },
  {
   "cell_type": "code",
   "execution_count": 27,
   "metadata": {},
   "outputs": [],
   "source": [
    "def elitism(self):\n",
    "    ''' \n",
    "    The entire population is replaced except for the fittest parent, \n",
    "    which is kept in place of the least fit child.\n",
    "    \n",
    "    Obs: to work, number of children and parents must be the same.\n",
    "    \n",
    "    Parameters:\n",
    "        self - GeneticAlgorithm class which the function is being called from\n",
    "    '''\n",
    "    \n",
    "    pop_size = len(self.population)\n",
    "\n",
    "    # Initially swap entirely population with children\n",
    "    old, self.population = self.population, self.children\n",
    "    \n",
    "    # Swap least fit child with fittest parent\n",
    "    fittest_parent = max(range(pop_size), key = lambda x: self.all_fits[x])\n",
    "    least_fit_child = min(range(pop_size), key = lambda x: self.child_fits[x])\n",
    "    self.population[least_fit_child] = old[fittest_parent]\n",
    "    \n",
    "    # Update fitness list\n",
    "    # OBS: CHECAR SE A ORDEM NAS LISTAS SE MANTÉM A MESMA DURANTE O ALGORITMO.\n",
    "    self.child_fits[least_fit_child] = self.all_fits[fittest_parent]\n",
    "    self.all_fits = self.child_fits"
   ]
  },
  {
   "cell_type": "code",
   "execution_count": 44,
   "metadata": {},
   "outputs": [],
   "source": [
    "def steady_state(self):\n",
    "    ''' \n",
    "    Children replaces the least fit parents.\n",
    "    \n",
    "    Obs: if number of children and parents are equal, this have the same\n",
    "    effect as a generational replacement.\n",
    "    \n",
    "    Parameters:\n",
    "        self - GeneticAlgorithm class which the function is being called from\n",
    "    '''\n",
    "    \n",
    "    pop_size = len(self.population)\n",
    "    pop_sorted = sorted(range(pop_size), key = lambda x: self.all_fits[x])\n",
    "    \n",
    "    # Replace worst fits from population with childs\n",
    "    while self.children and pop_sorted:\n",
    "        old = pop_sorted.pop()\n",
    "        self.population[old] = self.children.pop()\n",
    "        self.all_fits[old] = self.child_fits.pop()"
   ]
  },
  {
   "cell_type": "markdown",
   "metadata": {},
   "source": [
    "## **Genetic Algorithm Class**\n",
    "\n",
    "The class will be responsible for selecting which methods will be used for each of the methods in each of the algorithms steps, as well as define it's parameters and executing the main loop. The main loop will be responsible for properly calling the methods, any in between tasks as wells as check halting conditions and picking the fittest individual found in all generations.\n",
    "\n",
    "##### Preprocessing and Visualization Method\n",
    "To perceive empirically if the quality of each generation as well as the final result, we will use openCV to exhibit the image represented by some individual.\n",
    "\n",
    "##### Fitness Update Method\n",
    "There are multiple steps in which we must use the fitness of every individual in the population, to avoid overhead, we'll define a function which will take care of updating the fitness values list. Calling it only once or twice (depending on the method for survivors selection) to avoid overhead.\n"
   ]
  },
  {
   "cell_type": "code",
   "execution_count": 51,
   "metadata": {},
   "outputs": [],
   "source": [
    "class GeneticAlgorithm():\n",
    "    ''' The GeneticAlgorithm class retains and coordinates all necessary variables and methods\n",
    "        for the execution of the genetic algorithm created.\n",
    "        It's initialization receives the methods which will compute each step of the algorithm\n",
    "        as well as the parameters utilized by each of these methods. A limit integer is also\n",
    "        define to halt the programs execution.\n",
    "        \n",
    "        Methods:\n",
    "            run    - execute the genetic algorithm based on the instance variables/methods\n",
    "            update - recalculate individuals fitness and updates best individual so far\n",
    "            read   - read a image from file, rescale and flatten\n",
    "            show   - reshape flattened image and exhibit with matplotlib\n",
    "    '''\n",
    "    \n",
    "    def __init__(self, \n",
    "                 limit     = 10000, # Max amount of generations to create\n",
    "                 fit       = None,  # Function to calculate individual fitness\n",
    "                 conv      = None,  # Convergence function and parameters\n",
    "                 init      = None,  # Population Initializer function and parameters\n",
    "                 mating    = None,  # Population Selection function and parameters\n",
    "                 crossover = None,  # Selected Indviduals Crossover function and parameters\n",
    "                 mutate    = None,  # Selected Indviduals Mutation function and parameters\n",
    "                 replace   = None,  # Choose which individuals are kept/replaced\n",
    "                ):\n",
    "        \n",
    "        # Halting criterias\n",
    "        self.counter = 0 # Convergence counter\n",
    "        self.limit = limit\n",
    "        self.abort = lambda: bool(self.gen_count >= self.limit)\n",
    "        \n",
    "        # Goal related variables\n",
    "        self.shape = None # Holds original downsized image shape\n",
    "        self.goal  = None # Holds an array with the ideal individual (goal image)\n",
    "        \n",
    "        # Convergence related variables\n",
    "        self.best        = None         # Best individual obtained so far\n",
    "        self.best_fit    = float('inf') # The fit score of the bets individual so far\n",
    "        self.all_fits    = None         # List of each individual fitness\n",
    "        self.best_genfit = float('inf') # Overall fitness of the fittest population\n",
    "        \n",
    "        # Generation related variables\n",
    "        self.pop_size   = None  # The amount of individuals kept per generation\n",
    "        self.population = None  # List of individual of the current generation\n",
    "        self.gen_count  = 1     # Current generation (first, second, ...)\n",
    "        self.mates      = None  # Paired individuasl which will reproduce\n",
    "        self.children   = []\n",
    "    \n",
    "        # Static Genetic Methods Functions\n",
    "        self.fit = fit\n",
    "        define = lambda x: lambda: x[0](self,*x[1]) if x[1] else x[0](self)\n",
    "        self.conv   = define(conv)\n",
    "        self.init   = define(init)\n",
    "        self.mating = define(mating)\n",
    "        self.crossover = define(crossover)\n",
    "        self.mutate = define(mutate)\n",
    "        self.replace = define(replace)\n",
    "        # TODO: MR needs to decrease with time to converge.\n",
    "        \n",
    "        test = [self.conv,self.init,self.mating,self.crossover,self.mutate]\n",
    "        test = all(map(bool, test))\n",
    "        assert test, \"There are undefined steps for the algorithm\"\n",
    "    \n",
    "    def test(self, img_path):\n",
    "        self.read(img_path, res=0.6)\n",
    "        self.init()\n",
    "        self.update()\n",
    "        \n",
    "        while not (self.conv() or self.abort()):\n",
    "            print(f\"Current Generation: {self.gen_count:>5}\\r\", end='')\n",
    "            \n",
    "            self.mating()     # Generate tuples indicating mating pairs\n",
    "            self.crossover()  # Generate two childs for each couple\n",
    "            self.mutate()     # Apply mutation on all individuals (old and new)\n",
    "            self.replace()    # Select which individuals will be kept\n",
    "            \n",
    "            self.gen_count += 1\n",
    "            self.update()\n",
    "            continue\n",
    "            \n",
    "        self.counter = 0\n",
    "        print(\"\\nBest: \", self.best_fit)\n",
    "        self.show(self.best, compare=True)\n",
    "        \n",
    "    def update(self):\n",
    "        ''' Updates the fitness of every individual in the population.\n",
    "            Also updates the fittest individual found among all generations.\n",
    "        '''\n",
    "        # Get fitness for each individual and update fittest individual\n",
    "        generator = map(lambda x: self.fit(x, self.goal), self.population)\n",
    "        self.all_fits = np.asarray(list(generator))\n",
    "        new_min = self.all_fits.min()\n",
    "        if new_min < self.best_fit: \n",
    "            idx = np.argmin(self.all_fits)\n",
    "            self.best     = self.population[idx] # save best inividual\n",
    "            self.best_fit = new_min\n",
    "\n",
    "    def read(self, filepath, res=None):\n",
    "        '''Reads an image in grey scale, resizes it and extends to array.\n",
    "            Params:\n",
    "                filepath - Path to the input image to be read\n",
    "                res - Either tuple with new pixel dimensions or ratio with new scale\n",
    "            Return: \n",
    "                np.array - array with the streched image\n",
    "        '''\n",
    "        img = cv2.imread(filepath,0) # load in greyscale\n",
    "        \n",
    "        if res and tuple==type(res):\n",
    "            img = cv2.resize(img, res)\n",
    "        elif res and float==type(res):\n",
    "            w = int(img.shape[0]*res)\n",
    "            h = int(img.shape[1]*res)\n",
    "            img = cv2.resize(img, (h,w))\n",
    "            \n",
    "        self.shape = img.shape # keep shape\n",
    "        self.goal  = img.reshape(img.size)\n",
    "\n",
    "    def show(self, individual, compare=False):\n",
    "        '''Prints the image represented by an individual.\n",
    "            Params:\n",
    "                individual - Np.array to be reshaped and printed\n",
    "        '''\n",
    "        plt.figure(figsize=(15,15))\n",
    "        \n",
    "        # If compare mode, print goal along side\n",
    "        if compare: \n",
    "            plt.subplot(1,2,2)\n",
    "            goal = self.goal.copy()\n",
    "            goal = goal.reshape(self.shape)\n",
    "            plt.imshow(goal, cmap='gray')\n",
    "            plt.title('Goal')\n",
    "            plt.axis('off')\n",
    "            plt.subplot(1,2,1)\n",
    "            \n",
    "        img = individual.copy()\n",
    "        img = img.reshape(self.shape)\n",
    "        plt.imshow(img, cmap='gray')\n",
    "        plt.title('Individual')\n",
    "        plt.axis('off')\n",
    "        plt.show()    "
   ]
  },
  {
   "cell_type": "markdown",
   "metadata": {},
   "source": [
    "## **Tests**\n",
    "\n",
    "Now that a few variations of each technique are implemented, it's possible to test multiple combinations of those methods and other parameters, and compare the final results.\n",
    "\n",
    "As previously mentioned, the test cases are **small**, **monochromatic** images. This is due to the amount of possibilities per individual, the convergence can be very slow if the pixel count is too large."
   ]
  },
  {
   "cell_type": "code",
   "execution_count": null,
   "metadata": {},
   "outputs": [
    {
     "name": "stdout",
     "output_type": "stream",
     "text": [
      "Current Generation:  8891                         \r"
     ]
    }
   ],
   "source": [
    "ga = GeneticAlgorithm(\n",
    "    limit     = 10000,\n",
    "    fit       = mse,\n",
    "    conv      = (convergence,(50,)), \n",
    "    init      = (random,[80]),\n",
    "    mating    = (ranked,None), \n",
    "    crossover = (k_point_crossover,(79,)), \n",
    "    mutate    = (flip,[0.4,0.3]), # Tip higher MR and lower MA\n",
    "    replace   = (fittest,(0))\n",
    "    )\n",
    "\n",
    "ga.test('images/flickr.png')"
   ]
  },
  {
   "cell_type": "code",
   "execution_count": null,
   "metadata": {},
   "outputs": [],
   "source": [
    "#         while best_val < sol_val and iterations < MAX_ITER:\n",
    "\n",
    "#             # Roulette selection\n",
    "#             sel = selection(pop, fit, POP_SIZE)\n",
    "\n",
    "#             # Reproduction\n",
    "#             for i in range(0, len(sel), 2):\n",
    "#                 pop[i], pop[i+1] = reproduction(sel[i], sel[i+1])\n",
    "\n",
    "#             # Mutation\n",
    "#             mutate_pop(pop, MUT_RATE)\n",
    "\n",
    "#             # Fitness\n",
    "#             for i in range(POP_SIZE):\n",
    "#                 fit[i] = fitness(pop[i])\n",
    "\n",
    "#             # Update Max\n",
    "#             best_idx = np.argmax(fit)\n",
    "#             if fit[best_idx] > best_val:\n",
    "#                 best_sol = pop[best_idx]\n",
    "#                 best_val = fit[best_idx]\n",
    "\n",
    "#             iterations += 1"
   ]
  },
  {
   "cell_type": "markdown",
   "metadata": {},
   "source": [
    "## **Result Analysis and Comparisons**"
   ]
  },
  {
   "cell_type": "markdown",
   "metadata": {},
   "source": [
    "## **Conclusions**\n",
    "\n",
    "As mentioned previously, the amount of possibilities makes this a hard problem to solve, especially for higher resolution images."
   ]
  }
 ],
 "metadata": {
  "kernelspec": {
   "display_name": "Python 3.6.9 64-bit ('mc906': virtualenv)",
   "language": "python",
   "name": "python36964bitmc906virtualenv7dec5718c7b3422688b8879a7762f26b"
  },
  "language_info": {
   "codemirror_mode": {
    "name": "ipython",
    "version": 3
   },
   "file_extension": ".py",
   "mimetype": "text/x-python",
   "name": "python",
   "nbconvert_exporter": "python",
   "pygments_lexer": "ipython3",
   "version": "3.6.9"
  },
  "latex_envs": {
   "LaTeX_envs_menu_present": true,
   "autoclose": false,
   "autocomplete": true,
   "bibliofile": "biblio.bib",
   "cite_by": "apalike",
   "current_citInitial": 1,
   "eqLabelWithNumbers": true,
   "eqNumInitial": 1,
   "hotkeys": {
    "equation": "Ctrl-E",
    "itemize": "Ctrl-I"
   },
   "labels_anchors": false,
   "latex_user_defs": false,
   "report_style_numbering": false,
   "user_envs_cfg": false
  },
  "toc": {
   "base_numbering": 1,
   "nav_menu": {},
   "number_sections": true,
   "sideBar": true,
   "skip_h1_title": false,
   "title_cell": "Table of Contents",
   "title_sidebar": "Contents",
   "toc_cell": false,
   "toc_position": {},
   "toc_section_display": true,
   "toc_window_display": false
  }
 },
 "nbformat": 4,
 "nbformat_minor": 4
}
