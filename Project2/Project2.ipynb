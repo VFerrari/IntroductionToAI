{
 "cells": [
  {
   "cell_type": "markdown",
   "metadata": {},
   "source": [
    "# **Assignment - Genetic Algorithm for Image Generation.**\n",
    "**Subject:** MC906/MO416 - Introduction to Artificial Intelligence \n",
    "\n",
    "**Authors:**\n",
    "\n",
    "    Victor Ferreira Ferrari         - RA 187890\n",
    "    Vinicius Couto Espindola        - RA 188115"
   ]
  },
  {
   "cell_type": "markdown",
   "metadata": {},
   "source": [
    "## Introduction"
   ]
  },
  {
   "cell_type": "code",
   "execution_count": 76,
   "metadata": {},
   "outputs": [],
   "source": [
    "import numpy as np\n",
    "from random import randint"
   ]
  },
  {
   "cell_type": "markdown",
   "metadata": {},
   "source": [
    "The parameters for the problem and the method are below:"
   ]
  },
  {
   "cell_type": "code",
   "execution_count": 77,
   "metadata": {},
   "outputs": [],
   "source": [
    "N = 8\n",
    "POP_SIZE = 4\n",
    "MUT_RATE = 0.5\n",
    "MAX_ITER = 15000"
   ]
  },
  {
   "cell_type": "markdown",
   "metadata": {},
   "source": [
    "The regular execution of this assignment is with N=8, so the original 8-Queens problem.\n",
    "\n",
    "The population in each generation has 4 states, and every new generation replaces the last one. Mutation rate and max iterations are parameters added for this implementation, and their values were decided empirically.\n",
    "\n",
    "The overall best solution is always saved, so that if the iteration count expires, we still have the best solution."
   ]
  },
  {
   "cell_type": "markdown",
   "metadata": {},
   "source": [
    "## Code"
   ]
  },
  {
   "cell_type": "markdown",
   "metadata": {},
   "source": [
    "### Notes on Structure\n",
    "\n",
    "The code was organized in such a manner which allows us to first define every method used as well as discuss then in separated modules making each part more readable and comprehesible.\n",
    "\n",
    "In order to merge all this components of the code we created a class called GeneticAlgorithm. This class retains some essential variables for the methods define along the report, in order to allow the methods to access these variables even though they are not a part of the class, every single method must receive as it's first parameter the class instance, prepended into every parameter list."
   ]
  },
  {
   "cell_type": "markdown",
   "metadata": {},
   "source": [
    "### Population Initialization\n",
    "\n",
    "The first step to run a genetic algorithm is creating a population to serve as a starting point for the selection, reproduction and mutation process. \n",
    "\n",
    "Every method in this section will be subdued by the following parameters:\n",
    " 1. **pop_size:** Defines the maximum amount of individuals for the population.\n",
    " 2. **gene_count:** Defines how many genes each individual has (genes are pixels in this case).\n",
    "\n",
    "The following code defines some methods which will be used to create a population out of nothing."
   ]
  },
  {
   "cell_type": "code",
   "execution_count": 78,
   "metadata": {},
   "outputs": [],
   "source": [
    "def random(self, pop_size):\n",
    "    pop = []\n",
    "    for i in range(pop_size):\n",
    "        print(f\"Generating Population...  {i:>3}/{pop_size}\\r\", end='')\n",
    "        person = [randint(0,255) for i in range(gene_count)]\n",
    "        person = np.array(person).astype(np.uint8)\n",
    "        pop.append(person)\n",
    "    print(f\"{' '*50}\\r\", end='')\n",
    "    return pop"
   ]
  },
  {
   "cell_type": "code",
   "execution_count": 70,
   "metadata": {},
   "outputs": [
    {
     "name": "stdout",
     "output_type": "stream",
     "text": [
      "[127 126  25 ...  49  10 127]                     \n",
      "[127 127 196 ...  72  16 101]\n",
      "[171 244  62 ...  14  10   0]\n",
      "[136 223 239 ...  79 165 118]\n",
      "[137 139 250 ...  57 214  36]\n",
      "[244 151 155 ... 165 194 105]\n",
      "[ 76 185  50 ...   3 146  14]\n",
      "[174  69 234 ... 100 178 184]\n",
      "[135  35 134 ... 118  67 197]\n",
      "[186  22  35 ...   3  90 106]\n",
      "[133 242 198 ... 235 242 110]\n",
      "[171  45 196 ...  97 248 137]\n",
      "[  3  99 136 ... 220  11 100]\n",
      "[232 214 172 ... 218   3  66]\n",
      "[254 155 226 ... 108  31  10]\n",
      "[129  99 101 ... 187  89  12]\n",
      "[251 214 239 ...  18 113 231]\n",
      "[203 146 162 ...  95  74 140]\n",
      "[219  40 231 ... 247 109 243]\n",
      "[ 86 150 230 ... 246 223 171]\n",
      "[107  64 178 ... 220 232 162]\n",
      "[ 24 222  54 ... 129  20 245]\n",
      "[207   9  97 ... 168 172 201]\n",
      "[126  58 107 ...  19 133  41]\n",
      "[155  62 131 ... 237 179  20]\n",
      "[251  20  44 ... 123 250 124]\n",
      "[161 248  42 ... 232 200 220]\n",
      "[  5 150 237 ...   8  63  38]\n",
      "[175   2 234 ... 111  94 212]\n",
      "[170 145 152 ...   0 149 138]\n",
      "[240  51  11 ...  64 149 189]\n",
      "[170  71  23 ...  82 189  63]\n",
      "[166  27 248 ...  57 180  68]\n",
      "[ 69 230 182 ... 140  27 145]\n",
      "[216 175  86 ... 207  64 204]\n",
      "[135  62 200 ... 197   2 138]\n",
      "[149  39 212 ... 209  27  44]\n",
      "[ 30 120 154 ... 124 202 200]\n",
      "[ 14   2 184 ... 204 197 122]\n",
      "[ 80 169  94 ...  40  13 173]\n",
      "[203  11 128 ...  29 156 233]\n",
      "[  7  44 199 ...  85 176  52]\n",
      "[172 190  94 ... 182  55  87]\n",
      "[ 49 218 193 ... 127 134 251]\n",
      "[245 174 180 ... 108  51 158]\n",
      "[ 18 100 226 ...  92  43 139]\n",
      "[241 102  19 ... 194 124 107]\n",
      "[229  11 219 ... 200 186  29]\n",
      "[129 135 133 ...  13  50  93]\n",
      "[154 216  49 ... 102 150 233]\n",
      "[ 40 143 126 ...  74 229  24]\n",
      "[ 52  13 176 ... 126 184  68]\n",
      "[ 17 155 173 ...  77 133 202]\n",
      "[137  97 199 ... 158  60  13]\n",
      "[188  12 236 ...  86  71  57]\n",
      "[157 157 255 ... 242 103  91]\n",
      "[ 71  52  32 ...  66  27 183]\n",
      "[165  15 127 ...  15 118 230]\n",
      "[188  11 135 ... 118 115 112]\n",
      "[164 233  84 ... 182  53 118]\n",
      "[200  37  94 ...  18 213   3]\n",
      "[152 204 146 ...   7 183  57]\n",
      "[118  39  25 ... 170 187   3]\n",
      "[ 74 140 128 ... 183 230  83]\n",
      "[214 159  12 ... 214  71  27]\n",
      "[ 21 251 147 ... 104 182 229]\n",
      "[162  26 204 ...  87 242  31]\n",
      "[ 39 202  50 ... 178 242 105]\n",
      "[ 54 154  65 ...  94 253 102]\n",
      "[ 90 162  48 ... 249  81 195]\n",
      "[250 239  37 ...  49 217  14]\n",
      "[221 178  43 ...  44 147 133]\n",
      "[125 152 200 ... 121 245  87]\n",
      "[ 77  41  98 ... 167  62 248]\n",
      "[161 105 122 ...  13 228 101]\n",
      "[116 240  64 ...  20 134 150]\n",
      "[151  40 160 ... 153 238 233]\n",
      "[128 137 129 ... 231 243  16]\n",
      "[213  36 127 ... 234  83 145]\n",
      "[150 174 237 ...  35 168 104]\n",
      "[115 116 100 ... 179 209 129]\n",
      "[184 148  60 ...  79 212 239]\n",
      "[192  92 161 ...  59 160 234]\n",
      "[108 208  88 ... 156  66  77]\n",
      "[122  97  98 ... 213 161  43]\n",
      "[175   8 202 ...  78 166 233]\n",
      "[212 202 210 ...  66  95 168]\n",
      "[158 184  11 ...  99 240 160]\n",
      "[154   2 226 ... 103 235 174]\n",
      "[171  40 150 ...  58  88 208]\n",
      "[197  90 248 ... 148 142  37]\n",
      "[131 174  88 ...  28  74 219]\n",
      "[191 219 155 ... 178  96 120]\n",
      "[187  59 136 ... 110 183  54]\n",
      "[238 127  48 ... 175 155  17]\n",
      "[ 24 209  20 ... 223  62 153]\n",
      "[ 71 115 232 ... 158  26  96]\n",
      "[154  96  94 ...  19   3 221]\n",
      "[ 61 144 211 ... 255 142  67]\n",
      "[196 239 223 ... 162  38  51]\n"
     ]
    },
    {
     "data": {
      "text/plain": [
       "[None,\n",
       " None,\n",
       " None,\n",
       " None,\n",
       " None,\n",
       " None,\n",
       " None,\n",
       " None,\n",
       " None,\n",
       " None,\n",
       " None,\n",
       " None,\n",
       " None,\n",
       " None,\n",
       " None,\n",
       " None,\n",
       " None,\n",
       " None,\n",
       " None,\n",
       " None,\n",
       " None,\n",
       " None,\n",
       " None,\n",
       " None,\n",
       " None,\n",
       " None,\n",
       " None,\n",
       " None,\n",
       " None,\n",
       " None,\n",
       " None,\n",
       " None,\n",
       " None,\n",
       " None,\n",
       " None,\n",
       " None,\n",
       " None,\n",
       " None,\n",
       " None,\n",
       " None,\n",
       " None,\n",
       " None,\n",
       " None,\n",
       " None,\n",
       " None,\n",
       " None,\n",
       " None,\n",
       " None,\n",
       " None,\n",
       " None,\n",
       " None,\n",
       " None,\n",
       " None,\n",
       " None,\n",
       " None,\n",
       " None,\n",
       " None,\n",
       " None,\n",
       " None,\n",
       " None,\n",
       " None,\n",
       " None,\n",
       " None,\n",
       " None,\n",
       " None,\n",
       " None,\n",
       " None,\n",
       " None,\n",
       " None,\n",
       " None,\n",
       " None,\n",
       " None,\n",
       " None,\n",
       " None,\n",
       " None,\n",
       " None,\n",
       " None,\n",
       " None,\n",
       " None,\n",
       " None,\n",
       " None,\n",
       " None,\n",
       " None,\n",
       " None,\n",
       " None,\n",
       " None,\n",
       " None,\n",
       " None,\n",
       " None,\n",
       " None,\n",
       " None,\n",
       " None,\n",
       " None,\n",
       " None,\n",
       " None,\n",
       " None,\n",
       " None,\n",
       " None,\n",
       " None,\n",
       " None]"
      ]
     },
     "execution_count": 70,
     "metadata": {},
     "output_type": "execute_result"
    }
   ],
   "source": [
    "list(map(print,random(100, 100000)))"
   ]
  },
  {
   "cell_type": "code",
   "execution_count": 79,
   "metadata": {},
   "outputs": [],
   "source": [
    "def heuristic(pop_size, gene_count):\n",
    "    pass"
   ]
  },
  {
   "cell_type": "markdown",
   "metadata": {},
   "source": [
    "### Fitness Function\n",
    "\n",
    "For each individual, we must determine a method which will tell us how apt such individual for the problem in question.\n",
    "\n",
    "The following methods define some method to evaluate how close is an individual to the image we seek to generate."
   ]
  },
  {
   "cell_type": "code",
   "execution_count": 80,
   "metadata": {},
   "outputs": [],
   "source": [
    "def fitness(state):\n",
    "     pass"
   ]
  },
  {
   "cell_type": "markdown",
   "metadata": {},
   "source": [
    "### Halting Criteria\n",
    "\n",
    "The algothm cannot run forever. In this section will define two methods used for halting the exection. \n",
    " - The first is our convergence check, which relates to the improvement rate of each generation: if the new generations are not improving when compared to it's antecessors, we consider it a convergence. \n",
    " - The second, is a simple fail safe for the scenario where the convergence is too slow. "
   ]
  },
  {
   "cell_type": "code",
   "execution_count": 81,
   "metadata": {},
   "outputs": [],
   "source": [
    "def convergence():\n",
    "    pass"
   ]
  },
  {
   "cell_type": "code",
   "execution_count": 82,
   "metadata": {},
   "outputs": [],
   "source": [
    "def abort():\n",
    "    pass"
   ]
  },
  {
   "cell_type": "markdown",
   "metadata": {},
   "source": [
    "### Selection Criteria\n",
    "\n",
    "In this section we'll define methods responsible for selecting individual of the population responsible for bearing the next generation.\n",
    "\n",
    "Every method in this section will be subdued by the following parameters:\n",
    " 1. **P:** Defines the probability of accepting a certain idividual.\n",
    " 2. **N:** Amount of individuals to be selected for the next generation.\n",
    " 3. **K:** Amount of individuals to partake in a competition.\n",
    " \n",
    "The following code defines some methods which will be used to select individual for the creation of the next generation."
   ]
  },
  {
   "cell_type": "code",
   "execution_count": 83,
   "metadata": {},
   "outputs": [],
   "source": [
    "def competition(P, N, K):\n",
    "    pass"
   ]
  },
  {
   "cell_type": "code",
   "execution_count": 84,
   "metadata": {},
   "outputs": [],
   "source": [
    "def roullet(P, N, K):\n",
    "    pass"
   ]
  },
  {
   "cell_type": "markdown",
   "metadata": {},
   "source": [
    "### Reproduction Method\n",
    "\n",
    "Reproduction will ensure that the select individuals can exchange genes, preserving some genetic diversity for the next generation.\n",
    "\n",
    "Every method in this section will be subdued by the following parameters:\n",
    " 1. **K:** Amount of crossover points for gene exchange.\n",
    " \n",
    "The following code defines some methods which will be used for reproduction creating new for the creation of the next generation."
   ]
  },
  {
   "cell_type": "code",
   "execution_count": 91,
   "metadata": {},
   "outputs": [],
   "source": [
    "def crosspoint(K):\n",
    "    pass"
   ]
  },
  {
   "cell_type": "markdown",
   "metadata": {},
   "source": [
    "### Mutation Method\n",
    "\n",
    "To simply permute the genes of the previous generation might reduce the diversity among individuals by creating childs which are too similar to their parents. To counter this we'll use mutation methods allowing genes to mix within individuals. \n",
    "\n",
    "Every method in this section will be subdued by the following parameters:\n",
    " 1. **MR:** Mutation rate dictates the probability of an individual to mutate.\n",
    " 2. **MA:** Mutation amount defines the amount of genes which will mutate.\n",
    " \n",
    "The following code defines some methods which will be used to mutate the individuals."
   ]
  },
  {
   "cell_type": "code",
   "execution_count": 86,
   "metadata": {},
   "outputs": [],
   "source": [
    "def flip(MR, MA):\n",
    "    pass"
   ]
  },
  {
   "cell_type": "code",
   "execution_count": 87,
   "metadata": {},
   "outputs": [],
   "source": [
    "def swap(MR, MA):\n",
    "    pass"
   ]
  },
  {
   "cell_type": "markdown",
   "metadata": {},
   "source": [
    "### Genetic Algorithm Class\n",
    "\n",
    "The class will be responsible for selecting which methods will be used for each of the methods in each of the algorithms steps, as well as define it's parameters and executing the main loop. The main loop will be responsible for properly calling the methods, any in between tasks as wells as check halting conditions and picking the fittest individual found in all generations.\n",
    "\n",
    "##### Preprocessing and Visualization Method\n",
    "To perceive empirically if the quality of each generation as well as the final result, we will use openCV to exhibit the image represented by some individual."
   ]
  },
  {
   "cell_type": "code",
   "execution_count": 74,
   "metadata": {},
   "outputs": [],
   "source": [
    "import cv2\n",
    "from matplotlib import pyplot as plt\n",
    "\n",
    "class GeneticAlgorithm():\n",
    "    def __init__(self, v):\n",
    "        # Goal related variables\n",
    "        self.shape = None\n",
    "        self.goal  = None\n",
    "        \n",
    "        # Genetic Methods Functions \n",
    "        self.fit    = fit[0]\n",
    "        self.init   = init[0]\n",
    "        self.select = select[0]\n",
    "        self.reprod = reprod[0]\n",
    "        self.mutate = mutate[0]\n",
    "        \n",
    "        test = [self.fit,self.init,self.select,self.reprod,self.mutate]\n",
    "        test = all(map(bool, test))\n",
    "        assert test, \"There are undefined steps for the algorithm\"\n",
    "        \n",
    "        # Genetic Methods Parameters\n",
    "        fetch = lambda x: (self,*x) if x else (self)\n",
    "        self.fit_params    = fetch(fit[1])\n",
    "        self.init_params   = fetch(init[1])\n",
    "        self.select_params = fetch(select[1])\n",
    "        self.reprod_params = fetch(reprod[1])\n",
    "        self.mutate_params = fetch(mutate[1])\n",
    "        \n",
    "        \n",
    "        \n",
    "#     def run(self, filename):\n",
    "#         goal = self.read()\n",
    "#         pop = gen_initial_population(POP_SIZE)\n",
    "    \n",
    "#         # Fitness\n",
    "#         fit = []\n",
    "#         for i in pop:\n",
    "#             fit.append(fitness(i))\n",
    "#         fit = np.array(fit)\n",
    "\n",
    "#         # Best\n",
    "#         best_idx = np.argmax(fit)\n",
    "#         best_sol = pop[best_idx]\n",
    "#         best_val = fit[best_idx]\n",
    "\n",
    "#         # Stop criteria\n",
    "#         sol_val = np.arange(N).sum()\n",
    "#         iterations = 0\n",
    "\n",
    "#         while best_val < sol_val and iterations < MAX_ITER:\n",
    "\n",
    "#             # Roulette selection\n",
    "#             sel = selection(pop, fit, POP_SIZE)\n",
    "\n",
    "#             # Reproduction\n",
    "#             for i in range(0, len(sel), 2):\n",
    "#                 pop[i], pop[i+1] = reproduction(sel[i], sel[i+1])\n",
    "\n",
    "#             # Mutation\n",
    "#             mutate_pop(pop, MUT_RATE)\n",
    "\n",
    "#             # Fitness\n",
    "#             for i in range(POP_SIZE):\n",
    "#                 fit[i] = fitness(pop[i])\n",
    "\n",
    "#             # Update Max\n",
    "#             best_idx = np.argmax(fit)\n",
    "#             if fit[best_idx] > best_val:\n",
    "#                 best_sol = pop[best_idx]\n",
    "#                 best_val = fit[best_idx]\n",
    "\n",
    "#             iterations += 1\n",
    "\n",
    "#         # Board\n",
    "#         board = create_board(best_sol)\n",
    "#         print(board)\n",
    "\n",
    "#         print('Solution: ', best_sol)\n",
    "#         print('Iterations: ', iterations)\n",
    "#         print('Solution Value: ', best_val)\n",
    "    \n",
    "    def read(self, filepath, res=None):\n",
    "        '''Reads an image in grey scale, resizes it and extends to array.\n",
    "            Params:\n",
    "                filepath - Path to the input image to be read\n",
    "                res - Either tuple with new pixel dimensions or ratio with new scale\n",
    "            Return: \n",
    "                np.array - array with the streched image\n",
    "        '''\n",
    "        img = cv2.imread(filepath,0) # load in greyscale\n",
    "        \n",
    "        if res and tuple==type(res):\n",
    "            img = cv2.resize(img, res)\n",
    "        elif res and float==type(res):\n",
    "            w = int(img.shape[0]*res)\n",
    "            h = int(img.shape[1]*res)\n",
    "            img = cv2.resize(img, (h,w))\n",
    "        self.shape = img.shape # keep shape\n",
    "        self.goal  = img.reshape(img.size)\n",
    "\n",
    "    def show(self, individual, compare=False):\n",
    "        '''Prints the image represented by an individual.\n",
    "            Params:\n",
    "                individual - Np.array to be reshaped and printed\n",
    "        '''\n",
    "        img = individual.copy()\n",
    "        img = img.reshape(self.shape)\n",
    "        \n",
    "        # If compare mode, print goal along side\n",
    "        if compare: \n",
    "            plt.subplot(1,2,1)\n",
    "            goal = self.goal.copy()\n",
    "            goal = goal.reshape(self.shape)\n",
    "            plt.imshow(img, cmap='gray')\n",
    "            plt.title('Goal')\n",
    "            plt.axis('off')\n",
    "            plt.subplot(1,2,2)\n",
    "            \n",
    "        plt.imshow(img, cmap='gray')\n",
    "        plt.title('Individual')\n",
    "        plt.axis('off')\n",
    "        plt.show()\n",
    "    "
   ]
  },
  {
   "cell_type": "code",
   "execution_count": 92,
   "metadata": {},
   "outputs": [
    {
     "data": {
      "image/png": "[encoded data removed]",
      "text/plain": [
       "<Figure size 432x288 with 1 Axes>"
      ]
     },
     "metadata": {
      "needs_background": "light"
     },
     "output_type": "display_data"
    }
   ],
   "source": [
    "ga = GeneticAlgorithm(\n",
    "    fit    = (fitness,None), \n",
    "    init   = (random,None), \n",
    "    select = (roullet,None), \n",
    "    reprod = (crosspoint,None), \n",
    "    mutate = (swap,None)\n",
    "    )\n",
    "ga.read('images\\monalisa.jpg', res=0.6)\n",
    "# ga.read('images\\monalisa.jpg', res=(512,512))\n",
    "ga.show(ga.goal)"
   ]
  },
  {
   "cell_type": "code",
   "execution_count": null,
   "metadata": {},
   "outputs": [],
   "source": []
  }
 ],
 "metadata": {
  "kernelspec": {
   "display_name": "Python 3",
   "language": "python",
   "name": "python3"
  },
  "language_info": {
   "codemirror_mode": {
    "name": "ipython",
    "version": 3
   },
   "file_extension": ".py",
   "mimetype": "text/x-python",
   "name": "python",
   "nbconvert_exporter": "python",
   "pygments_lexer": "ipython3",
   "version": "3.8.3"
  },
  "latex_envs": {
   "LaTeX_envs_menu_present": true,
   "autoclose": false,
   "autocomplete": true,
   "bibliofile": "biblio.bib",
   "cite_by": "apalike",
   "current_citInitial": 1,
   "eqLabelWithNumbers": true,
   "eqNumInitial": 1,
   "hotkeys": {
    "equation": "Ctrl-E",
    "itemize": "Ctrl-I"
   },
   "labels_anchors": false,
   "latex_user_defs": false,
   "report_style_numbering": false,
   "user_envs_cfg": false
  },
  "toc": {
   "base_numbering": 1,
   "nav_menu": {},
   "number_sections": true,
   "sideBar": true,
   "skip_h1_title": false,
   "title_cell": "Table of Contents",
   "title_sidebar": "Contents",
   "toc_cell": false,
   "toc_position": {},
   "toc_section_display": true,
   "toc_window_display": false
  }
 },
 "nbformat": 4,
 "nbformat_minor": 4
}
