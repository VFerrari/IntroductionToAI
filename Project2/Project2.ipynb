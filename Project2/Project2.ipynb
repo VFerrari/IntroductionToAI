{
 "cells": [
  {
   "cell_type": "markdown",
   "metadata": {},
   "source": [
    "# **Project 2 - Genetic Algorithm for Image Reconstruction.**\n",
    "**Subject:** MC906/MO416 - Introduction to Artificial Intelligence \n",
    "\n",
    "**Authors:**\n",
    "\n",
    "    Eduardo Barros Innarelli - RA 170161\n",
    "    Victor Ferreira Ferrari  - RA 187890\n",
    "    Vinicius Couto Espindola - RA 188115"
   ]
  },
  {
   "cell_type": "markdown",
   "metadata": {},
   "source": [
    "## **Introduction**\n",
    "### Project\n",
    "The project consists of a study of genetic algorithm-based solutions for **image reconstruction**. A few set aspects of the problem will be explained, implemented and discussed here, such as:\n",
    "\n",
    "- The **modeling** of the problem as an evolutionary problem (chromosomes, genes, etc);\n",
    "- How to **generate the initial population**;\n",
    "- The chosen **fitness function**;\n",
    "- How to **visualize** the result.\n",
    "\n",
    "Along with that, some aspects of the genetic algorithm will be tested and discussed with multiple approaches, such as:\n",
    "\n",
    "- Stop criteria;\n",
    "- Selection technique;\n",
    "- Crossover technique;\n",
    "- Mutation technique;\n",
    "- Generation replacement method.\n",
    "\n",
    "Also, the following **parameters** will be tested with multiple values as well:\n",
    "- Population size;\n",
    "- Mutation rate;\n",
    "- Crossover rate.\n",
    "\n",
    "In the end, different variations of the process will be compared and discussed."
   ]
  },
  {
   "cell_type": "markdown",
   "metadata": {},
   "source": [
    "### Usage\n",
    "\n",
    "This project uses the external libraries _OpenCV_ for image reading and manipulation, _NumPy_ for array manipulation, and _MatPlotLib_ for result visualization. The other imports are part of the Standard Python Library."
   ]
  },
  {
   "cell_type": "code",
   "execution_count": 68,
   "metadata": {},
   "outputs": [],
   "source": [
    "# External Libraries\n",
    "from matplotlib import pyplot as plt\n",
    "from cv2 import imread, imwrite, resize\n",
    "import numpy as np\n",
    "\n",
    "# Python Libraries\n",
    "from time import time\n",
    "from copy import deepcopy\n",
    "from itertools import combinations\n",
    "from random import sample, choices, shuffle\n",
    "from os.path import join, basename\n",
    "\n",
    "# IPython Libraries\n",
    "from IPython.display import Image, display"
   ]
  },
  {
   "cell_type": "markdown",
   "metadata": {},
   "source": [
    "## **Problem**\n",
    "### General Information\n",
    "The problem consists of, given the original image, recreating an image from scratch. The original is only used for fitness purposes (how good is the image generated). This is not particularly useful in many applications, but can be used as basis for other problems, and is good for the purpose of this project: test different methods of reproduction, mutation, etc.\n",
    "\n",
    "The motivation came from [Roger Johansson's \"Evolution of Mona Lisa\"](https://rogerjohansson.blog/2008/12/07/genetic-programming-evolution-of-mona-lisa/), but instead of using polygons, the pixel values are directly used.\n",
    "\n",
    "### Modeling\n",
    "The modeling of the problem as a GA problem is almost direct: the image is the individual (chromosome) and each of its pixels is a gene. The image can be represented by a multitude of different ways. The chosen way of representation is as a flat array, as this allows for easier operations, especially crossover.\n",
    "\n",
    "### Inputs\n",
    "Due to the huge number of combinations in a regular RGB image ($255^3$ possiblities per pixel), greyscale images are used in this project. High resolution images were rescaled to a lower resolution using *OpenCV* as some images would simply take too long to test."
   ]
  },
  {
   "cell_type": "markdown",
   "metadata": {},
   "source": [
    "## **Methods**"
   ]
  },
  {
   "cell_type": "markdown",
   "metadata": {},
   "source": [
    "### Notes on Structure\n",
    "\n",
    "The code was organized in such a manner which allows us to first define every method used as well as discuss them in separated modules, making each part more readable and comprehesible.\n",
    "\n",
    "In order to merge all components of the code, we created a class called GeneticAlgorithm. This class retains some essential variables for the methods defined along the report. To allow such methods to access these variables (even though they are not a part of the class) nearly every method must receive as it's **first parameter the class instance** which is referred as the **parameter 'self' in the method's definitions**. It should also be noted that the method usualy have no return statements, simply because the 'self' parameter is a reference to the class instance, which **allow the methods to make changes in-place**.\n",
    "\n",
    "To specify which class variables are necessary/used and which are defined/altered by the methods in each section, there will be a list of **used class variables** and **defined class variables** within the description of every section. On top of these uses and definitions, there are parameters which are method dependent, these are in the sections **necessary parameters**."
   ]
  },
  {
   "cell_type": "markdown",
   "metadata": {},
   "source": [
    "### The Goal Image\n",
    "\n",
    "Before starting the algorithm we must first read an image from memory. To do so we'll use the read function embedded in the GeneticAlgorithm class. This function is responsible for reading the image, reducing it's resolution, flattening it to an array and finally storing it in the class.\n",
    "\n",
    "The read image is kept in two class variables: \n",
    " 1. *self.goal* - The flattened image, which is an array containing the input image pixels. \n",
    " 2. *self.shape* - After dowscalling and before flattening the image, we must save the input image shape so we can reverse the flattening process allowing us to visualize the array of genes as an image.\n",
    " \n",
    "**Note:** a relevant detais is that the length of the array kept in *self.goal* is the amount of genes every individual must have, so we'll often use the variable *self.goal.size* to set the amount of genes in methods were this information is necessary.\n",
    "\n",
    "Since processing the input image is the first step of the algorithm, the methods defined bellow this section will consider that the class variables *self.goal* and *self.shape* are defined and ready to be used."
   ]
  },
  {
   "cell_type": "markdown",
   "metadata": {},
   "source": [
    "### Population Initialization\n",
    "**Responsible: Vinícius and Victor**\n",
    "\n",
    "The first step to run a genetic algorithm is creating a population to serve as a starting point for the selection, reproduction and mutation process. \n",
    "\n",
    "**Necessary parameters:**\n",
    " 1. *pop_size* - Defines the amount of individuals to be created in the initial population.\n",
    "\n",
    "**Used class variables:** \n",
    " 1. *self.goal.size* - Defines the amount of genes that every individual must have.\n",
    "\n",
    "**Defined class variables:**\n",
    " 1. *self.population* - List of *ndarrays* where each element contains the genes of an individual.\n",
    " 2. *self.all_fits* - List of float values where each element is the fitness of an individual.\n",
    " 3. *self.pop_size* - Saves the value chosen for population size (*pop_size* parameter).\n",
    "\n",
    "The following code defines some methods which will be used to create a population out of nothing."
   ]
  },
  {
   "cell_type": "markdown",
   "metadata": {},
   "source": [
    "#### Random Initialization\n",
    "The first method chosen for this stage was the completely random initialization. Here we simply randomize every gene of the *pop_size* individuals considering the possible state space, in other words, we generate *pop_size* arrays by randomizing every of it's *self.goal.size* elements within the range $[0-255]$.  "
   ]
  },
  {
   "cell_type": "code",
   "execution_count": 2,
   "metadata": {},
   "outputs": [],
   "source": [
    "def random(self, pop_size):\n",
    "    # Generate completely random indivuduals \n",
    "    self.population = []\n",
    "    size = self.goal.size\n",
    "    \n",
    "    for i in range(pop_size):\n",
    "        print(f\"Generating Population...  {i:>3}/{pop_size}\\r\", end='')\n",
    "        person = np.random.randint(0, 256, size, dtype=np.uint8)\n",
    "        self.population.append(person)\n",
    "    self.pop_size = pop_size\n",
    "    print(f\"{' '*50}\\r\", end='')"
   ]
  },
  {
   "cell_type": "markdown",
   "metadata": {},
   "source": [
    "#### Partially Random Initialization\n",
    "\n",
    "The complete random initilization isn't very helpful to provide a good starting point for the algorithm, allowing the initial population to be completely unfit when compared to the goal image. An alternative would be to insert one completely white individual with the others. This way, depending on the goal image, this individual can start better fit than the others.\n",
    "\n",
    "This method does not ensure a better starting point for all images, though. For some images, as can be seen in the \"Result\" section, this white individual can make the entire population have a white section, over time. If, in the goal image, this section is not white, the algorithm depends on mutation to insert different values in that section."
   ]
  },
  {
   "cell_type": "code",
   "execution_count": 3,
   "metadata": {},
   "outputs": [],
   "source": [
    "def white_and_random(self, pop_size):\n",
    "    self.population = []\n",
    "    size = self.goal.size\n",
    "    \n",
    "    person = np.full(size, 255, dtype=np.uint8)\n",
    "    self.population.append(person)\n",
    "    \n",
    "    for i in range(pop_size-1):\n",
    "        print(f\"Generating Population...  {i+1:>3}/{pop_size}\\r\", end='')\n",
    "        person = np.random.randint(0, 256, size, dtype=np.uint8)\n",
    "        self.population.append(person)\n",
    "    self.pop_size = pop_size\n",
    "    print(f\"{' '*50}\\r\", end='')"
   ]
  },
  {
   "cell_type": "markdown",
   "metadata": {},
   "source": [
    "### Fitness Function\n",
    "**Responsible: Victor**\n",
    "\n",
    "For each individual, we must determine a method which will tell us how apt such individual for the problem in question.\n",
    "\n",
    "The MSE (mean squared error) is a very common error function for AI and Machine Learning models, so that was implemented here. Since we want more distance between the individuals when the error is low enough, we can use the squared error directly, without taking the mean. This makes for a big number, and more distance between individuals.\n",
    "\n",
    "Finally, a \"correct pixels\" fitness function was made, to identify how many pixels are exactly the same as the goal image. This can be useful because it doesn't allow for much approximation, relying on directly imitating the goal image."
   ]
  },
  {
   "cell_type": "code",
   "execution_count": 4,
   "metadata": {},
   "outputs": [],
   "source": [
    "def squared_error(individual, original):\n",
    "     return ((original.astype(np.float64) - individual.astype(np.float64))**2).sum()"
   ]
  },
  {
   "cell_type": "code",
   "execution_count": 5,
   "metadata": {},
   "outputs": [],
   "source": [
    "def mse(individual, original):\n",
    "     return squared_error(individual,original)/individual.size"
   ]
  },
  {
   "cell_type": "code",
   "execution_count": 6,
   "metadata": {},
   "outputs": [],
   "source": [
    "def correct_pixels(individual, original):\n",
    "    return np.count_nonzero(original.astype(np.int16) - individual.astype(np.int16))"
   ]
  },
  {
   "cell_type": "markdown",
   "metadata": {},
   "source": [
    "### Convergence Criteria\n",
    "**Responsible: Vinícius**\n",
    "\n",
    "The algorithm cannot run forever. In this section will define a convergence method for halting the program's exection. \n",
    "\n",
    "The convergence function must identify when the algorithm's improvement rate has significantly decreased or even stalled. To do so, it must know to some extent the rate of improvement per generation, which can be infered by the difficulty of improving the best individual found so far. Assume we have the best indivudual so far ($B$), therefore, we can estimate when the algorithm is decreasing it's evolution rate (or improvement rate) by checking how many generations have passed since $B$ was achieved: the more generations where $B$ wasn't improved, the more likely is that the algorithm has converged. The convergence method defined in this section is based on this idea.\n",
    "\n",
    "The convergence method will also play a secondary role: it is responsible for updating the best individual found across all generations, such individual is used as the final generated image which will be compared with the goal image.\n",
    "\n",
    "**Necessary parameters:**\n",
    " 1. *limit* - Suppose generation $X$ has the best individual so far, also suppose we are at generation $Y|Y>X$. This implies that the last $L=Y-X$ generation(s) did not improve the fittest individual found so far. If $L>limit$ we consider that the algorithm has converged.\n",
    "\n",
    "**Used class variables:** \n",
    " 1. *self.all_fits* - Used to find the fittest individual of the new generation by getting the minimum fitness.\n",
    " 2. *self.best_fit* - Holds the fittness of the best individual across all previous generations.\n",
    "\n",
    "**Defined class variables:**\n",
    " 1. *self.counter* - Counts generations since the last improvement of the best individual.\n",
    " 2. *self.best_genfit* - If theres a new better individual we must update this variable."
   ]
  },
  {
   "cell_type": "markdown",
   "metadata": {},
   "source": [
    "#### Convergence Halting Method"
   ]
  },
  {
   "cell_type": "code",
   "execution_count": 7,
   "metadata": {},
   "outputs": [],
   "source": [
    "def convergence(self, limit):\n",
    "    ''' Identifies convergence and updates fittest individual found so far \n",
    "        \n",
    "        Parameters:\n",
    "            self - GeneticAlgorithm class which the function is being called from\n",
    "            limit - Amount of iterations wich can be worst than the best one found so far\n",
    "        Return:\n",
    "            Bool - True if converged, False otherwise.\n",
    "    '''\n",
    "    # Get min fitness for population\n",
    "    new_genfit = self.all_fits.min()\n",
    "     \n",
    "    # Update number of iterations without improvement\n",
    "    if new_genfit >= self.best_genfit:\n",
    "        self.counter += 1\n",
    "    else:\n",
    "        self.counter = 0\n",
    "        self.best_genfit = new_genfit\n",
    "    \n",
    "    # Check convergence\n",
    "    if self.counter >= limit or self.best_genfit <= 0:\n",
    "        self.counter = 0\n",
    "        return True\n",
    "    else:\n",
    "        return False "
   ]
  },
  {
   "cell_type": "markdown",
   "metadata": {},
   "source": [
    "#### Secondary Halting Method \n",
    "\n",
    "Even checking for convergence, the algorithm might still present sufficiently small improvements to avoid convergence, however, they might be so small that it will take a enormous amount of time to converge. As a failsafe to this scenario, we will limit the total amount of generations that can be created. This secondary halting method is not defined in this section however, it is defined withing the GeneticAlgorithm class as *self.abort()*."
   ]
  },
  {
   "cell_type": "markdown",
   "metadata": {},
   "source": [
    "### Parents Selection\n",
    "**Responsible: Vinícius and Victor**\n",
    "\n",
    "In this section we'll define methods responsible for selecting from the population individuals responsible for bearing the next generation. The main goal is to find a method which properly balances the diversity and quality of the new generation of individuals.\n",
    "\n",
    "An analysis of the fitness values showed that the individuals tend to have similar fit in the model we created, leading to premature convergence. This can affect methods such as *roulette selection* which depend heavily on the difference between the fitness score of individuals. A possible solution to this was to apply exponential transfer on the fitness values of the individuals so one does not monopolize the probability, which could lead to homogenization. Another solution to prevent this issue was to implement methods which depend on the comparison among a group of individuals chosen with equal probability. An example of such method is the *tournament selection*.  \n",
    "\n",
    "**Necessary parameters:**\n",
    " 1. *N* - The amount of individuals which will be selected for reproduction.\n",
    " 2. *k* - Defines the amount of competiors in each tournament (tournament selection only).\n",
    " 3. *P* - Defines how many partners an individual can have (tournament selecion only).\n",
    " 4. *T* - Defines the maximum amount of couples allowed (tournament selection only).\n",
    " \n",
    "**Used class variables:** \n",
    " 1. *self.pop_size:* Used to define the range of the individuals indexes within the population.\n",
    " 2. *self.all_fits:* The selection is based on the individuals fitness, therefore this variable is accessed.\n",
    " \n",
    "**Defined class variables:**\n",
    " 1. *self.mates:* creates a list of tuples where each tuple pairs the index of two individuals for reproduction.\n",
    " \n",
    "The following code defines some methods which will be used to select individual for the creation of the next generation."
   ]
  },
  {
   "cell_type": "markdown",
   "metadata": {},
   "source": [
    "#### Tournament Selection\n",
    "\n",
    "Suppose we're given a population $P$. The tournament method will randomly select $k$ individuals out of $P$, then the fittest individual out of the $K$ selected will be chosen to partake in the reproduction step. This process is repeated until we have selected $N$ winners.\n",
    "The second step is pairing the $N$ winners among themselves creating couples. This step is done by first creating every two number combination possible with the $N$ elements and then applying restrictions over which pairs from the combination will be a valid couple. \n",
    "\n",
    "Suppose we have an element $x\\in N$:\n",
    " 1. *$x$ will never form a couple with itself* - A child of the couple $(x,x)$ would simply produce $x$.\n",
    " 2. *$x$ will only match with some $y \\in N$ exactly once* - Repeating couples such as $(x,y)$ and $(y,x)$ is likely to reduce the population's diversity.\n",
    " 3. *$x$ can be in at most $P$ of the selected couples* - If an element $x$ partakes in multiple couples, diversity is likely to deteriorate.\n",
    "\n",
    "The couples will be matched using elements from $N$ and obeying the previous restrictions, we can pick at most $T$ pairs.\n",
    "\n",
    "In this method the size of $K$ controls diversity: when $K$ is larger, it's more likely that unfit individuals are competing with fitter ones, therefore there will likely be a smaller diversity within the population. If we seek more diversity, a smaller $k$ might help. \n"
   ]
  },
  {
   "cell_type": "code",
   "execution_count": 47,
   "metadata": {},
   "outputs": [],
   "source": [
    "def tournament(self, k, N, P, T):\n",
    "    pool = list(range(self.pop_size))\n",
    "    pairs = {x:set() for x in pool}\n",
    "    fitness = lambda x: self.all_fits[x]\n",
    "    winners,self.mates = [],[]\n",
    "\n",
    "    # Run tournament to pick N winners\n",
    "    while len(winners) < N:\n",
    "        competitors = np.random.choice(pool, size=k, replace=False)\n",
    "        winner = max(competitors, key=fitness)\n",
    "        winners.append(winner)\n",
    "        pool.remove(winner) # remove winner from pool\n",
    "    \n",
    "    # Combination: given a pool of winners, match them as couples\n",
    "    shuffle(winners)\n",
    "    for (dad,mom) in combinations(winners, 2):\n",
    "        if (len(pairs[dad]) < P) and (len(pairs[mom]) < P): \n",
    "            pairs[dad].add(mom)\n",
    "            pairs[mom].add(dad)\n",
    "            self.mates.append((dad,mom))\n",
    "            if len(self.mates) == T: break"
   ]
  },
  {
   "cell_type": "markdown",
   "metadata": {},
   "source": [
    "#### Roulette Method\n",
    "\n",
    "Suppose we're given a population $P$. The roulette method will attribute a probability for each individual according to it's fitness value: lower fits implies high probability and higher fits implies lower probabilities. This allows a stochastic method to prize the quality individual without losing too much diversity, especially since _exponential transfer_ is used as a method to avoid premature convergence.\n",
    "\n",
    "In contrast with the tournament method, the roulette does not discriminate individuals. For that reason, any individual can be matched with any other individual, including with itself, and the same match can happen multiple times. That is why a way to avoid premature convergence is needed."
   ]
  },
  {
   "cell_type": "code",
   "execution_count": 9,
   "metadata": {},
   "outputs": [],
   "source": [
    "def roulette(self, N):\n",
    "    fit = self.all_fits\n",
    "    size = self.pop_size\n",
    "    \n",
    "    # Exponential transfer.\n",
    "    fit = np.sqrt(fit+1)\n",
    "    \n",
    "    # Roulette method: select N individuals from the population,\n",
    "    # with proportional probabilities to their fitness values.\n",
    "    probs = fit/fit.sum()\n",
    "    probs = (1-probs)/(size-1)\n",
    "    winners = np.random.choice(np.arange(size), size=N, replace=True, p=probs)    \n",
    "    \n",
    "    self.mates = list(zip(winners[::2],winners[1::2]))"
   ]
  },
  {
   "cell_type": "markdown",
   "metadata": {},
   "source": [
    "### Crossover Techniques\n",
    "**Responsible: Eduardo and Victor**\n",
    "\n",
    "In this section we'll define methods that generate descendants from selected parents. \n",
    "\n",
    "Based on genetic recombination, crossover exchanges genes between two individuals in a stochastic manner, resulting in a new one. Computationally, the way genes are swapped depends on the method implemented. By reproducting, the population preserves genetic diversity between generations.\n",
    "\n",
    "**Necessary parameters:**\n",
    " 1. *K* - Determines the ammount of points to use when applying k-point crossover.\n",
    " 2. *Window* - Tuple with the size of the window for the crossover (block crossover only).\n",
    " \n",
    "**Used class variables:** \n",
    " 1. *self.goal.size* - This attribute tells us how many genes are there in a individual.\n",
    " 1. *self.mates* - Each couple in this variable will be parents in the reproduction method.\n",
    " \n",
    "**Defined class variables:**\n",
    " 1. *self.children* - These are the new individuals generated from reproduction."
   ]
  },
  {
   "cell_type": "markdown",
   "metadata": {},
   "source": [
    "#### K-Point Crossover Reproduction\n",
    "\n",
    "Supose we're given two individuals $A$ and $B$. This method will split the individual genes in $K$ points and exchagen the resulting sections of genes. The algorithm is quite simple: get the amount of genes $G$, select $K$ points within the range $[0-G]$ then swap the genes among parents within the ranges define by the range and the $K$ points."
   ]
  },
  {
   "cell_type": "code",
   "execution_count": 10,
   "metadata": {},
   "outputs": [],
   "source": [
    "def k_point_crossover(self, k):\n",
    "    ''' \n",
    "    For each couple, K points are picked randomly from their chromossomes and\n",
    "    genes between these points are swapped, intercalating pairs of points.\n",
    "    \n",
    "    Parameters:\n",
    "        self - GeneticAlgorithm class which the function is being called from\n",
    "        k - Amount of crossover points for gene exchange\n",
    "    '''\n",
    "    \n",
    "    num_genes = self.goal.size\n",
    "    self.children = []\n",
    "\n",
    "    for father, mother in self.mates:\n",
    "        # Save k unique random crosspoints in a sorted list\n",
    "        crosspoints = sorted(sample(range(0, num_genes-1), k))\n",
    "        \n",
    "        # Deep copy to freely change values\n",
    "        father = self.population[father].copy()\n",
    "        mother = self.population[mother].copy()\n",
    "        \n",
    "        # List of crosspoint pairs, adding a pair with last crosspoint\n",
    "        # and last pixel\n",
    "        # Ex: \n",
    "        # 16 pixels, points [1,9,12] -> pairs [(1,9), (9,12), (12,16)]\n",
    "        pairs = list(zip(crosspoints,crosspoints[1:]))\n",
    "        pairs.append(tuple((crosspoints[-1], num_genes)))\n",
    "\n",
    "        # Perform crossover in pair range, intercalating pairs\n",
    "        for start, end in pairs[::2]:\n",
    "            father[start:end], mother[start:end] = mother[start:end], father[start:end]\n",
    "        \n",
    "        self.children += [father, mother]"
   ]
  },
  {
   "cell_type": "markdown",
   "metadata": {},
   "source": [
    "#### Block Crossover Reproduction\n",
    "\n",
    "As mentioned previously, the individuals are represented by a flattened version, in an 1D array. However, it is still an image, and the best representation is as a 2D array, because a pixel usually is related to the one above or below, and not only the ones in the same row.\n",
    "\n",
    "For that reason, crossover by blocks or windows, instead of rows, can be more effective in minimizing fitness. The following method crosses over random windows of fixed sizes between pairs."
   ]
  },
  {
   "cell_type": "code",
   "execution_count": 11,
   "metadata": {},
   "outputs": [],
   "source": [
    "def block_crossover(self, window):\n",
    "    self.children = []\n",
    "    \n",
    "    for father, mother in self.mates:\n",
    "        father = self.population[father].copy()\n",
    "        father.reshape(self.shape)\n",
    "        mother = self.population[mother].copy()\n",
    "        mother.reshape(self.shape)\n",
    "        \n",
    "        start_lin = np.random.randint(0, self.shape[0]-window[0])\n",
    "        start_col = np.random.randint(0, self.shape[1]-window[1])\n",
    "        \n",
    "        idx = []\n",
    "        for i in range(window[0]):\n",
    "            fun = lambda x: (start_lin+i, start_col+x)\n",
    "            idx += [fun(x) for x in range(window[1])]\n",
    "\n",
    "        father[idx],mother[idx] = mother[idx],father[idx]\n",
    "        self.children += [father.ravel(), mother.ravel()]"
   ]
  },
  {
   "cell_type": "markdown",
   "metadata": {},
   "source": [
    "### Mutation Method\n",
    "**Responsible: Victor**\n",
    "\n",
    "Just permuting the genes of the previous generation might reduce the diversity among individuals by creating childs which are too similar to their parents. To counter this we'll use mutation methods allowing genes to mix within individuals.\n",
    "\n",
    "The core idea of mutation methods are to affect some genes of some individuals with some unpredictable alteration. This granular insertion of randomness can revive diversity in a homogeneous population without causing the quality of individuals to deteriorate (which would conflict with the selection and reproduction steps). There are two core values to ensure the granularity of these changes: the *Mutation Rate* defines a percentage of individuals which will mutate, and the *Mutation Amount* defines the percentage of genes which will mutate per individual.\n",
    "\n",
    "**Necessary parameters:**\n",
    " 1. *MR* - Mutation rate dictates the probability of an individual to mutate.\n",
    " 2. *MA* - Mutation amount defines the amount of genes which will mutate.\n",
    " \n",
    "**Used class variables:** \n",
    " 1. *self.goal.size* - This attribute tells us how many genes are there in a individual.\n",
    " 1. *self.children* - Mutations are applied only on the individuals resulting from the reproduction step.\n",
    " \n",
    "**Defined class variables:**\n",
    " 1. *self.children* - The childrens gene are altered in-place altering this value.\n",
    "\n",
    "The following code defines some methods which will be used to mutate the individuals."
   ]
  },
  {
   "cell_type": "markdown",
   "metadata": {},
   "source": [
    "#### Random Mutation\n",
    "\n",
    "Given a population $P$ where each individual has $G$ genes, randomly pick $MR\\cdot |P|$ individuals and for each of these individuals randomly pick $M\\cdot |G|$ genes to ramdomize within the range $[0-255]$. Quite straightforward."
   ]
  },
  {
   "cell_type": "code",
   "execution_count": 12,
   "metadata": {},
   "outputs": [],
   "source": [
    "def random_mut(self, MR, MA):\n",
    "    # Set some synonyms\n",
    "    size = self.goal.size\n",
    "    pop  = self.children\n",
    "    \n",
    "    # Select individuals to mutate.\n",
    "    mut_amount = int(MR*len(pop)) # amount of individuals to mutate\n",
    "    individuals = choices(pop, k=mut_amount)\n",
    "    \n",
    "    # Change elements to random value.\n",
    "    gene_amount = int(MA*size) # amount of genes to mutate per individual\n",
    "    for i in individuals:\n",
    "        genes = np.random.choice(size, gene_amount, replace=False)\n",
    "        new   = np.random.randint(0, 256, gene_amount, np.uint8)\n",
    "        i[genes] = new # Changes are in-place"
   ]
  },
  {
   "cell_type": "markdown",
   "metadata": {},
   "source": [
    "#### Reduced Mutation\n",
    "\n",
    "This method is quite similar to the previous, still picking the same amount of individuals and genes randomly, but this time exploring a property of images. Small variations on pixels are visible, but a somewhat different shade can still result in a similar image. Therefore, we can restrict the amount of shades the mutated genes can receive, in the interest of getting a \"good enough\" approximation instead of the same exact image as the goal."
   ]
  },
  {
   "cell_type": "code",
   "execution_count": 13,
   "metadata": {},
   "outputs": [],
   "source": [
    "def reduced_mut(self, MR, MA):\n",
    "    # Set some synonyms\n",
    "    size = self.goal.size\n",
    "    pop  = self.children\n",
    "    \n",
    "    # Select individuals to mutate.\n",
    "    mut_amount = int(MR*len(pop)) # amount of individuals to mutate\n",
    "    individuals = choices(pop, k=mut_amount)\n",
    "    \n",
    "    # Change elements to random value.\n",
    "    gene_amount = int(MA*size) # amount of genes to mutate per individual\n",
    "    for i in individuals:\n",
    "        genes = np.random.choice(size, gene_amount, replace=False)\n",
    "        new   = np.random.randint(0, 32, gene_amount, np.uint8)\n",
    "        i[genes] = new*8 # Changes are in-place"
   ]
  },
  {
   "cell_type": "markdown",
   "metadata": {},
   "source": [
    "#### Increment Mutation\n",
    "\n",
    "We'll repeat most of the steps from the previous method, however we'll also constraint how much each gene can mutate based on the original value of the gene. Suppose we will mutate some gene $g$, when doing so this mutation will be constrained to be within some range $[g-\\epsilon,g+\\epsilon]$. The main goal of this method is to have a even more fine control of the mutation. In this case, $\\epsilon$ is not a parameter, but a constant $\\epsilon=10$."
   ]
  },
  {
   "cell_type": "code",
   "execution_count": 14,
   "metadata": {},
   "outputs": [],
   "source": [
    "def inc_mut(self, MR, MA):\n",
    "    # Set some synonyms\n",
    "    size = self.goal.size\n",
    "    pop  = self.children\n",
    "    \n",
    "    # Select individuals to mutate.\n",
    "    mut_amount = int(MR*len(pop)) # amount of individuals to mutate\n",
    "    individuals = choices(pop, k=mut_amount)\n",
    "    \n",
    "    # Change elements to random value.\n",
    "    gene_amount = int(MA*size) # amount of genes to mutate per individual\n",
    "    for i in individuals:\n",
    "        genes = np.random.choice(size, gene_amount, replace=False)\n",
    "        new   = np.random.randint(-10, 11, gene_amount, np.int8)\n",
    "        i[genes] += new # Changes are in-place"
   ]
  },
  {
   "cell_type": "markdown",
   "metadata": {},
   "source": [
    "### Replacement Techniques\n",
    "**Responsible: Eduardo**\n",
    "\n",
    "In this stage we're storing both the parents and their children. Increasing the population size can affect the algorithm performance in terms of memory usage and time as well as the convergence rate due to unfit individuals being kept alive. To mitigate this, it's necessary to choose which individuals will remain in the new generation.\n",
    "\n",
    "**Necessary parameters:**\n",
    " - None.\n",
    " \n",
    "**Used class variables:** \n",
    " 1. *self.children* - Calculates the fitness of every child to apply the replacement method.\n",
    " \n",
    "**Defined class variables:**\n",
    " 1. *self.all_fits* - Will be updated with the fitness of the individuals that survived the replacement.\n",
    " 2. *self.population* - The population will also be updated with the individuals that survived the replacement. "
   ]
  },
  {
   "cell_type": "markdown",
   "metadata": {},
   "source": [
    "#### Elitism\n",
    "\n",
    "The elitism replacement method follows the \"survival of the fittest\" principle, where the children are placed in the same pool as the previous generation, and the $N$ best individuals from that pool are chosen to survive. This speeds up convergence, since the population is always improving before converging."
   ]
  },
  {
   "cell_type": "code",
   "execution_count": 15,
   "metadata": {},
   "outputs": [],
   "source": [
    "def elitism(self):\n",
    "    ''' \n",
    "    Preserve the fittest individuals between both parents and children\n",
    "        \n",
    "    Parameters:\n",
    "        self - GeneticAlgorithm class which the function is being called from\n",
    "    '''\n",
    "    \n",
    "    # Calculate children fitness.\n",
    "    generator = map(lambda x: self.fit(x, self.goal), self.children)\n",
    "    all_fits = np.concatenate((self.all_fits, np.array(list(generator), dtype=np.float64)))\n",
    "    \n",
    "    # Sort fits and population by fits.\n",
    "    idxs = all_fits.argsort()\n",
    "    full = self.population + self.children\n",
    "    full = np.array(full)\n",
    "    \n",
    "    # Combine parents with children, sorted by fitness function\n",
    "    combined = full[idxs]\n",
    "    all_fits = all_fits[idxs]\n",
    "    \n",
    "    # Update population with the fittest individuals\n",
    "    self.population = list(combined[:self.pop_size])\n",
    "    self.all_fits = all_fits[:self.pop_size]"
   ]
  },
  {
   "cell_type": "markdown",
   "metadata": {},
   "source": [
    "#### Steady State\n",
    "\n",
    "The steady state replacement method ensures that all children generated in this generation are included in the next one. This means that, if $N$ children are created, this has the same effect as a generational replacement. If $M<N$, though, those $M$ children will replace the **least fit** parents.\n",
    "\n",
    "This method is interesting because it gives incentive to diversity, since all children are included in the next generation, while still preserving the best from the previous generation."
   ]
  },
  {
   "cell_type": "code",
   "execution_count": 16,
   "metadata": {},
   "outputs": [],
   "source": [
    "def steady_state(self):\n",
    "    ''' \n",
    "    Children replaces the least fit parents.\n",
    "    \n",
    "    Obs: if number of children and parents are equal, this has the same\n",
    "    effect as a generational replacement.\n",
    "    \n",
    "    Parameters:\n",
    "        self - GeneticAlgorithm class which the function is being called from\n",
    "    '''\n",
    "    \n",
    "    pop_sorted = sorted(range(self.pop_size), key = lambda x: self.all_fits[x])\n",
    "    \n",
    "    # Replace worst fits from population with childs\n",
    "    while self.children and pop_sorted:\n",
    "        old = pop_sorted.pop()\n",
    "        new = self.children.pop()\n",
    "        self.population[old] = new\n",
    "        self.all_fits[old] = self.fit(new, self.goal)"
   ]
  },
  {
   "cell_type": "markdown",
   "metadata": {},
   "source": [
    "## **Genetic Algorithm Class**\n",
    "**Responsible: Vinícius and Victor**\n",
    "\n",
    "The class will be responsible for selecting which methods will be used for the genetic algorithms steps as well as define it's parameters and executing the main loop. The main loop will be responsible for properly calling the methods and computing any in between tasks, as well as checking for halting conditions and picking the fittest individual found in all generations. This pattern was chosen as a way facilitate testing with different methods and parameters as well making the report modular.\n",
    "\n",
    "##### Initialization Process\n",
    "\n",
    "The initialization must receive the methods for each step (initialization, selection, reproduction, mutation and replacement), the fitness function to be used and the maximum amount of generations to be created. It's also responsible for defining the class variables which are shared among methods.\n",
    "\n",
    "The functions used for each step of the algorithm have the following declaration: `f(self, x, y, ...)` and do not return any value. If we wish to use this function within the class we must pass both the function and it's parameters as a tuple in the initilization to the correct default arguments, which are: *limit*, *fit*, *conv*, *init*, *mating*, *crossover*, *mutate* and *replace*. \n",
    "\n",
    "Return values are not used in these methods, as all of them have access to the shared class variables in the parameter `self`, allowing changes directly to these class variables.\n",
    "\n",
    "**Examples:** Suppose function `f(self, x, y, z)` is a reproduction method, therefore we will pass the default argument `crossover` as `crossover = (f,[x,y,z])`. Suppose function `h(self)` is a replacement method, therefore we will pass the default argument `replace` as `replace = (f,None)`.\n",
    "\n",
    "This allows use to define multiple function for each step of the algorithm and select which one to use by simply changing the default argument passed in the GenericAlgorithm class initializations. We can also easily change parameters when testing.\n",
    "\n",
    "##### Fitness Update Method\n",
    "\n",
    "The `GeneticAlgorithm.update` method seeks to contain all necessary fitness update in a single function which is called only once per iteration. This is the most computationally expensive part of the algorithm, containing and calling it a single time per iteration is paramount for perfomance.\n",
    "\n",
    "##### Main Loop\n",
    "\n",
    "The `GeneticAlgorithm.test` function contains the main loop of the algorithm which is reponsible for coodinating the usage of each method defined for each step. The default parameter `graph` can be used to define datapointd for ploting the fitness values progression across generations. Whe can define `graph=list(range(100,5))` to collect data each 5 generations until we reach generation 100.\n",
    "\n",
    "##### Preprocessing and Visualization Method\n",
    "\n",
    "the `GeneticAlgorithm.read` method can read an image from a given path and downscale it accorgin to a value `res_factor`. The downscaling can be both a float value, which will alter the image resolution percentualy, or it can be a tuple of integers definig the amount of pixels in each dimension. This method also flattens the image making it into an one dimensional array, which is necessary for or model.\n",
    "\n",
    "The `GeneticAlgorithm.show` simply restored the flattened image to it's previous shape and exhibits it using _matplotlib_.\n",
    "\n",
    "##### Fitness Plotting Methods\n",
    "\n",
    "If the variable `graph` is defined when runing the main loop, the values for the worst individual in the current generation, the median individual in the current generation and the best individual found so far will be collect and exhibited in a graph at the end of the program's excution.\n",
    "\n",
    "##### Reset Method\n",
    "\n",
    "This is used only in case we want to reutilize the instance for another genetic algorithm. We can call the `GeneticAlgorithm.reset()` method and the run it again as it was the first time. This is particulary usefull if we wish to test the same instance with a single different step: suppose we want to change only the reproduction method of the instance `GA`, then we can reset `GA` and redefine the `GA.reprod` variable. \n"
   ]
  },
  {
   "cell_type": "code",
   "execution_count": 106,
   "metadata": {},
   "outputs": [],
   "source": [
    "class GeneticAlgorithm():\n",
    "    ''' The GeneticAlgorithm class retains and coordinates all necessary variables and methods\n",
    "        for the execution of the genetic algorithm created.\n",
    "        It's initialization receives the methods which will compute each step of the algorithm\n",
    "        as well as the parameters utilized by each of these methods. A limit integer is also\n",
    "        define to halt the programs execution.\n",
    "        \n",
    "        Methods:\n",
    "            run    - execute the genetic algorithm based on the instance variables/methods\n",
    "            update - recalculate individuals fitness and updates best individual so far\n",
    "            read   - read a image from file, rescale and flatten\n",
    "            show   - reshape flattened image and exhibit with matplotlib\n",
    "    '''\n",
    "    \n",
    "    def __init__(self, \n",
    "                 limit     = 10000, # Max amount of generations to create\n",
    "                 fit       = None,  # Function to calculate individual fitness\n",
    "                 conv      = None,  # Convergence function and parameters\n",
    "                 init      = None,  # Population Initializer function and parameters\n",
    "                 mating    = None,  # Population Selection function and parameters\n",
    "                 crossover = None,  # Selected Indviduals Crossover function and parameters\n",
    "                 mutate    = None,  # Selected Indviduals Mutation function and parameters\n",
    "                 replace   = None,  # Choose which individuals are kept/replaced\n",
    "                ):\n",
    "        \n",
    "        # Halting criterias\n",
    "        self.counter = 0 # Convergence counter\n",
    "        self.limit = limit\n",
    "        self.abort = lambda: bool(self.gen_count >= self.limit)\n",
    "        \n",
    "        # Goal related variables\n",
    "        self.shape = None # Holds original downsized image shape\n",
    "        self.goal  = None # Holds an array with the ideal individual (goal image)\n",
    "        \n",
    "        # Convergence related variables\n",
    "        self.best        = None         # Best individual obtained so far\n",
    "        self.best_fit    = float('inf') # The fit score of the bets individual so far\n",
    "        self.all_fits    = None         # List of each individual fitness\n",
    "        self.best_gen    = None         # Best generation.\n",
    "        self.best_genfit = float('inf')\n",
    "        \n",
    "        # Generation related variables\n",
    "        self.pop_size   = None  # The amount of individuals kept per generation\n",
    "        self.population = None  # List of individual of the current generation\n",
    "        self.gen_count  = 1     # Current generation (first, second, ...)\n",
    "        self.mates      = None  # Paired individuals which will reproduce\n",
    "        self.children   = []\n",
    "    \n",
    "        # Static Genetic Methods Functions\n",
    "        self.fit = fit\n",
    "        self.define = lambda x: lambda: x[0](self,*x[1]) if x[1] else x[0](self)\n",
    "        self.conv      = self.define(conv)\n",
    "        self.init      = self.define(init)\n",
    "        self.mating    = self.define(mating)\n",
    "        self.crossover = self.define(crossover)\n",
    "        self.mutate    = self.define(mutate)\n",
    "        self.replace   = self.define(replace)\n",
    "        # TODO: MR needs to decrease with time to converge.\n",
    "        \n",
    "        # Auxiliar variables\n",
    "        self.time = 0\n",
    "        self.plot_points = []\n",
    "        \n",
    "        test = [self.conv,self.init,self.mating,self.crossover,self.mutate]\n",
    "        test = all(map(bool, test))\n",
    "        assert test, \"There are undefined steps for the algorithm\"\n",
    "    \n",
    "    def test(self, img_path, res_factor=None, graph=None):\n",
    "        milestones = [1000, 10000, 50000, 100000, 200000, 500000, 1000000, 2000000, 3000000, 4000000, 5000000, 6000000, 7000000, 8000000, 9000000]\n",
    "        self.time = time()\n",
    "        self.read(img_path, res=res_factor)\n",
    "        self.init()\n",
    "        \n",
    "        generator = map(lambda x: self.fit(x, self.goal), self.population)\n",
    "        self.all_fits = np.array(list(generator), dtype=np.float64)\n",
    "        \n",
    "        while not (self.conv() or self.abort()):\n",
    "            print(f\"Current Generation: {self.gen_count:>7} (avg. fit: {self.all_fits.mean():>12.3f}). Current Best: {self.best_fit:>10} (gen {self.best_gen}).\\r\", end='')\n",
    "            \n",
    "            self.mating()     # Generate tuples indicating mating pairs\n",
    "            self.crossover()  # Generate two childs for each couple\n",
    "            self.mutate()     # Apply mutation on all individuals (old and new)\n",
    "            self.replace()    # Select which individuals will be kept\n",
    "            \n",
    "            self.gen_count += 1\n",
    "            self.update()\n",
    "            \n",
    "            if graph and self.gen_count in graph: \n",
    "                self.update_points()\n",
    "            \n",
    "            if self.gen_count in milestones:\n",
    "                self.write(self.best, img_path)\n",
    "            continue\n",
    "        \n",
    "        print(f\"\\nElapsed time: {(time()-self.time):.3f}\")\n",
    "        self.counter = 0\n",
    "        self.show(self.best, compare=True)\n",
    "        self.write(self.best, img_path)\n",
    "        if len(self.plot_points) > 2: self.plot(graph)\n",
    "    \n",
    "    def reset(self):\n",
    "        ''' Reset some variables to recycle the class with new methods and paramters'''\n",
    "        self.best        = None         # Best individual obtained so far\n",
    "        self.best_fit    = float('inf') # The fit score of the bets individual so far\n",
    "        self.best_gen    = None         # Best generation.\n",
    "        self.best_genfit = float('inf')\n",
    "        self.time        = 0\n",
    "        self.gen_count   = 0\n",
    "        self.plot_points = []\n",
    "        return self\n",
    "        \n",
    "    def update(self):\n",
    "        ''' Updates the fitness of every individual in the population.\n",
    "            Also updates the fittest individual found among all generations.\n",
    "        '''\n",
    "        # Update fittest individual\n",
    "        idx = np.argmin(self.all_fits)\n",
    "        if self.all_fits[idx] < self.best_fit: \n",
    "            self.best     = self.population[idx].copy() # save best inividual\n",
    "            self.best_gen = self.gen_count\n",
    "            self.best_fit = self.all_fits[idx]\n",
    "\n",
    "    def update_points(self):\n",
    "        idx = sorted(range(self.pop_size), key=lambda x:self.all_fits[x])\n",
    "        best = self.best_fit\n",
    "        med = self.all_fits[idx[self.pop_size//2]]\n",
    "        worst = self.all_fits[idx[-1]]\n",
    "        self.plot_points.append((best,med,worst))\n",
    "        \n",
    "    def plot(self, graph):\n",
    "        x = graph[:len(self.plot_points)]\n",
    "        y_best,y_med,y_worst = [],[],[]\n",
    "        for b,m,w in self.plot_points:\n",
    "            y_best.append(b)\n",
    "            y_med.append(m)\n",
    "            y_worst.append(w)\n",
    "        plt.plot(x, y_worst, '--', label=\"Worst\")\n",
    "        plt.plot(x, y_med, '--', label=\"Median\")\n",
    "        plt.plot(x, y_best, 'r-',label=\"Best\")\n",
    "        plt.legend()\n",
    "        plt.ylabel('Fitness')\n",
    "        plt.xlabel('Generation')\n",
    "        plt.title('Fitness per Generation')\n",
    "        plt.show()\n",
    "            \n",
    "    def read(self, filepath, res=None):\n",
    "        '''Reads an image in grey scale, resizes it and extends to array.\n",
    "            Params:\n",
    "                filepath - Path to the input image to be read\n",
    "                res - Either tuple with new pixel dimensions or ratio with new scale\n",
    "            Return: \n",
    "                np.array - array with the streched image\n",
    "        '''\n",
    "        img = imread(filepath,0) # load in greyscale\n",
    "        \n",
    "        if res and tuple==type(res):\n",
    "            img = resize(img, res)\n",
    "        elif res and float==type(res):\n",
    "            w = int(img.shape[0]*res)\n",
    "            h = int(img.shape[1]*res)\n",
    "            img = resize(img, (h,w))\n",
    "            \n",
    "        self.shape = img.shape # keep shape\n",
    "        self.goal  = img.reshape(img.size)\n",
    "\n",
    "    def show(self, individual, compare=False):\n",
    "        '''Prints the image represented by an individual.\n",
    "            Params:\n",
    "                individual - Np.array to be reshaped and printed\n",
    "        '''\n",
    "        plt.figure(figsize=(15,15))\n",
    "        \n",
    "        # If compare mode, print goal along side\n",
    "        if compare: \n",
    "            plt.subplot(1,2,2)\n",
    "            goal = self.goal.copy()\n",
    "            goal = goal.reshape(self.shape)\n",
    "            plt.imshow(goal, cmap='gray')\n",
    "            plt.title('Goal')\n",
    "            plt.axis('off')\n",
    "            plt.subplot(1,2,1)\n",
    "            \n",
    "        img = individual.copy()\n",
    "        img = img.reshape(self.shape)\n",
    "        plt.imshow(img, cmap='gray')\n",
    "        plt.title('Individual')\n",
    "        plt.axis('off')\n",
    "        plt.show() \n",
    "    \n",
    "    def write(self, individual, path, folder='Outputs'):\n",
    "        img = individual.copy()\n",
    "        img = img.reshape(self.shape)\n",
    "        name= 'g' + str(self.gen_count) + '_' + basename(path)\n",
    "        imwrite(join(folder, name), img)"
   ]
  },
  {
   "cell_type": "markdown",
   "metadata": {},
   "source": [
    "## **Tests**\n",
    "**Responsible: Eduardo, Victor and Vinicius**\n",
    "\n",
    "Now that a few variations of each technique are implemented, it's possible to test multiple combinations of those methods and other parameters, and compare the final results."
   ]
  },
  {
   "cell_type": "markdown",
   "metadata": {},
   "source": [
    "### Test Cases\n",
    "\n",
    "As previously mentioned, the test cases are **small**, **monochromatic** images, sometimes with a reduction factor. This is due to the amount of possibilities per individual, the convergence can be very slow if the pixel count is too large. Since we are dealing with a low pixel count, pixel art and sprites are good candidates for a recognizable goal image.\n",
    "\n",
    "Along with those cases, some larger images (200x200) are also used to test scalability."
   ]
  },
  {
   "cell_type": "markdown",
   "metadata": {},
   "source": [
    "## **Notes on the Implementation Process**\n",
    "\n",
    " - A method of Uniform Crossover was implemented initially, to contrast with the k-point crossover. It was extremely slow since it had to iterate through every gene (and there are a lot of genes) and randomize the possibility of gene exchange. Despite being a possible counter measure to premature convergence, it was simply to slow to use.\n",
    " - Rergarding mutation rate and mutation ammount, in our case it appeared to be better when we would use the a higher probability of mutation with a smaller number of genes to mutate. The more genes we mutate, the slower is the iteration (as we need to roll the dice more times), so a higher change of mutation was a more efficient approach agains a higher number of genes to mutate.\n",
    " - Different sizes of populations did not seem to interfere significantly with the results, as expected a smaller population converges faster but it alsos converges prematurely most times.\n",
    " - We've noted that the elitism replacement method was killing the diversity within our population. This observation was done through the average fitness of each generation: with this value we were able to note that the average fitness was always equal to the best fit so far. So there was the need to wait for a mutation to insert some diversity in the population. Changing the the replacement method was helpful to create diversity and improve the convergence rate."
   ]
  },
  {
   "cell_type": "markdown",
   "metadata": {},
   "source": [
    "## **Comparisons**\n",
    "##### Responsible: Vinicius and Eduardo\n",
    "\n",
    "### Method Comparison"
   ]
  },
  {
   "cell_type": "markdown",
   "metadata": {},
   "source": [
    "In this section we'll discuss and compare some of the methods implemented for each step of the algorithm. The idea is to first present the methods which we judged as the best for the problem being handled and then to present results from the other methods justifying why they are either worst or as good as the best methods."
   ]
  },
  {
   "cell_type": "markdown",
   "metadata": {},
   "source": [
    "####  The Best Settings\n",
    "\n",
    "During several experimentations, the set of methods and paramenters which appeared to be the most adequate for generating images, we're the ones define in the code bellow."
   ]
  },
  {
   "cell_type": "code",
   "execution_count": 107,
   "metadata": {
    "scrolled": true
   },
   "outputs": [
    {
     "name": "stdout",
     "output_type": "stream",
     "text": [
      "Generating Population...    0/100\r",
      "Generating Population...    1/100\r",
      "Generating Population...    2/100\r",
      "Generating Population...    3/100\r",
      "Generating Population...    4/100\r",
      "Generating Population...    5/100\r",
      "Generating Population...    6/100\r",
      "Generating Population...    7/100\r",
      "Generating Population...    8/100\r",
      "Generating Population...    9/100\r",
      "Generating Population...   10/100\r",
      "Generating Population...   11/100\r",
      "Generating Population...   12/100\r",
      "Generating Population...   13/100\r",
      "Generating Population...   14/100\r",
      "Generating Population...   15/100\r",
      "Generating Population...   16/100\r",
      "Generating Population...   17/100\r",
      "Generating Population...   18/100\r",
      "Generating Population...   19/100\r",
      "Generating Population...   20/100\r",
      "Generating Population...   21/100\r",
      "Generating Population...   22/100\r",
      "Generating Population...   23/100\r",
      "Generating Population...   24/100\r",
      "Generating Population...   25/100\r",
      "Generating Population...   26/100\r",
      "Generating Population...   27/100\r",
      "Generating Population...   28/100\r",
      "Generating Population...   29/100\r",
      "Generating Population...   30/100\r",
      "Generating Population...   31/100\r",
      "Generating Population...   32/100\r",
      "Generating Population...   33/100\r",
      "Generating Population...   34/100\r",
      "Generating Population...   35/100\r",
      "Generating Population...   36/100\r",
      "Generating Population...   37/100\r",
      "Generating Population...   38/100\r",
      "Generating Population...   39/100\r",
      "Generating Population...   40/100\r",
      "Generating Population...   41/100\r",
      "Generating Population...   42/100\r",
      "Generating Population...   43/100\r",
      "Generating Population...   44/100\r",
      "Generating Population...   45/100\r",
      "Generating Population...   46/100\r",
      "Generating Population...   47/100\r",
      "Generating Population...   48/100\r",
      "Generating Population...   49/100\r",
      "Generating Population...   50/100\r",
      "Generating Population...   51/100\r",
      "Generating Population...   52/100\r",
      "Generating Population...   53/100\r",
      "Generating Population...   54/100\r",
      "Generating Population...   55/100\r",
      "Generating Population...   56/100\r",
      "Generating Population...   57/100\r",
      "Generating Population...   58/100\r",
      "Generating Population...   59/100\r",
      "Generating Population...   60/100\r",
      "Generating Population...   61/100\r",
      "Generating Population...   62/100\r",
      "Generating Population...   63/100\r",
      "Generating Population...   64/100\r",
      "Generating Population...   65/100\r",
      "Generating Population...   66/100\r",
      "Generating Population...   67/100\r",
      "Generating Population...   68/100\r",
      "Generating Population...   69/100\r",
      "Generating Population...   70/100\r",
      "Generating Population...   71/100\r",
      "Generating Population...   72/100\r",
      "Generating Population...   73/100\r",
      "Generating Population...   74/100\r",
      "Generating Population...   75/100\r",
      "Generating Population...   76/100\r",
      "Generating Population...   77/100\r",
      "Generating Population...   78/100\r",
      "Generating Population...   79/100\r",
      "Generating Population...   80/100\r",
      "Generating Population...   81/100\r",
      "Generating Population...   82/100\r",
      "Generating Population...   83/100\r",
      "Generating Population...   84/100\r",
      "Generating Population...   85/100\r",
      "Generating Population...   86/100\r",
      "Generating Population...   87/100\r",
      "Generating Population...   88/100\r",
      "Generating Population...   89/100\r",
      "Generating Population...   90/100\r",
      "Generating Population...   91/100\r",
      "Generating Population...   92/100\r",
      "Generating Population...   93/100\r",
      "Generating Population...   94/100\r",
      "Generating Population...   95/100\r",
      "Generating Population...   96/100\r",
      "Generating Population...   97/100\r",
      "Generating Population...   98/100\r",
      "Generating Population...   99/100\r",
      "                                                  \r",
      "Current Generation:       1 (avg. fit: 13543447.250). Current Best:        inf (gen None).\r",
      "Current Generation:       2 (avg. fit: 13374087.690). Current Best: 12606814.0 (gen 2).\r",
      "Current Generation:       3 (avg. fit: 13166777.210). Current Best: 12586871.0 (gen 3).\r",
      "Current Generation:       4 (avg. fit: 13059398.450). Current Best: 12586871.0 (gen 3).\r",
      "Current Generation:       5 (avg. fit: 12927019.060). Current Best: 12496858.0 (gen 5).\r",
      "Current Generation:       6 (avg. fit: 12822633.040). Current Best: 12397143.0 (gen 6).\r",
      "Current Generation:       7 (avg. fit: 12746618.790). Current Best: 12341028.0 (gen 7).\r",
      "Current Generation:       8 (avg. fit: 12678849.190). Current Best: 12252471.0 (gen 8).\r",
      "Current Generation:       9 (avg. fit: 12596458.520). Current Best: 11845354.0 (gen 9).\r",
      "Current Generation:      10 (avg. fit: 12509843.790). Current Best: 11845354.0 (gen 9).\r",
      "Current Generation:      11 (avg. fit: 12438229.470). Current Best: 11845354.0 (gen 9).\r",
      "Current Generation:      12 (avg. fit: 12364534.520). Current Best: 11845354.0 (gen 9).\r",
      "Current Generation:      13 (avg. fit: 12311022.090). Current Best: 11845354.0 (gen 9).\r",
      "Current Generation:      14 (avg. fit: 12254506.110). Current Best: 11845354.0 (gen 9).\r",
      "Current Generation:      15 (avg. fit: 12154321.580). Current Best: 11845354.0 (gen 9).\r",
      "Current Generation:      16 (avg. fit: 12078837.350). Current Best: 11633971.0 (gen 16).\r",
      "Current Generation:      17 (avg. fit: 12031183.350). Current Best: 11633971.0 (gen 16).\r",
      "Current Generation:      18 (avg. fit: 11977934.940). Current Best: 11633971.0 (gen 16).\r",
      "Current Generation:      19 (avg. fit: 11921063.720). Current Best: 11549187.0 (gen 19).\r",
      "Current Generation:      20 (avg. fit: 11881095.070). Current Best: 11549187.0 (gen 19).\r",
      "Current Generation:      21 (avg. fit: 11815970.840). Current Best: 11486467.0 (gen 21).\r",
      "Current Generation:      22 (avg. fit: 11774226.600). Current Best: 11486467.0 (gen 21).\r",
      "Current Generation:      23 (avg. fit: 11731798.640). Current Best: 11461353.0 (gen 23).\r",
      "Current Generation:      24 (avg. fit: 11695895.020). Current Best: 11353626.0 (gen 24).\r",
      "Current Generation:      25 (avg. fit: 11629107.720). Current Best: 11353626.0 (gen 24).\r",
      "Current Generation:      26 (avg. fit: 11561178.870). Current Best: 11138755.0 (gen 26).\r",
      "Current Generation:      27 (avg. fit: 11525323.810). Current Best: 11133938.0 (gen 27).\r",
      "Current Generation:      28 (avg. fit: 11487380.690). Current Best: 11133938.0 (gen 27).\r",
      "Current Generation:      29 (avg. fit: 11450138.000). Current Best: 11111169.0 (gen 29).\r",
      "Current Generation:      30 (avg. fit: 11400328.660). Current Best: 11084422.0 (gen 30).\r",
      "Current Generation:      31 (avg. fit: 11361408.050). Current Best: 11033120.0 (gen 31).\r",
      "Current Generation:      32 (avg. fit: 11316806.420). Current Best: 11033120.0 (gen 31).\r",
      "Current Generation:      33 (avg. fit: 11249438.920). Current Best: 11033120.0 (gen 31).\r",
      "Current Generation:      34 (avg. fit: 11204559.570). Current Best: 10986623.0 (gen 34).\r",
      "Current Generation:      35 (avg. fit: 11160138.610). Current Best: 10979098.0 (gen 35).\r",
      "Current Generation:      36 (avg. fit: 11113571.910). Current Best: 10667211.0 (gen 36).\r",
      "Current Generation:      37 (avg. fit: 11073488.130). Current Best: 10667211.0 (gen 36).\r",
      "Current Generation:      38 (avg. fit: 11031970.440). Current Best: 10667211.0 (gen 36).\r",
      "Current Generation:      39 (avg. fit: 10999661.430). Current Best: 10667211.0 (gen 36).\r",
      "Current Generation:      40 (avg. fit: 10943821.990). Current Best: 10635709.0 (gen 40).\r",
      "Current Generation:      41 (avg. fit: 10890350.000). Current Best: 10609331.0 (gen 41).\r",
      "Current Generation:      42 (avg. fit: 10848933.530). Current Best: 10542308.0 (gen 42).\r",
      "Current Generation:      43 (avg. fit: 10814254.000). Current Best: 10542308.0 (gen 42).\r",
      "Current Generation:      44 (avg. fit: 10787173.340). Current Best: 10542308.0 (gen 42).\r",
      "Current Generation:      45 (avg. fit: 10725787.420). Current Best: 10440840.0 (gen 45).\r",
      "Current Generation:      46 (avg. fit: 10701325.210). Current Best: 10440840.0 (gen 45).\r",
      "Current Generation:      47 (avg. fit: 10656014.050). Current Best: 10346619.0 (gen 47).\r",
      "Current Generation:      48 (avg. fit: 10617969.020). Current Best: 10346619.0 (gen 47).\r",
      "Current Generation:      49 (avg. fit: 10579757.230). Current Best: 10005326.0 (gen 49).\r",
      "Current Generation:      50 (avg. fit: 10522683.570). Current Best: 10005326.0 (gen 49).\r",
      "Current Generation:      51 (avg. fit: 10487045.140). Current Best: 10005326.0 (gen 49).\r",
      "Current Generation:      52 (avg. fit: 10453224.380). Current Best: 10005326.0 (gen 49).\r",
      "Current Generation:      53 (avg. fit: 10395786.830). Current Best: 10005326.0 (gen 49).\r",
      "Current Generation:      54 (avg. fit: 10353458.550). Current Best: 10005326.0 (gen 49).\r",
      "Current Generation:      55 (avg. fit: 10306513.280). Current Best: 10005326.0 (gen 49).\r",
      "Current Generation:      56 (avg. fit: 10272260.250). Current Best: 10005326.0 (gen 49).\r",
      "Current Generation:      57 (avg. fit: 10249451.100). Current Best:  9970674.0 (gen 57).\r",
      "Current Generation:      58 (avg. fit: 10232720.630). Current Best:  9970674.0 (gen 57).\r",
      "Current Generation:      59 (avg. fit: 10171713.530). Current Best:  9908596.0 (gen 59).\r",
      "Current Generation:      60 (avg. fit: 10139587.340). Current Best:  9817653.0 (gen 60).\r",
      "Current Generation:      61 (avg. fit: 10100833.050). Current Best:  9760479.0 (gen 61).\r",
      "Current Generation:      62 (avg. fit: 10057811.020). Current Best:  9760479.0 (gen 61).\r",
      "Current Generation:      63 (avg. fit: 10016745.490). Current Best:  9760479.0 (gen 61).\r",
      "Current Generation:      64 (avg. fit:  9986547.190). Current Best:  9760479.0 (gen 61).\r",
      "Current Generation:      65 (avg. fit:  9968027.710). Current Best:  9714609.0 (gen 65).\r",
      "Current Generation:      66 (avg. fit:  9945528.770). Current Best:  9714609.0 (gen 65).\r",
      "Current Generation:      67 (avg. fit:  9910996.030). Current Best:  9713541.0 (gen 67).\r",
      "Current Generation:      68 (avg. fit:  9878456.420). Current Best:  9695917.0 (gen 68).\r",
      "Current Generation:      69 (avg. fit:  9836395.250). Current Best:  9683914.0 (gen 69).\r"
     ]
    },
    {
     "name": "stdout",
     "output_type": "stream",
     "text": [
      "Current Generation:   50000 (avg. fit:   548652.270). Current Best:   528797.0 (gen 49901).\n",
      "Elapsed time: 108.152\n"
     ]
    },
    {
     "data": {
      "image/png": "[encoded data removed]",
      "text/plain": [
       "<Figure size 1080x1080 with 2 Axes>"
      ]
     },
     "metadata": {
      "needs_background": "light"
     },
     "output_type": "display_data"
    },
    {
     "data": {
      "image/png": "[encoded data removed]",
      "text/plain": [
       "<Figure size 432x288 with 1 Axes>"
      ]
     },
     "metadata": {
      "needs_background": "light"
     },
     "output_type": "display_data"
    }
   ],
   "source": [
    "GA = GeneticAlgorithm(\n",
    "    limit     = 50001,\n",
    "    fit       = squared_error,\n",
    "    conv      = (convergence,(500000,)), \n",
    "    init      = (random,(100,)),\n",
    "    mating    = (roulette,[50]), \n",
    "    crossover = (k_point_crossover,[3]), \n",
    "    mutate    = (reduced_mut,[0.05,0.025]), # Has a good convergence after a long time\n",
    "    replace   = (steady_state,None), \n",
    "    )\n",
    "\n",
    "GA.test('images/link.png', res_factor=0.6, graph=list(range(1,50001,500)))"
   ]
  },
  {
   "cell_type": "markdown",
   "metadata": {},
   "source": [
    "The simple test case above can give us a glimpse of why these settings work both on the short and long run: \n",
    "* The best individual converges properly as seen in the fitness plot.\n",
    "* The worst individual has a sufficiently worst fit than the best individual indicating some diversity. \n",
    "* The oscilation in the worst individual indicate the periodic insertion of diversity within the population. \n",
    "* The median individual is nearly identical to the best individual, which indicates that the overall population fitness is also converging.\n",
    "* Iterations are reasonably fast: each iteration takes about 0.002 seconds.\n",
    "\n",
    "These reasons lead us to use this instance of the `GeneticAlgorithm` class with larger images which would iterate more than a million times."
   ]
  },
  {
   "cell_type": "markdown",
   "metadata": {},
   "source": [
    "#### Analysing Implemented Methods"
   ]
  },
  {
   "cell_type": "markdown",
   "metadata": {},
   "source": [
    "To further justify the selection of the configurations in the previous section, we'll extend this analysis and compare how other methods fares for each step of the `GeneticAlgorithm` class. To avoid redefining the same setting every time we test a different method, the instance `GA` defined in the previous section will be copied and only the method we wish to compare it to will be changed."
   ]
  },
  {
   "cell_type": "markdown",
   "metadata": {},
   "source": [
    "##### Tournament Selection:\n",
    "This alternative to the roulette method takes three more paramters than the roulette, making quite diffucult to adjust these values. The tournament method also diverged for most test cases, rendering it useless. The roulette method beats this method in time, quality and simplicity."
   ]
  },
  {
   "cell_type": "code",
   "execution_count": 111,
   "metadata": {},
   "outputs": [
    {
     "name": "stdout",
     "output_type": "stream",
     "text": [
      "Current Generation:   50000 (avg. fit: 19193611.960). Current Best: 12285152.0 (gen 43466).\n",
      "Elapsed time: 190.697\n"
     ]
    },
    {
     "data": {
      "image/png": "[encoded data removed]",
      "text/plain": [
       "<Figure size 1080x1080 with 2 Axes>"
      ]
     },
     "metadata": {
      "needs_background": "light"
     },
     "output_type": "display_data"
    },
    {
     "data": {
      "image/png": "[encoded data removed]",
      "text/plain": [
       "<Figure size 432x288 with 1 Axes>"
      ]
     },
     "metadata": {
      "needs_background": "light"
     },
     "output_type": "display_data"
    }
   ],
   "source": [
    "GA.reset() # Creates a new instance using same methods and paramters\n",
    "GA.mating = GA.define((tournament,[10,20,2,20])) # Update method for the selection step\n",
    "GA.test('images/link.png', res_factor=0.6, graph=list(range(1,50001,500)))\n",
    "GA.mating = GA.define((roulette,[50])) # Back to the original method"
   ]
  },
  {
   "cell_type": "markdown",
   "metadata": {},
   "source": [
    "##### Block Crossover"
   ]
  },
  {
   "cell_type": "markdown",
   "metadata": {},
   "source": [
    "##### Random Mutation:\n",
    "This method of mutation does not provides as much diversity as the reduced mutation as seem in the fitness graph bellow: the worst case individual is quite close regarding fitness when compared to the best. In later generations this reduced diversity might cause a halt in the convergence process. This method takes more time per iteration without a significant gain in convergence speed, which lead us to choose the reduced mutation instead."
   ]
  },
  {
   "cell_type": "code",
   "execution_count": 112,
   "metadata": {
    "scrolled": true
   },
   "outputs": [
    {
     "name": "stdout",
     "output_type": "stream",
     "text": [
      "Generating Population...    0/100\r",
      "Generating Population...    1/100\r",
      "Generating Population...    2/100\r",
      "Generating Population...    3/100\r",
      "Generating Population...    4/100\r",
      "Generating Population...    5/100\r",
      "Generating Population...    6/100\r",
      "Generating Population...    7/100\r",
      "Generating Population...    8/100\r",
      "Generating Population...    9/100\r",
      "Generating Population...   10/100\r",
      "Generating Population...   11/100\r",
      "Generating Population...   12/100\r",
      "Generating Population...   13/100\r",
      "Generating Population...   14/100\r",
      "Generating Population...   15/100\r",
      "Generating Population...   16/100\r",
      "Generating Population...   17/100\r",
      "Generating Population...   18/100\r",
      "Generating Population...   19/100\r",
      "Generating Population...   20/100\r",
      "Generating Population...   21/100\r",
      "Generating Population...   22/100\r",
      "Generating Population...   23/100\r",
      "Generating Population...   24/100\r",
      "Generating Population...   25/100\r",
      "Generating Population...   26/100\r",
      "Generating Population...   27/100\r",
      "Generating Population...   28/100\r",
      "Generating Population...   29/100\r",
      "Generating Population...   30/100\r",
      "Generating Population...   31/100\r",
      "Generating Population...   32/100\r",
      "Generating Population...   33/100\r",
      "Generating Population...   34/100\r",
      "Generating Population...   35/100\r",
      "Generating Population...   36/100\r",
      "Generating Population...   37/100\r",
      "Generating Population...   38/100\r",
      "Generating Population...   39/100\r",
      "Generating Population...   40/100\r",
      "Generating Population...   41/100\r",
      "Generating Population...   42/100\r",
      "Generating Population...   43/100\r",
      "Generating Population...   44/100\r",
      "Generating Population...   45/100\r",
      "Generating Population...   46/100\r",
      "Generating Population...   47/100\r",
      "Generating Population...   48/100\r",
      "Generating Population...   49/100\r",
      "Generating Population...   50/100\r",
      "Generating Population...   51/100\r",
      "Generating Population...   52/100\r",
      "Generating Population...   53/100\r",
      "Generating Population...   54/100\r",
      "Generating Population...   55/100\r",
      "Generating Population...   56/100\r",
      "Generating Population...   57/100\r",
      "Generating Population...   58/100\r",
      "Generating Population...   59/100\r",
      "Generating Population...   60/100\r",
      "Generating Population...   61/100\r",
      "Generating Population...   62/100\r",
      "Generating Population...   63/100\r",
      "Generating Population...   64/100\r",
      "Generating Population...   65/100\r",
      "Generating Population...   66/100\r",
      "Generating Population...   67/100\r",
      "Generating Population...   68/100\r",
      "Generating Population...   69/100\r",
      "Generating Population...   70/100\r",
      "Generating Population...   71/100\r",
      "Generating Population...   72/100\r",
      "Generating Population...   73/100\r",
      "Generating Population...   74/100\r",
      "Generating Population...   75/100\r",
      "Generating Population...   76/100\r",
      "Generating Population...   77/100\r",
      "Generating Population...   78/100\r",
      "Generating Population...   79/100\r",
      "Generating Population...   80/100\r",
      "Generating Population...   81/100\r",
      "Generating Population...   82/100\r",
      "Generating Population...   83/100\r",
      "Generating Population...   84/100\r",
      "Generating Population...   85/100\r",
      "Generating Population...   86/100\r",
      "Generating Population...   87/100\r",
      "Generating Population...   88/100\r",
      "Generating Population...   89/100\r",
      "Generating Population...   90/100\r",
      "Generating Population...   91/100\r",
      "Generating Population...   92/100\r",
      "Generating Population...   93/100\r",
      "Generating Population...   94/100\r",
      "Generating Population...   95/100\r",
      "Generating Population...   96/100\r",
      "Generating Population...   97/100\r",
      "Generating Population...   98/100\r",
      "Generating Population...   99/100\r",
      "                                                  \r",
      "Current Generation:       0 (avg. fit: 13506971.840). Current Best:        inf (gen None).\r",
      "Current Generation:       1 (avg. fit: 13303403.010). Current Best: 12512575.0 (gen 1).\r",
      "Current Generation:       2 (avg. fit: 13187856.970). Current Best: 12512575.0 (gen 1).\r",
      "Current Generation:       3 (avg. fit: 13053071.680). Current Best: 12512575.0 (gen 1).\r",
      "Current Generation:       4 (avg. fit: 12946316.650). Current Best: 12453312.0 (gen 4).\r",
      "Current Generation:       5 (avg. fit: 12833474.400). Current Best: 12427978.0 (gen 5).\r",
      "Current Generation:       6 (avg. fit: 12717188.760). Current Best: 12010910.0 (gen 6).\r",
      "Current Generation:       7 (avg. fit: 12622824.340). Current Best: 12010910.0 (gen 6).\r",
      "Current Generation:       8 (avg. fit: 12507448.290). Current Best: 12010910.0 (gen 6).\r",
      "Current Generation:       9 (avg. fit: 12419913.330). Current Best: 11981682.0 (gen 9).\r",
      "Current Generation:      10 (avg. fit: 12333923.710). Current Best: 11848647.0 (gen 10).\r",
      "Current Generation:      11 (avg. fit: 12239365.310). Current Best: 11848647.0 (gen 10).\r",
      "Current Generation:      12 (avg. fit: 12158974.080). Current Best: 11690639.0 (gen 12).\r",
      "Current Generation:      13 (avg. fit: 12115545.060). Current Best: 11690639.0 (gen 12).\r",
      "Current Generation:      14 (avg. fit: 12042339.890). Current Best: 11550332.0 (gen 14).\r",
      "Current Generation:      15 (avg. fit: 12007711.410). Current Best: 11550332.0 (gen 14).\r",
      "Current Generation:      16 (avg. fit: 11949720.350). Current Best: 11303263.0 (gen 16).\r",
      "Current Generation:      17 (avg. fit: 11898538.620). Current Best: 11303263.0 (gen 16).\r",
      "Current Generation:      18 (avg. fit: 11832438.740). Current Best: 11303263.0 (gen 16).\r",
      "Current Generation:      19 (avg. fit: 11788253.500). Current Best: 11303263.0 (gen 16).\r",
      "Current Generation:      20 (avg. fit: 11728696.410). Current Best: 11292655.0 (gen 20).\r",
      "Current Generation:      21 (avg. fit: 11710333.510). Current Best: 11292655.0 (gen 20).\r",
      "Current Generation:      22 (avg. fit: 11613116.610). Current Best: 11286129.0 (gen 22).\r",
      "Current Generation:      23 (avg. fit: 11535923.620). Current Best: 11136403.0 (gen 23).\r",
      "Current Generation:      24 (avg. fit: 11493912.530). Current Best: 11130323.0 (gen 24).\r",
      "Current Generation:      25 (avg. fit: 11385605.660). Current Best: 11029173.0 (gen 25).\r",
      "Current Generation:      26 (avg. fit: 11348199.670). Current Best: 11020788.0 (gen 26).\r",
      "Current Generation:      27 (avg. fit: 11302285.880). Current Best: 10990474.0 (gen 27).\r",
      "Current Generation:      28 (avg. fit: 11233908.620). Current Best: 10922470.0 (gen 28).\r",
      "Current Generation:      29 (avg. fit: 11200251.880). Current Best: 10922470.0 (gen 28).\r",
      "Current Generation:      30 (avg. fit: 11167305.230). Current Best: 10776993.0 (gen 30).\r",
      "Current Generation:      31 (avg. fit: 11113981.980). Current Best: 10776993.0 (gen 30).\r",
      "Current Generation:      32 (avg. fit: 11066697.140). Current Best: 10776993.0 (gen 30).\r",
      "Current Generation:      33 (avg. fit: 11037563.880). Current Best: 10776993.0 (gen 30).\r",
      "Current Generation:      34 (avg. fit: 11014913.210). Current Best: 10776993.0 (gen 30).\r",
      "Current Generation:      35 (avg. fit: 10967249.670). Current Best: 10740719.0 (gen 35).\r",
      "Current Generation:      36 (avg. fit: 10927454.740). Current Best: 10642536.0 (gen 36).\r",
      "Current Generation:      37 (avg. fit: 10887656.630). Current Best: 10586381.0 (gen 37).\r",
      "Current Generation:      38 (avg. fit: 10846626.510). Current Best: 10586381.0 (gen 37).\r",
      "Current Generation:      39 (avg. fit: 10793882.790). Current Best: 10584307.0 (gen 39).\r",
      "Current Generation:      40 (avg. fit: 10752040.540). Current Best: 10571391.0 (gen 40).\r",
      "Current Generation:      41 (avg. fit: 10710605.340). Current Best: 10234909.0 (gen 41).\r",
      "Current Generation:      42 (avg. fit: 10668244.350). Current Best: 10234909.0 (gen 41).\r",
      "Current Generation:      43 (avg. fit: 10634401.130). Current Best: 10234909.0 (gen 41).\r",
      "Current Generation:      44 (avg. fit: 10594171.720). Current Best: 10234909.0 (gen 41).\r",
      "Current Generation:      45 (avg. fit: 10584243.020). Current Best: 10234909.0 (gen 41).\r",
      "Current Generation:      46 (avg. fit: 10566188.070). Current Best: 10234909.0 (gen 41).\r",
      "Current Generation:      47 (avg. fit: 10552737.830). Current Best: 10234909.0 (gen 41).\r",
      "Current Generation:      48 (avg. fit: 10519728.070). Current Best: 10234909.0 (gen 41).\r",
      "Current Generation:      49 (avg. fit: 10483320.560). Current Best: 10234909.0 (gen 41).\r",
      "Current Generation:      50 (avg. fit: 10451850.650). Current Best: 10234909.0 (gen 41).\r",
      "Current Generation:      51 (avg. fit: 10428327.170). Current Best: 10234909.0 (gen 41).\r",
      "Current Generation:      52 (avg. fit: 10398541.000). Current Best: 10044790.0 (gen 52).\r",
      "Current Generation:      53 (avg. fit: 10360495.860). Current Best: 10044790.0 (gen 52).\r",
      "Current Generation:      54 (avg. fit: 10335846.920). Current Best: 10044790.0 (gen 52).\r",
      "Current Generation:      55 (avg. fit: 10283210.150). Current Best: 10044790.0 (gen 52).\r"
     ]
    },
    {
     "name": "stdout",
     "output_type": "stream",
     "text": [
      "Current Generation:   50000 (avg. fit:   483560.680). Current Best:   476616.0 (gen 49898).\n",
      "Elapsed time: 134.250\n"
     ]
    },
    {
     "data": {
      "image/png": "[encoded data removed]",
      "text/plain": [
       "<Figure size 1080x1080 with 2 Axes>"
      ]
     },
     "metadata": {
      "needs_background": "light"
     },
     "output_type": "display_data"
    },
    {
     "data": {
      "image/png": "[encoded data removed]",
      "text/plain": [
       "<Figure size 432x288 with 1 Axes>"
      ]
     },
     "metadata": {
      "needs_background": "light"
     },
     "output_type": "display_data"
    }
   ],
   "source": [
    "GA.reset() # Creates a new instance using same methods and paramters\n",
    "GA.mutate = GA.define((random_mut,[0.05,0.025])) # Update method for the mutation step\n",
    "GA.test('images/link.png', res_factor=0.6, graph=list(range(1,50001,500)))\n",
    "GA.mutate = GA.define((reduced_mut,[0.05,0.025])) # Update method for the mutation step"
   ]
  },
  {
   "cell_type": "markdown",
   "metadata": {},
   "source": [
    "##### Elitism Replacement\n",
    "This method of replacement has a step convergence curve, at leas at first. Shortly after the intial fitness drop, we can see in the fitness curve the premature convergence of the population: the curve becomes almost a horizontal line. It's also noticeable how the diversity of the population is decimated, which contributes to the premature convergence. For these reasons, steady replacement presented itself as a more promising method of replacement."
   ]
  },
  {
   "cell_type": "code",
   "execution_count": 114,
   "metadata": {},
   "outputs": [
    {
     "name": "stdout",
     "output_type": "stream",
     "text": [
      "Generating Population...    0/100\r",
      "Generating Population...    1/100\r",
      "Generating Population...    2/100\r",
      "Generating Population...    3/100\r",
      "Generating Population...    4/100\r",
      "Generating Population...    5/100\r",
      "Generating Population...    6/100\r",
      "Generating Population...    7/100\r",
      "Generating Population...    8/100\r",
      "Generating Population...    9/100\r",
      "Generating Population...   10/100\r",
      "Generating Population...   11/100\r",
      "Generating Population...   12/100\r",
      "Generating Population...   13/100\r",
      "Generating Population...   14/100\r",
      "Generating Population...   15/100\r",
      "Generating Population...   16/100\r",
      "Generating Population...   17/100\r",
      "Generating Population...   18/100\r",
      "Generating Population...   19/100\r",
      "Generating Population...   20/100\r",
      "Generating Population...   21/100\r",
      "Generating Population...   22/100\r",
      "Generating Population...   23/100\r",
      "Generating Population...   24/100\r",
      "Generating Population...   25/100\r",
      "Generating Population...   26/100\r",
      "Generating Population...   27/100\r",
      "Generating Population...   28/100\r",
      "Generating Population...   29/100\r",
      "Generating Population...   30/100\r",
      "Generating Population...   31/100\r",
      "Generating Population...   32/100\r",
      "Generating Population...   33/100\r",
      "Generating Population...   34/100\r",
      "Generating Population...   35/100\r",
      "Generating Population...   36/100\r",
      "Generating Population...   37/100\r",
      "Generating Population...   38/100\r",
      "Generating Population...   39/100\r",
      "Generating Population...   40/100\r",
      "Generating Population...   41/100\r",
      "Generating Population...   42/100\r",
      "Generating Population...   43/100\r",
      "Generating Population...   44/100\r",
      "Generating Population...   45/100\r",
      "Generating Population...   46/100\r",
      "Generating Population...   47/100\r",
      "Generating Population...   48/100\r",
      "Generating Population...   49/100\r",
      "Generating Population...   50/100\r",
      "Generating Population...   51/100\r",
      "Generating Population...   52/100\r",
      "Generating Population...   53/100\r",
      "Generating Population...   54/100\r",
      "Generating Population...   55/100\r",
      "Generating Population...   56/100\r",
      "Generating Population...   57/100\r",
      "Generating Population...   58/100\r",
      "Generating Population...   59/100\r",
      "Generating Population...   60/100\r",
      "Generating Population...   61/100\r",
      "Generating Population...   62/100\r",
      "Generating Population...   63/100\r",
      "Generating Population...   64/100\r",
      "Generating Population...   65/100\r",
      "Generating Population...   66/100\r",
      "Generating Population...   67/100\r",
      "Generating Population...   68/100\r",
      "Generating Population...   69/100\r",
      "Generating Population...   70/100\r",
      "Generating Population...   71/100\r",
      "Generating Population...   72/100\r",
      "Generating Population...   73/100\r",
      "Generating Population...   74/100\r",
      "Generating Population...   75/100\r",
      "Generating Population...   76/100\r",
      "Generating Population...   77/100\r",
      "Generating Population...   78/100\r",
      "Generating Population...   79/100\r",
      "Generating Population...   80/100\r",
      "Generating Population...   81/100\r",
      "Generating Population...   82/100\r",
      "Generating Population...   83/100\r",
      "Generating Population...   84/100\r",
      "Generating Population...   85/100\r",
      "Generating Population...   86/100\r",
      "Generating Population...   87/100\r",
      "Generating Population...   88/100\r",
      "Generating Population...   89/100\r",
      "Generating Population...   90/100\r",
      "Generating Population...   91/100\r",
      "Generating Population...   92/100\r",
      "Generating Population...   93/100\r",
      "Generating Population...   94/100\r",
      "Generating Population...   95/100\r",
      "Generating Population...   96/100\r",
      "Generating Population...   97/100\r",
      "Generating Population...   98/100\r",
      "Generating Population...   99/100\r",
      "                                                  \r",
      "Current Generation:       0 (avg. fit: 13517287.920). Current Best:        inf (gen None).\r",
      "Current Generation:       1 (avg. fit: 13271527.140). Current Best: 12229509.0 (gen 1).\r",
      "Current Generation:       2 (avg. fit: 13132714.220). Current Best: 12229509.0 (gen 1).\r",
      "Current Generation:       3 (avg. fit: 13044134.900). Current Best: 12229509.0 (gen 1).\r",
      "Current Generation:       4 (avg. fit: 12932707.160). Current Best: 12229509.0 (gen 1).\r",
      "Current Generation:       5 (avg. fit: 12819425.790). Current Best: 12229509.0 (gen 1).\r",
      "Current Generation:       6 (avg. fit: 12718330.540). Current Best: 12229509.0 (gen 1).\r",
      "Current Generation:       7 (avg. fit: 12636358.590). Current Best: 12181157.0 (gen 7).\r",
      "Current Generation:       8 (avg. fit: 12566329.930). Current Best: 12125567.0 (gen 8).\r",
      "Current Generation:       9 (avg. fit: 12494206.080). Current Best: 12090518.0 (gen 9).\r",
      "Current Generation:      10 (avg. fit: 12423857.500). Current Best: 12090518.0 (gen 9).\r",
      "Current Generation:      11 (avg. fit: 12319819.480). Current Best: 11946206.0 (gen 11).\r",
      "Current Generation:      12 (avg. fit: 12215112.030). Current Best: 11777258.0 (gen 12).\r",
      "Current Generation:      13 (avg. fit: 12163819.030). Current Best: 11630637.0 (gen 13).\r",
      "Current Generation:      14 (avg. fit: 12120274.170). Current Best: 11630637.0 (gen 13).\r",
      "Current Generation:      15 (avg. fit: 12066155.370). Current Best: 11577311.0 (gen 15).\r",
      "Current Generation:      16 (avg. fit: 12015006.020). Current Best: 11577311.0 (gen 15).\r",
      "Current Generation:      17 (avg. fit: 11937825.440). Current Best: 11524969.0 (gen 17).\r",
      "Current Generation:      18 (avg. fit: 11863808.880). Current Best: 11524969.0 (gen 17).\r",
      "Current Generation:      19 (avg. fit: 11784476.850). Current Best: 11379196.0 (gen 19).\r",
      "Current Generation:      20 (avg. fit: 11719485.540). Current Best: 11379196.0 (gen 19).\r",
      "Current Generation:      21 (avg. fit: 11674858.610). Current Best: 11379196.0 (gen 19).\r",
      "Current Generation:      22 (avg. fit: 11625808.620). Current Best: 11379196.0 (gen 19).\r",
      "Current Generation:      23 (avg. fit: 11579075.400). Current Best: 11167712.0 (gen 23).\r",
      "Current Generation:      24 (avg. fit: 11515457.770). Current Best: 11167712.0 (gen 23).\r",
      "Current Generation:      25 (avg. fit: 11458169.380). Current Best: 11123638.0 (gen 25).\r",
      "Current Generation:      26 (avg. fit: 11402985.810). Current Best: 11108479.0 (gen 26).\r",
      "Current Generation:      27 (avg. fit: 11350185.440). Current Best: 11108479.0 (gen 26).\r",
      "Current Generation:      28 (avg. fit: 11301610.650). Current Best: 11101385.0 (gen 28).\r",
      "Current Generation:      29 (avg. fit: 11271657.810). Current Best: 11043891.0 (gen 29).\r",
      "Current Generation:      30 (avg. fit: 11233333.210). Current Best: 11011656.0 (gen 30).\r",
      "Current Generation:      31 (avg. fit: 11194665.920). Current Best: 11011656.0 (gen 30).\r",
      "Current Generation:      32 (avg. fit: 11153617.850). Current Best: 10991698.0 (gen 32).\r",
      "Current Generation:      33 (avg. fit: 11115560.890). Current Best: 10660946.0 (gen 33).\r",
      "Current Generation:      34 (avg. fit: 11074192.910). Current Best: 10660946.0 (gen 33).\r",
      "Current Generation:      35 (avg. fit: 11030921.560). Current Best: 10660946.0 (gen 33).\r",
      "Current Generation:      36 (avg. fit: 11002167.140). Current Best: 10602505.0 (gen 36).\r",
      "Current Generation:      37 (avg. fit: 10943330.090). Current Best: 10602505.0 (gen 36).\r",
      "Current Generation:      38 (avg. fit: 10890034.860). Current Best: 10537021.0 (gen 38).\r",
      "Current Generation:      39 (avg. fit: 10836245.170). Current Best: 10439180.0 (gen 39).\r",
      "Current Generation:      40 (avg. fit: 10792303.160). Current Best: 10439180.0 (gen 39).\r",
      "Current Generation:      41 (avg. fit: 10724076.540). Current Best: 10332827.0 (gen 41).\r",
      "Current Generation:      42 (avg. fit: 10676599.300). Current Best: 10332827.0 (gen 41).\r",
      "Current Generation:      43 (avg. fit: 10626818.520). Current Best: 10332827.0 (gen 41).\r",
      "Current Generation:      44 (avg. fit: 10562208.600). Current Best: 10283801.0 (gen 44).\r",
      "Current Generation:      45 (avg. fit: 10522044.470). Current Best: 10212573.0 (gen 45).\r",
      "Current Generation:      46 (avg. fit: 10462036.400). Current Best: 10212573.0 (gen 45).\r",
      "Current Generation:      47 (avg. fit: 10428755.370). Current Best: 10166260.0 (gen 47).\r",
      "Current Generation:      48 (avg. fit: 10382117.250). Current Best: 10070120.0 (gen 48).\r",
      "Current Generation:      49 (avg. fit: 10341564.740). Current Best: 10070120.0 (gen 48).\r",
      "Current Generation:      50 (avg. fit: 10291422.660). Current Best: 10061039.0 (gen 50).\r",
      "Current Generation:      51 (avg. fit: 10266736.210). Current Best: 10061039.0 (gen 50).\r",
      "Current Generation:      52 (avg. fit: 10235584.430). Current Best: 10061039.0 (gen 50).\r",
      "Current Generation:      53 (avg. fit: 10204011.900). Current Best: 10008790.0 (gen 53).\r",
      "Current Generation:      54 (avg. fit: 10168083.630). Current Best:  9996878.0 (gen 54).\r",
      "Current Generation:      55 (avg. fit: 10133311.020). Current Best:  9996878.0 (gen 54).\r",
      "Current Generation:      56 (avg. fit: 10109681.680). Current Best:  9996878.0 (gen 54).\r",
      "Current Generation:      57 (avg. fit: 10081697.670). Current Best:  9914227.0 (gen 57).\r",
      "Current Generation:      58 (avg. fit: 10062381.750). Current Best:  9914227.0 (gen 57).\r",
      "Current Generation:      59 (avg. fit: 10036847.520). Current Best:  9914227.0 (gen 57).\r",
      "Current Generation:      60 (avg. fit: 10018646.050). Current Best:  9914227.0 (gen 57).\r",
      "Current Generation:      61 (avg. fit:  9999851.140). Current Best:  9841725.0 (gen 61).\r",
      "Current Generation:      62 (avg. fit:  9984636.330). Current Best:  9841725.0 (gen 61).\r",
      "Current Generation:      63 (avg. fit:  9971696.770). Current Best:  9841725.0 (gen 61).\r",
      "Current Generation:      64 (avg. fit:  9951922.040). Current Best:  9839881.0 (gen 64).\r",
      "Current Generation:      65 (avg. fit:  9934971.540). Current Best:  9839881.0 (gen 64).\r",
      "Current Generation:      66 (avg. fit:  9915815.130). Current Best:  9785237.0 (gen 66).\r",
      "Current Generation:      67 (avg. fit:  9892846.250). Current Best:  9764508.0 (gen 67).\r",
      "Current Generation:      68 (avg. fit:  9872288.610). Current Best:  9764508.0 (gen 67).\r",
      "Current Generation:      69 (avg. fit:  9856102.850). Current Best:  9748049.0 (gen 69).\r",
      "Current Generation:      70 (avg. fit:  9835787.810). Current Best:  9736811.0 (gen 70).\r"
     ]
    },
    {
     "name": "stdout",
     "output_type": "stream",
     "text": [
      "Current Generation:   50000 (avg. fit:  3518184.000). Current Best:  3518184.0 (gen 44640).\n",
      "Elapsed time: 127.808\n"
     ]
    },
    {
     "data": {
      "image/png": "[encoded data removed]",
      "text/plain": [
       "<Figure size 1080x1080 with 2 Axes>"
      ]
     },
     "metadata": {
      "needs_background": "light"
     },
     "output_type": "display_data"
    },
    {
     "data": {
      "image/png": "[encoded data removed]",
      "text/plain": [
       "<Figure size 432x288 with 1 Axes>"
      ]
     },
     "metadata": {
      "needs_background": "light"
     },
     "output_type": "display_data"
    }
   ],
   "source": [
    "GA.reset() # Creates a new instance using same methods and paramters\n",
    "GA.replace = GA.define((elitism,None)) # Update method for the mutation step\n",
    "GA.test('images/link.png', res_factor=0.6, graph=list(range(1,50001,500)))\n",
    "GA.replace = GA.define((steady_state,None)) # Update method for the mutation step"
   ]
  },
  {
   "cell_type": "markdown",
   "metadata": {},
   "source": [
    "### Parameter Comparison"
   ]
  },
  {
   "cell_type": "markdown",
   "metadata": {},
   "source": [
    "## **Results and Analysis**\n",
    "\n",
    "### Qualitative Analysis\n",
    "Overall, the best results achieved for the small images were of good quality and high similarity. In some cases, it was possible to considerably reduce the fitness value to quite low values. Some of the final results and their original versions can be seen below. With the big images, it was possible to achieve results that resemble the original, with a lot of noise. In the image 'objetos.png', for example, the noise filled most of the white space in the picture, even (but less so) when a white image is used as starting point.\n",
    "\n",
    "Two major problems that this project ran into were, in one hand, **premature convergence**, and on the other hand, **slow convergence speed**. Sometimes, both of these problems were present at once, when a lot of iterations were needed to keep optimizing the fitness value, and the convergence speed slowed down with still a high error value.\n",
    "\n",
    "As noted previously, the first problem was made better by adding exponential transfer to the roulette selection. While that made the small images converge a lot better, the larger images still ended up with slowdowns after a few hundreds of thousands of iterations. The image was still improving regularly, but not as fast as needed to achieve the desired result, since the error was still in the tens of millions. This leads to the second problem. The balancing act brought the project to its current state.\n",
    "\n",
    "A problem not related to convergence, however, is the slow iteration speed. This happens due to the amount of heavy operations in the code, such as the squared error and MSE calculations, and multiple instances of random number generation, be it with _NumPy_ arrays or regular lists. For these reasons, an iteration can be slow depending on the size of the input and the machine running the tests. The speed was improved with tweaks in different methods, avoiding repetition of calculations and using faster variations, but larger images still suffer with it. Since the larger images are also the ones that require more generations to converge, this becomes a big problem, which couldn't be solved so far, only improved.\n",
    "\n",
    "With a good computer or using the Google Colab environment, it takes a few hours to run 5 million iterations on the larger images, with resolution reduction factor of 0.6. Since this problem wasn't solved so far, the best course of action is to avoid it, using higher reduction factors or smaller images. This also validates the decision to use greyscale images instead of RGB."
   ]
  },
  {
   "cell_type": "code",
   "execution_count": null,
   "metadata": {},
   "outputs": [],
   "source": [
    "x=Image('Outputs/g2993857_link.png', width=150, height=150)\n",
    "y=Image('images/link.png', width=150, height=150)\n",
    "display(x,y)"
   ]
  },
  {
   "cell_type": "code",
   "execution_count": null,
   "metadata": {},
   "outputs": [],
   "source": [
    "x=Image('Outputs/g4000000_monalisa.png', width=150, height=150)\n",
    "y=Image('images/monalisa.png', width=150, height=150)\n",
    "display(x,y)"
   ]
  },
  {
   "cell_type": "code",
   "execution_count": null,
   "metadata": {},
   "outputs": [],
   "source": [
    "x=Image('Outputs/g271985_objetos_noisy.png', width=150, height=150)\n",
    "y=Image('images/objetos.png', width=150, height=150)\n",
    "display(x,y)"
   ]
  },
  {
   "cell_type": "markdown",
   "metadata": {},
   "source": [
    "One interesting case to discuss is `objetos.png`. It is the second largest image to be used in this project. After reduction, the resulting image has 142x142 px dimensions, and the original has 238x238 px. The main difference with the content of this image is the amount of white space it contains, and the fact that it consists of 9 separated objects instead of a continuous figure.\n",
    "\n",
    "The result above was obtained after 271985 generations, using the `random` initialization strategy. Notice how noisy the image is, in the white space and inside the objects. A noticeable characteristic is that the lighter objects are not as clear as the harder ones.\n",
    "\n",
    "It is clear that the amount of noise in the white space is hurting the fidelity of the result, and that would have to be cleared at some point. When, instead, we insert a white image in the original population, using the `white_and_random` function, the result is quite different. The result with a similar amount of generations can be seen below."
   ]
  },
  {
   "cell_type": "code",
   "execution_count": null,
   "metadata": {},
   "outputs": [],
   "source": [
    "Image('Outputs/g200000_objetos.png', width=150, height=150)"
   ]
  },
  {
   "cell_type": "markdown",
   "metadata": {},
   "source": [
    "That image, while still noisy, is much more clear than the one before, because the white image already starts with a lot of correct pixels. The noise is a result of collateral damage by mutation and over-crossover: the result is still a net positive from the full white. \n",
    "\n",
    "But a problem that might arise from this case is the homogenization of a part of the image. If every individual comes from the white board, it is possible that every image has the bottom half as just white, especially using the `elitism` replacement method, since crossovers in the upper half are more valuable than the bottom half in terms of optimization.\n",
    "\n",
    "We can see that, while most noise is in the upper half, there are some shades of grey in the bottom half as well, so this could be due to the multi-point crossover and steady state replacement method. In this case, the introduction of the white image made a big difference in convergence speed, and that is true for all images with a white background in this GA configuration. The best result for this image is shown below."
   ]
  },
  {
   "cell_type": "code",
   "execution_count": null,
   "metadata": {},
   "outputs": [],
   "source": [
    "Image('Outputs/g5000000_objetos.png', width=400, height=400)"
   ]
  },
  {
   "cell_type": "markdown",
   "metadata": {},
   "source": [
    "### Quantitative Analysis\n"
   ]
  },
  {
   "cell_type": "markdown",
   "metadata": {},
   "source": [
    "## **Conclusions**\n",
    "\n",
    "### General Conclusions\n",
    "As expected, the amount of possibilities makes this a hard problem to solve, especially for higher resolution images. The initial error values can be astronomical, and the optimization can be slow, even if regular.\n",
    "\n",
    "Still, the results achieved with small images are really similar to the original, even in full resolution, so this project was a success in that front. With really small images, the a very similar result could be achieved in just a few thousand generations. Most of those images, though, reached minimum point after which there was no improvement found, even after hundreds of thousands of generations.\n",
    "\n",
    "This, along with the noisy result that the larger images returned, lead to the conclusion that the GA is not exactly copying the goal image, but getting \"close enough\" so that the characteristics of the original image are present, but not clear of noise or sometimes even whole. This inability of removing noise or getting an exact copy of the original image can be seen as a characteristic of GA, with random movements, crossover and mutation. \n",
    "\n",
    "To achieve an exact copy of the image, one individual has to at some point go through a perfect crossover+mutation process, where the last different pixel becomes the exact same shade as the original image and no other pixels are changed. Since the method is random, the chances of that happening are very slim."
   ]
  },
  {
   "cell_type": "markdown",
   "metadata": {},
   "source": [
    "### Future Work\n",
    "\n",
    "Future work for this project would be to speed up each iteration so that larger images can be tested in appropriate times, and test different or more exotic methods of reproduction, mutation and others. In this project, the mutation rate (MR) was **static**, so a dynamic MR could lead to different results as well. This project can also be scaled to deal with colored images, especially if the aforementioned problems are solved."
   ]
  }
 ],
 "metadata": {
  "kernelspec": {
   "display_name": "Python 3",
   "language": "python",
   "name": "python3"
  },
  "language_info": {
   "codemirror_mode": {
    "name": "ipython",
    "version": 3
   },
   "file_extension": ".py",
   "mimetype": "text/x-python",
   "name": "python",
   "nbconvert_exporter": "python",
   "pygments_lexer": "ipython3",
   "version": "3.8.3"
  },
  "latex_envs": {
   "LaTeX_envs_menu_present": true,
   "autoclose": false,
   "autocomplete": true,
   "bibliofile": "biblio.bib",
   "cite_by": "apalike",
   "current_citInitial": 1,
   "eqLabelWithNumbers": true,
   "eqNumInitial": 1,
   "hotkeys": {
    "equation": "Ctrl-E",
    "itemize": "Ctrl-I"
   },
   "labels_anchors": false,
   "latex_user_defs": false,
   "report_style_numbering": false,
   "user_envs_cfg": false
  },
  "toc": {
   "base_numbering": 1,
   "nav_menu": {},
   "number_sections": true,
   "sideBar": true,
   "skip_h1_title": false,
   "title_cell": "Table of Contents",
   "title_sidebar": "Contents",
   "toc_cell": false,
   "toc_position": {},
   "toc_section_display": true,
   "toc_window_display": false
  }
 },
 "nbformat": 4,
 "nbformat_minor": 4
}
