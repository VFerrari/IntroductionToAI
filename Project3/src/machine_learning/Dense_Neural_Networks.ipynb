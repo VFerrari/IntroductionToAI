{
  "nbformat": 4,
  "nbformat_minor": 0,
  "metadata": {
    "colab": {
      "name": "Dense Neural Networks",
      "provenance": [],
      "collapsed_sections": [],
      "machine_shape": "hm"
    },
    "kernelspec": {
      "name": "python3",
      "display_name": "Python 3"
    },
    "accelerator": "GPU"
  },
  "cells": [
    {
      "cell_type": "markdown",
      "metadata": {
        "id": "nfYKUXuS1lrA"
      },
      "source": [
        "# **[MC906] Projeto Final**: Detecção de Desastres\n",
        "\n",
        "O objetivo desse projeto é construir e avaliar modelos de aprendizado de máquina que classifiquem quais Tweets são sobre desastres reais e quais não são.\n",
        "\n",
        "## **Acessar Diretório do Projeto**\n",
        "\n",
        "Esse Notebook assume que você está executando o código dentro da pasta `Projeto Final/Código`, que contém todos os códigos fontes relativos a esse trabalho. Para acessar o diretório no Colab é preciso criar um atalho em seu Drive (right click no diretório -> \"Adicionar atalho ao Google Drive\") e executar as células abaixo:"
      ]
    },
    {
      "cell_type": "code",
      "metadata": {
        "id": "ujhdsPQuh2bw",
        "colab": {
          "base_uri": "https://localhost:8080/",
          "height": 121
        },
        "outputId": "36ddf8c6-1031-40cb-bb2d-670a5bf1555e"
      },
      "source": [
        "# Conectar ao Drive\n",
        "from google.colab import drive\n",
        "drive.mount('/content/drive/', force_remount=True)"
      ],
      "execution_count": null,
      "outputs": [
        {
          "output_type": "stream",
          "text": [
            "Go to this URL in a browser: https://accounts.google.com/o/oauth2/auth?client_id=947318989803-6bn6qk8qdgf4n4g3pfee6491hc0brc4i.apps.googleusercontent.com&redirect_uri=urn%3aietf%3awg%3aoauth%3a2.0%3aoob&response_type=code&scope=email%20https%3a%2f%2fwww.googleapis.com%2fauth%2fdocs.test%20https%3a%2f%2fwww.googleapis.com%2fauth%2fdrive%20https%3a%2f%2fwww.googleapis.com%2fauth%2fdrive.photos.readonly%20https%3a%2f%2fwww.googleapis.com%2fauth%2fpeopleapi.readonly\n",
            "\n",
            "Enter your authorization code:\n",
            "··········\n",
            "Mounted at /content/drive/\n"
          ],
          "name": "stdout"
        }
      ]
    },
    {
      "cell_type": "code",
      "metadata": {
        "id": "U-RoqxW1i1z6",
        "colab": {
          "base_uri": "https://localhost:8080/",
          "height": 218
        },
        "outputId": "95cca14a-0fe9-4b2a-80ee-4276df3e718c"
      },
      "source": [
        "# Diretório do Projeto (/content/drive/My Drive/{path até Projeto Final/Código}), \n",
        "# dependendo da onde se localiza o atalho no seu Drive\n",
        "% cd '/content/drive/My Drive/[MC906] Introdução à Inteligência Artificial/Projeto Final/Código'\n",
        "! ls"
      ],
      "execution_count": null,
      "outputs": [
        {
          "output_type": "stream",
          "text": [
            "/content/drive/My Drive/[MC906] Introdução à Inteligência Artificial/Projeto Final\n",
            "'Attention CNN'\t\t\t Dataset\n",
            " Backups\t\t\t'Dense Neural Networks'\n",
            " BERT\t\t\t\t Glove\n",
            " best_model_attention.h5\t'Logistic Regression and SVM'\n",
            " best_model_BERT.h5\t\t'Melhor Pré-Processamento'\n",
            " best_model_CNN.h5\t\t __pycache__\n",
            " best_model_DNN.h5\t\t'Quasi-Recurrent Networks'\n",
            " best_model_RNN_glove.h5\t'Recurrent Neural Networks'\n",
            " best_model_RNN.h5\t\t Relatório\n",
            " best_model_RNN_pool.h5\t\t tokenization.py\n",
            "'Convolutional Neural Network'\t utils.py\n"
          ],
          "name": "stdout"
        }
      ]
    },
    {
      "cell_type": "markdown",
      "metadata": {
        "id": "uo8iui4Pgiut"
      },
      "source": [
        "## **Dependências:**"
      ]
    },
    {
      "cell_type": "code",
      "metadata": {
        "id": "GbvMOAinwMav",
        "colab": {
          "base_uri": "https://localhost:8080/",
          "height": 118
        },
        "outputId": "eb093682-f3a4-420a-b835-69386957629b"
      },
      "source": [
        "# Imports de pacotes instalados\n",
        "from os.path import join, exists\n",
        "import pandas as pd\n",
        "from tensorflow.keras.layers import Activation, Dense, Input, Embedding\n",
        "from tensorflow.keras.models import Model, load_model\n",
        "from tensorflow.keras.callbacks import ModelCheckpoint\n",
        "from sklearn.preprocessing import LabelEncoder\n",
        "\n",
        "# Imports locais\n",
        "from utils import *"
      ],
      "execution_count": null,
      "outputs": [
        {
          "output_type": "stream",
          "text": [
            "[nltk_data] Downloading package punkt to /root/nltk_data...\n",
            "[nltk_data]   Unzipping tokenizers/punkt.zip.\n",
            "[nltk_data] Downloading package stopwords to /root/nltk_data...\n",
            "[nltk_data]   Unzipping corpora/stopwords.zip.\n",
            "[nltk_data] Downloading package wordnet to /root/nltk_data...\n",
            "[nltk_data]   Unzipping corpora/wordnet.zip.\n"
          ],
          "name": "stdout"
        }
      ]
    },
    {
      "cell_type": "markdown",
      "metadata": {
        "id": "Mp6iBtW52TFH"
      },
      "source": [
        "## **Dataset:**\n",
        "\n",
        "Utilizamos um *dataset* disponível no site [Kaggle](https://www.kaggle.com/c/nlp-getting-started/data) (em inglês). Cada tweet apresenta três atributos: seu conteúdo (`text`), uma palavra-chave (`keyword`, opcional) e a localização da onde foi enviado (`location`, opcional). Como só usaremos o texto, removemos os dois últimos."
      ]
    },
    {
      "cell_type": "code",
      "metadata": {
        "id": "Clv_V-NPxE1u",
        "colab": {
          "base_uri": "https://localhost:8080/",
          "height": 185
        },
        "outputId": "7272520f-29e6-48b1-eddc-90417bdd621b"
      },
      "source": [
        "# Ler e limpar dados (removendo colunas do id, keyword e location)\n",
        "train = pd.read_csv(\"../Dataset/train.csv\")\n",
        "train = train.drop(['id','keyword','location'], axis=1)\n",
        "\n",
        "# Imprimir alguns dados\n",
        "print(train.head())\n",
        "vals = train.groupby('target').count()\n",
        "print(\"\\nSome General insights:\")\n",
        "print(f\"Figure of Speech: {vals.iloc[0]['text']*100/len(train):.2f}%\")\n",
        "print(f\"Actual Accidents: {vals.iloc[1]['text']*100/len(train):.2f}%\")"
      ],
      "execution_count": null,
      "outputs": [
        {
          "output_type": "stream",
          "text": [
            "                                                text  target\n",
            "0  Our Deeds are the Reason of this #earthquake M...       1\n",
            "1             Forest fire near La Ronge Sask. Canada       1\n",
            "2  All residents asked to 'shelter in place' are ...       1\n",
            "3  13,000 people receive #wildfires evacuation or...       1\n",
            "4  Just got sent this photo from Ruby #Alaska as ...       1\n",
            "\n",
            "Some General insights:\n",
            "Figure of Speech: 57.03%\n",
            "Actual Accidents: 42.97%\n"
          ],
          "name": "stdout"
        }
      ]
    },
    {
      "cell_type": "markdown",
      "metadata": {
        "id": "CpLsLgR52hMB"
      },
      "source": [
        "## **Pré-processamento:**\n",
        "\n",
        "Aplicamos uma série de passos para o pré-processamento textual do dataset:\n",
        "* Remoção de pontuações, *stop words* e palavras menos frequentes.\n",
        "* Tokenization: Separação das frases em tokens/palavras e pontuações.\n",
        "* Stemming: corte de prefixos e sufixo das palavras de forma indiscriminada. Associa as palavras à uma raiz comum.\n",
        "* One Hot Encoding: Conversão dos valores categóricos em vetores binários."
      ]
    },
    {
      "cell_type": "code",
      "metadata": {
        "id": "SMzqBwclxJFt",
        "colab": {
          "base_uri": "https://localhost:8080/",
          "height": 386
        },
        "outputId": "ca5e6201-7a87-4bb2-bb40-a96afdef7dda"
      },
      "source": [
        "# Limpar texto\n",
        "print(f\"Raw Tweet:\\n\\t\",train.text[1])\n",
        "train.text = train.text.apply(clean_up)\n",
        "print(\"\\nRemoved Punctuation and Special Chars:\\n\\t\", train.text[1])\n",
        "\n",
        "# Aplicar tokenização\n",
        "train.text = train.text.apply(word_tokenize)\n",
        "print(\"\\nTokenized Tweet:\\n\\t\", train.text[1])\n",
        "\n",
        "# Remover stop words e aplicar stemming\n",
        "show_wordcount(train.text, \"\\nBefore Removal:\")\n",
        "train.text = train.text.apply(stop_words)\n",
        "print(\"\\nRemoved Stop Words:\\n\\t\", train.text[1])\n",
        "train.text = train.text.apply(stemming)\n",
        "print(\"\\nStemmed Tweet:\\n\\t\",train.text[1])\n",
        "show_wordcount(train.text, \"\\nAfter Removal:\")"
      ],
      "execution_count": null,
      "outputs": [
        {
          "output_type": "stream",
          "text": [
            "Raw Tweet:\n",
            "\t Forest fire near La Ronge Sask. Canada\n",
            "\n",
            "Removed Punctuation and Special Chars:\n",
            "\t Forest fire near La Ronge Sask Canada\n",
            "\n",
            "Tokenized Tweet:\n",
            "\t ['Forest', 'fire', 'near', 'La', 'Ronge', 'Sask', 'Canada']\n",
            "\n",
            "Before Removal:\n",
            "Amount of Words: 105647\n",
            "Amount of Distinct Words: 21526\n",
            "\n",
            "Removed Stop Words:\n",
            "\t ['fire', 'Ronge', 'Canada', 'Forest', 'La', 'near', 'Sask']\n",
            "\n",
            "Stemmed Tweet:\n",
            "\t ['fire', 'rong', 'canada', 'forest', 'la', 'near', 'sask']\n",
            "\n",
            "After Removal:\n",
            "Amount of Words: 77292\n",
            "Amount of Distinct Words: 18502\n"
          ],
          "name": "stdout"
        }
      ]
    },
    {
      "cell_type": "code",
      "metadata": {
        "id": "YkGDmLopxJmD",
        "colab": {
          "base_uri": "https://localhost:8080/",
          "height": 185
        },
        "outputId": "254f53f4-bdf9-4136-9fa0-a8d95bd16291"
      },
      "source": [
        "show_wordcount(train.text, '\\nBefore Removal:')\n",
        "words, counts = count_words(train.text)\n",
        "\n",
        "# Criar lista de palavras pouco frequentes\n",
        "MIN_FREQ = 2\n",
        "discard = []\n",
        "for (w,c) in zip(words, counts[0]):\n",
        "    if c < MIN_FREQ : \n",
        "      discard.append(w)\n",
        "\n",
        "# Criar conjunto com as palavras selecionadas pelo countvectorizer\n",
        "# descartando as palavras pouco frequentes, e remover as palavras\n",
        "# do tweet que não pertençam a esse conjunto\n",
        "print(f\"\\nDiscarding {len(discard)} Words...\")\n",
        "select = set(words)-set(discard)\n",
        "train.text = train.text.apply(lambda x : list(set(x) & select))\n",
        "show_wordcount(train.text, '\\nAfter Removal:')"
      ],
      "execution_count": null,
      "outputs": [
        {
          "output_type": "stream",
          "text": [
            "\n",
            "Before Removal:\n",
            "Amount of Words: 77292\n",
            "Amount of Distinct Words: 18502\n",
            "\n",
            "Discarding 13145 Words...\n",
            "\n",
            "After Removal:\n",
            "Amount of Words: 62736\n",
            "Amount of Distinct Words: 5320\n"
          ],
          "name": "stdout"
        }
      ]
    },
    {
      "cell_type": "code",
      "metadata": {
        "id": "1Bqim0yDxOik"
      },
      "source": [
        "# Aplicar One Hot Encoding \n",
        "labels = LabelEncoder().fit(list(select))\n",
        "encoded = train.text.apply(labels.transform) # Transforming words to labels\n",
        "encoded = encoded.apply(lambda x : onehotencoding(x, len(select)))"
      ],
      "execution_count": null,
      "outputs": []
    },
    {
      "cell_type": "code",
      "metadata": {
        "id": "Jt4ub3cHxQIu"
      },
      "source": [
        "# Array numpy dos tweets pré-processados e targets\n",
        "X = np.array(encoded.tolist())\n",
        "Y = np.array([[x] for x in train.target.tolist()]) "
      ],
      "execution_count": null,
      "outputs": []
    },
    {
      "cell_type": "markdown",
      "metadata": {
        "id": "y8ZHPFwj2qe9"
      },
      "source": [
        "## **Modelo:** Redes Neurais Densas\n",
        "\n",
        "Testamos um modelo de rede profunda com apenas camadas densas visando alcançar bons resultados preliminares."
      ]
    },
    {
      "cell_type": "code",
      "metadata": {
        "id": "qWmCu_3KxRf8"
      },
      "source": [
        "def NN(max_words = 1000, max_len = X.shape[1]):\n",
        "  ''' Função que constrói o modelo DNN. '''\n",
        "\n",
        "    inputs = Input(name='inputs',shape=[max_len])\n",
        "    layer = Dense(500, name='FC3', activation='relu')(inputs)\n",
        "    layer = Dense(250, name='FC4', activation='relu')(layer)\n",
        "    layer = Dense(1,name='out_layer')(layer)\n",
        "    layer = Activation('sigmoid')(layer)\n",
        "    model = Model(inputs=inputs,outputs=layer)\n",
        "    return model"
      ],
      "execution_count": null,
      "outputs": []
    },
    {
      "cell_type": "code",
      "metadata": {
        "id": "fjerXozwxa2T",
        "colab": {
          "base_uri": "https://localhost:8080/",
          "height": 319
        },
        "outputId": "81720eec-d61c-41d4-aedc-6616b242334a"
      },
      "source": [
        "# Construir e compilar modelo\n",
        "neural_network = NN()\n",
        "neural_network.summary()\n",
        "neural_network.compile(loss='binary_crossentropy',optimizer='adam',metrics=['accuracy'])"
      ],
      "execution_count": null,
      "outputs": [
        {
          "output_type": "stream",
          "text": [
            "Model: \"functional_1\"\n",
            "_________________________________________________________________\n",
            "Layer (type)                 Output Shape              Param #   \n",
            "=================================================================\n",
            "inputs (InputLayer)          [(None, 5357)]            0         \n",
            "_________________________________________________________________\n",
            "FC3 (Dense)                  (None, 500)               2679000   \n",
            "_________________________________________________________________\n",
            "FC4 (Dense)                  (None, 250)               125250    \n",
            "_________________________________________________________________\n",
            "out_layer (Dense)            (None, 1)                 251       \n",
            "_________________________________________________________________\n",
            "activation (Activation)      (None, 1)                 0         \n",
            "=================================================================\n",
            "Total params: 2,804,501\n",
            "Trainable params: 2,804,501\n",
            "Non-trainable params: 0\n",
            "_________________________________________________________________\n"
          ],
          "name": "stdout"
        }
      ]
    },
    {
      "cell_type": "code",
      "metadata": {
        "id": "CnN83Pqfo6uy",
        "colab": {
          "base_uri": "https://localhost:8080/",
          "height": 541
        },
        "outputId": "58d9e88b-b814-4c3d-aca1-c2913f4a4746"
      },
      "source": [
        "# Treinar no dataset pré-processado\n",
        "callbacks = [ModelCheckpoint(monitor='val_loss', filepath='./Modelos/best_model_DNN.h5', save_best_only=True)]\n",
        "history = neural_network.fit(X,Y,batch_size=100,epochs=15, validation_split=0.1, callbacks=callbacks)\n",
        "\n",
        "# Carregar modelo\n",
        "if exists('./Modelos/best_model_DNN.h5'):\n",
        "    neural_network = load_model('./Modelos/best_model_DNN.h5')"
      ],
      "execution_count": null,
      "outputs": [
        {
          "output_type": "stream",
          "text": [
            "Epoch 1/15\n",
            "69/69 [==============================] - 1s 12ms/step - loss: 0.5217 - accuracy: 0.7431 - val_loss: 0.4413 - val_accuracy: 0.8031\n",
            "Epoch 2/15\n",
            "69/69 [==============================] - 0s 3ms/step - loss: 0.2714 - accuracy: 0.8946 - val_loss: 0.4840 - val_accuracy: 0.7940\n",
            "Epoch 3/15\n",
            "69/69 [==============================] - 0s 3ms/step - loss: 0.1538 - accuracy: 0.9461 - val_loss: 0.5732 - val_accuracy: 0.7835\n",
            "Epoch 4/15\n",
            "69/69 [==============================] - 0s 3ms/step - loss: 0.1015 - accuracy: 0.9644 - val_loss: 0.6823 - val_accuracy: 0.7782\n",
            "Epoch 5/15\n",
            "69/69 [==============================] - 0s 4ms/step - loss: 0.0742 - accuracy: 0.9710 - val_loss: 0.7445 - val_accuracy: 0.7835\n",
            "Epoch 6/15\n",
            "69/69 [==============================] - 0s 3ms/step - loss: 0.0576 - accuracy: 0.9756 - val_loss: 0.8219 - val_accuracy: 0.7835\n",
            "Epoch 7/15\n",
            "69/69 [==============================] - 0s 3ms/step - loss: 0.0498 - accuracy: 0.9765 - val_loss: 0.9178 - val_accuracy: 0.7887\n",
            "Epoch 8/15\n",
            "69/69 [==============================] - 0s 3ms/step - loss: 0.0462 - accuracy: 0.9781 - val_loss: 0.9506 - val_accuracy: 0.7769\n",
            "Epoch 9/15\n",
            "69/69 [==============================] - 0s 3ms/step - loss: 0.0430 - accuracy: 0.9788 - val_loss: 1.0509 - val_accuracy: 0.7756\n",
            "Epoch 10/15\n",
            "69/69 [==============================] - 0s 3ms/step - loss: 0.0434 - accuracy: 0.9785 - val_loss: 1.0408 - val_accuracy: 0.7756\n",
            "Epoch 11/15\n",
            "69/69 [==============================] - 0s 3ms/step - loss: 0.0409 - accuracy: 0.9793 - val_loss: 1.1686 - val_accuracy: 0.7559\n",
            "Epoch 12/15\n",
            "69/69 [==============================] - 0s 3ms/step - loss: 0.0403 - accuracy: 0.9799 - val_loss: 1.1312 - val_accuracy: 0.7782\n",
            "Epoch 13/15\n",
            "69/69 [==============================] - 0s 3ms/step - loss: 0.0392 - accuracy: 0.9797 - val_loss: 1.1870 - val_accuracy: 0.7730\n",
            "Epoch 14/15\n",
            "69/69 [==============================] - 0s 3ms/step - loss: 0.0387 - accuracy: 0.9800 - val_loss: 1.2763 - val_accuracy: 0.7612\n",
            "Epoch 15/15\n",
            "69/69 [==============================] - 0s 3ms/step - loss: 0.0388 - accuracy: 0.9797 - val_loss: 1.2254 - val_accuracy: 0.7769\n"
          ],
          "name": "stdout"
        }
      ]
    },
    {
      "cell_type": "code",
      "metadata": {
        "id": "oUiP5nN321mD",
        "colab": {
          "base_uri": "https://localhost:8080/",
          "height": 573
        },
        "outputId": "077cc423-d8dd-4c81-dd2b-3d7f1e427c5c"
      },
      "source": [
        "# Plotar métricas\n",
        "plot_graphs(history, \"DDNN\")"
      ],
      "execution_count": null,
      "outputs": [
        {
          "output_type": "display_data",
          "data": {
            "image/png": "[encoded data removed]",
            "text/plain": [
              "<Figure size 432x288 with 1 Axes>"
            ]
          },
          "metadata": {
            "tags": [],
            "needs_background": "light"
          }
        },
        {
          "output_type": "display_data",
          "data": {
            "image/png": "[encoded data removed]",
            "text/plain": [
              "<Figure size 432x288 with 1 Axes>"
            ]
          },
          "metadata": {
            "tags": [],
            "needs_background": "light"
          }
        }
      ]
    }
  ]
}