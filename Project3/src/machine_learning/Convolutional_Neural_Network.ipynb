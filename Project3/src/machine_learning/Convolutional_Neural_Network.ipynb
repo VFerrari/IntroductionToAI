{
  "nbformat": 4,
  "nbformat_minor": 0,
  "metadata": {
    "colab": {
      "name": "Convolutional Neural Network",
      "provenance": [],
      "collapsed_sections": []
    },
    "kernelspec": {
      "name": "python3",
      "display_name": "Python 3"
    }
  },
  "cells": [
    {
      "cell_type": "markdown",
      "metadata": {
        "id": "PRsjSNSMd8R_"
      },
      "source": [
        "# **[MC906] Projeto Final**: Detecção de Desastres\n",
        "\n",
        "O objetivo desse projeto é construir e avaliar modelos de aprendizado de máquina que classifiquem quais Tweets são sobre desastres reais e quais não são.\n",
        "\n",
        "## **Acessar Diretório do Projeto**\n",
        "\n",
        "Esse Notebook assume que você está executando o código dentro da pasta `Projeto Final/Código`, que contém todos os códigos fontes relativos a esse trabalho. Para acessar o diretório no Colab é preciso criar um atalho em seu Drive (right click no diretório -> \"Adicionar atalho ao Google Drive\") e executar as células abaixo:"
      ]
    },
    {
      "cell_type": "code",
      "metadata": {
        "id": "_sAp-k0lUNmI",
        "colab": {
          "base_uri": "https://localhost:8080/",
          "height": 121
        },
        "outputId": "48e05223-3f61-44c6-c4cc-f71177597ad7"
      },
      "source": [
        "# Conectar ao Drive\n",
        "from google.colab import drive\n",
        "drive.mount('/content/drive/', force_remount=True)"
      ],
      "execution_count": null,
      "outputs": [
        {
          "output_type": "stream",
          "text": [
            "Go to this URL in a browser: https://accounts.google.com/o/oauth2/auth?client_id=947318989803-6bn6qk8qdgf4n4g3pfee6491hc0brc4i.apps.googleusercontent.com&redirect_uri=urn%3aietf%3awg%3aoauth%3a2.0%3aoob&response_type=code&scope=email%20https%3a%2f%2fwww.googleapis.com%2fauth%2fdocs.test%20https%3a%2f%2fwww.googleapis.com%2fauth%2fdrive%20https%3a%2f%2fwww.googleapis.com%2fauth%2fdrive.photos.readonly%20https%3a%2f%2fwww.googleapis.com%2fauth%2fpeopleapi.readonly\n",
            "\n",
            "Enter your authorization code:\n",
            "··········\n",
            "Mounted at /content/drive/\n"
          ],
          "name": "stdout"
        }
      ]
    },
    {
      "cell_type": "code",
      "metadata": {
        "id": "gMl7veM4UQ-S",
        "colab": {
          "base_uri": "https://localhost:8080/",
          "height": 185
        },
        "outputId": "94826d05-565e-43b4-fe71-c737783f052f"
      },
      "source": [
        "# Diretório do Projeto (/content/drive/My Drive/{path até Projeto Final/Código}), \n",
        "# dependendo da onde se localiza o atalho no seu Drive\n",
        "% cd '/content/drive/My Drive/[MC906] Introdução à Inteligência Artificial/Projeto Final/Código'\n",
        "! ls"
      ],
      "execution_count": null,
      "outputs": [
        {
          "output_type": "stream",
          "text": [
            "/content/drive/My Drive/[MC906] Introdução à Inteligência Artificial/Projeto Final\n",
            "'Attention CNN'\t\t\t        Dataset\n",
            " best_model_attention.h5\t       'Dense Neural Networks'\n",
            " best_model_CNN.h5\t\t        Glove\n",
            " best_model_DNN.h5\t\t        __pycache__\n",
            " best_model_RNN_glove.h5\t       'Quasi-Recurrent Networks'\n",
            " best_model_RNN.h5\t\t       'Recurrent Neural Networks'\n",
            " best_model_RNN_pool.h5\t\t        Relatório\n",
            "'Convolutional Neural Network'\t        utils.py\n",
            "'Copy of Logistic Regression and SVM'\n"
          ],
          "name": "stdout"
        }
      ]
    },
    {
      "cell_type": "markdown",
      "metadata": {
        "id": "Kj3FlJcKeFWV"
      },
      "source": [
        "## **Dependências:**"
      ]
    },
    {
      "cell_type": "code",
      "metadata": {
        "id": "_lIIQyDhc_Ou",
        "colab": {
          "base_uri": "https://localhost:8080/",
          "height": 118
        },
        "outputId": "8849efeb-3286-49fb-c2e4-ea1a02ff19f7"
      },
      "source": [
        "# Imports de pacotes instalados\n",
        "import matplotlib.pyplot as plt\n",
        "from os.path import join, exists\n",
        "import pandas as pd\n",
        "import numpy as np\n",
        "from tensorflow.keras.layers import Input, Dense, Embedding, GlobalMaxPooling1D, Conv1D, Activation\n",
        "from tensorflow.keras.models import Model, load_model\n",
        "from tensorflow.keras.preprocessing.sequence import pad_sequences\n",
        "from tensorflow.keras.preprocessing.text import Tokenizer\n",
        "from tensorflow.keras.callbacks import ModelCheckpoint\n",
        "\n",
        "# Imports locais\n",
        "from utils import *"
      ],
      "execution_count": null,
      "outputs": [
        {
          "output_type": "stream",
          "text": [
            "[nltk_data] Downloading package punkt to /root/nltk_data...\n",
            "[nltk_data]   Unzipping tokenizers/punkt.zip.\n",
            "[nltk_data] Downloading package stopwords to /root/nltk_data...\n",
            "[nltk_data]   Unzipping corpora/stopwords.zip.\n",
            "[nltk_data] Downloading package wordnet to /root/nltk_data...\n",
            "[nltk_data]   Unzipping corpora/wordnet.zip.\n"
          ],
          "name": "stdout"
        }
      ]
    },
    {
      "cell_type": "markdown",
      "metadata": {
        "id": "-T-fUM791bgb"
      },
      "source": [
        "## **Dataset:**\n",
        "\n",
        "Utilizamos um *dataset* disponível no site [Kaggle](https://www.kaggle.com/c/nlp-getting-started/data) (em inglês). Cada tweet apresenta três atributos: seu conteúdo (`text`), uma palavra-chave (`keyword`, opcional) e a localização da onde foi enviado (`location`, opcional). Como só usaremos o texto, removemos os dois últimos."
      ]
    },
    {
      "cell_type": "code",
      "metadata": {
        "id": "rIwYY0OkdCFS",
        "colab": {
          "base_uri": "https://localhost:8080/",
          "height": 185
        },
        "outputId": "45769018-5601-4cce-9f5f-2753205d6d38"
      },
      "source": [
        "# Ler e limpar dados (removendo colunas do id, keyword e location)\n",
        "train = pd.read_csv(\"../Dataset/train.csv\")\n",
        "train = train.drop(['id','keyword','location'], axis=1)\n",
        "\n",
        "# Imprimir alguns dados\n",
        "print(train.head())\n",
        "vals = train.groupby('target').count()\n",
        "print(\"\\nSome General insights:\")\n",
        "print(f\"Figure of Speech: {vals.iloc[0]['text']*100/len(train):.2f}%\")\n",
        "print(f\"Actual Accidents: {vals.iloc[1]['text']*100/len(train):.2f}%\")"
      ],
      "execution_count": null,
      "outputs": [
        {
          "output_type": "stream",
          "text": [
            "                                                text  target\n",
            "0  Our Deeds are the Reason of this #earthquake M...       1\n",
            "1             Forest fire near La Ronge Sask. Canada       1\n",
            "2  All residents asked to 'shelter in place' are ...       1\n",
            "3  13,000 people receive #wildfires evacuation or...       1\n",
            "4  Just got sent this photo from Ruby #Alaska as ...       1\n",
            "\n",
            "Some General insights:\n",
            "Figure of Speech: 57.03%\n",
            "Actual Accidents: 42.97%\n"
          ],
          "name": "stdout"
        }
      ]
    },
    {
      "cell_type": "markdown",
      "metadata": {
        "id": "E_d0wuq_8kh0"
      },
      "source": [
        "## **Pré-Processamento:**\n",
        "\n",
        "*Global Vectors for Word Representation*, ou GloVe, é um algoritmo de aprendizado não-supervisionado com o objetivo de obter representações vetoriais para palavras, proposto em 2014. O algoritmo mapeia as palavras no espaço, tal que a distância e a semelhança semântica entre elas é proporcional.\n",
        "\n",
        "Utilizamos sua representação de palavras para nosso conjunto de dados e seus pesos pré-treinados na camada de Embedding da rede, mais especificamente o arquivo *glove.840B.300d.txt*."
      ]
    },
    {
      "cell_type": "code",
      "metadata": {
        "id": "gZWK5c37-Udv"
      },
      "source": [
        "# Aplicar tokenização\n",
        "max_words = 20000\n",
        "max_length = 50\n",
        "tokenizer = Tokenizer(num_words=max_words)\n",
        "tokenizer.fit_on_texts(train.text)\n",
        "X_train = tokenizer.texts_to_sequences(train.text)\n",
        "X_train = pad_sequences(X_train, maxlen=max_length)\n",
        "Y_train = np.array([[x] for x in train.target.tolist()])"
      ],
      "execution_count": null,
      "outputs": []
    },
    {
      "cell_type": "code",
      "metadata": {
        "id": "_ZC73SRmdGXh"
      },
      "source": [
        "# Preparar incorporação de palavras\n",
        "embeddings_index = dict()\n",
        "f = open(\"../Glove/glove.840B.300d.txt\")\n",
        "for line in f:\n",
        "    values = line.split()\n",
        "    word = values[0]\n",
        "    try:\n",
        "      float(values[1])\n",
        "    except ValueError:\n",
        "      continue\n",
        "    coefs = np.asarray(values[1:], dtype='float32')\n",
        "    embeddings_index[word] = coefs\n",
        "f.close()"
      ],
      "execution_count": null,
      "outputs": []
    },
    {
      "cell_type": "code",
      "metadata": {
        "id": "rNT8nnhrdZOl"
      },
      "source": [
        "# Construir matriz de incorporação\n",
        "embedding_matrix = np.zeros((max_words, 300))\n",
        "for word, index in tokenizer.word_index.items():\n",
        "    if index > max_words - 1:\n",
        "        break\n",
        "    else:\n",
        "        embedding_vector = embeddings_index.get(word)\n",
        "        if embedding_vector is not None:\n",
        "            embedding_matrix[index] = embedding_vector"
      ],
      "execution_count": null,
      "outputs": []
    },
    {
      "cell_type": "markdown",
      "metadata": {
        "id": "PLciglMVBFHG"
      },
      "source": [
        "## **Modelo**: Redes Convolucionais\n",
        "\n",
        "Apesar de serem originalmente voltadas para visão computacional, alguns estudos recentes mostram que Redes Neurais Convolucionais (CNN) também são muito eficientes quando aplicadas em PLN. Assim, decidimos testar esse modelo ao nosso problema de detecção de desastres.\n",
        "\n",
        "Abaixo, implementamos uma rede convolucional simples usando as camadas *Conv1D*, com 128 filtros, e *GlobalMaxPooling1D* da biblioteca *Tensorflow (Keras)*."
      ]
    },
    {
      "cell_type": "code",
      "metadata": {
        "id": "gRw7pLUKjoHK"
      },
      "source": [
        "def CNN_GloVe(max_words=20000, max_len=X_train.shape[1]):\n",
        "  ''' Função que constrói o modelo CNN. '''\n",
        "\n",
        "  inputs = Input(name='inputs',shape=[max_len])\n",
        "  layer = Embedding(max_words, 300, input_length=max_len, weights=[embedding_matrix],trainable=False)(inputs)\n",
        "  layer = Conv1D(128, 5)(layer)\n",
        "  layer = Activation('relu')(layer)\n",
        "  layer = GlobalMaxPooling1D()(layer)\n",
        "  layer = Dense(1)(layer)\n",
        "  layer = Activation('sigmoid')(layer)\n",
        "  model = Model(inputs=inputs,outputs=layer)\n",
        "  return model"
      ],
      "execution_count": null,
      "outputs": []
    },
    {
      "cell_type": "code",
      "metadata": {
        "id": "ia9WJ-PIjwPv",
        "colab": {
          "base_uri": "https://localhost:8080/",
          "height": 386
        },
        "outputId": "04141ee6-257d-4abe-f815-7e252542505d"
      },
      "source": [
        "# Construir e compilar modelo\n",
        "cnn_glove = CNN_GloVe()\n",
        "cnn_glove.compile(optimizer='adam', loss='binary_crossentropy', metrics=['acc'])\n",
        "cnn_glove.summary()"
      ],
      "execution_count": null,
      "outputs": [
        {
          "output_type": "stream",
          "text": [
            "Model: \"model\"\n",
            "_________________________________________________________________\n",
            "Layer (type)                 Output Shape              Param #   \n",
            "=================================================================\n",
            "inputs (InputLayer)          [(None, 50)]              0         \n",
            "_________________________________________________________________\n",
            "embedding (Embedding)        (None, 50, 300)           6000000   \n",
            "_________________________________________________________________\n",
            "conv1d (Conv1D)              (None, 46, 128)           192128    \n",
            "_________________________________________________________________\n",
            "activation (Activation)      (None, 46, 128)           0         \n",
            "_________________________________________________________________\n",
            "global_max_pooling1d (Global (None, 128)               0         \n",
            "_________________________________________________________________\n",
            "dense (Dense)                (None, 1)                 129       \n",
            "_________________________________________________________________\n",
            "activation_1 (Activation)    (None, 1)                 0         \n",
            "=================================================================\n",
            "Total params: 6,192,257\n",
            "Trainable params: 192,257\n",
            "Non-trainable params: 6,000,000\n",
            "_________________________________________________________________\n"
          ],
          "name": "stdout"
        }
      ]
    },
    {
      "cell_type": "code",
      "metadata": {
        "id": "BP_BRcddk0iC",
        "colab": {
          "base_uri": "https://localhost:8080/",
          "height": 373
        },
        "outputId": "e4a05538-c738-4fd1-d6de-725d98fa98cb"
      },
      "source": [
        "# Treinar no dataset pré-processado\n",
        "callbacks = [ModelCheckpoint(monitor='val_loss', filepath='./Modelos/best_model_CNN.h5', save_best_only=True)]\n",
        "cnn_glove_history = cnn_glove.fit(X_train,Y_train,batch_size=256,epochs=10, validation_split=0.1, callbacks=callbacks)\n",
        "\n",
        "# Carregar modelo\n",
        "if exists('./Modelos/best_model_CNN.h5'):\n",
        "    cnn_glove = load_model('./Modelos/best_model_CNN.h5')"
      ],
      "execution_count": null,
      "outputs": [
        {
          "output_type": "stream",
          "text": [
            "Epoch 1/10\n",
            "27/27 [==============================] - 7s 241ms/step - loss: 0.5050 - acc: 0.7565 - val_loss: 0.4623 - val_acc: 0.7782\n",
            "Epoch 2/10\n",
            "27/27 [==============================] - 6s 216ms/step - loss: 0.3672 - acc: 0.8460 - val_loss: 0.4547 - val_acc: 0.7835\n",
            "Epoch 3/10\n",
            "27/27 [==============================] - 6s 217ms/step - loss: 0.3105 - acc: 0.8778 - val_loss: 0.4511 - val_acc: 0.7835\n",
            "Epoch 4/10\n",
            "27/27 [==============================] - 6s 212ms/step - loss: 0.2647 - acc: 0.9038 - val_loss: 0.4568 - val_acc: 0.7979\n",
            "Epoch 5/10\n",
            "27/27 [==============================] - 6s 214ms/step - loss: 0.2244 - acc: 0.9280 - val_loss: 0.4787 - val_acc: 0.7900\n",
            "Epoch 6/10\n",
            "27/27 [==============================] - 6s 209ms/step - loss: 0.1920 - acc: 0.9454 - val_loss: 0.4713 - val_acc: 0.7848\n",
            "Epoch 7/10\n",
            "27/27 [==============================] - 6s 212ms/step - loss: 0.1625 - acc: 0.9581 - val_loss: 0.4701 - val_acc: 0.7913\n",
            "Epoch 8/10\n",
            "27/27 [==============================] - 6s 209ms/step - loss: 0.1407 - acc: 0.9673 - val_loss: 0.4940 - val_acc: 0.7822\n",
            "Epoch 9/10\n",
            "27/27 [==============================] - 6s 208ms/step - loss: 0.1225 - acc: 0.9723 - val_loss: 0.4815 - val_acc: 0.7979\n",
            "Epoch 10/10\n",
            "27/27 [==============================] - 6s 209ms/step - loss: 0.1083 - acc: 0.9752 - val_loss: 0.4992 - val_acc: 0.7966\n"
          ],
          "name": "stdout"
        }
      ]
    },
    {
      "cell_type": "code",
      "metadata": {
        "id": "0IiGC2iUzYqj",
        "colab": {
          "base_uri": "https://localhost:8080/",
          "height": 573
        },
        "outputId": "161b2585-230c-463f-c03c-a597608dca04"
      },
      "source": [
        "# Plotar métricas\n",
        "plot_graphs(cnn_glove_history, \"CNN GloVe\", key='acc')"
      ],
      "execution_count": null,
      "outputs": [
        {
          "output_type": "display_data",
          "data": {
            "image/png": "[encoded data removed]",
            "text/plain": [
              "<Figure size 432x288 with 1 Axes>"
            ]
          },
          "metadata": {
            "tags": [],
            "needs_background": "light"
          }
        },
        {
          "output_type": "display_data",
          "data": {
            "image/png": "[encoded data removed]",
            "text/plain": [
              "<Figure size 432x288 with 1 Axes>"
            ]
          },
          "metadata": {
            "tags": [],
            "needs_background": "light"
          }
        }
      ]
    }
  ]
}