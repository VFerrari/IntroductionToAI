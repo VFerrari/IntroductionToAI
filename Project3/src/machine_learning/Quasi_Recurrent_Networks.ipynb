{
  "nbformat": 4,
  "nbformat_minor": 0,
  "metadata": {
    "colab": {
      "name": "Quasi-Recurrent Networks",
      "provenance": [],
      "collapsed_sections": []
    },
    "kernelspec": {
      "name": "python3",
      "display_name": "Python 3"
    },
    "accelerator": "GPU"
  },
  "cells": [
    {
      "cell_type": "markdown",
      "metadata": {
        "id": "Vmc3SNcJsCzu"
      },
      "source": [
        "# **[MC906] Projeto Final**: Detecção de Desastres\n",
        "\n",
        "O objetivo desse projeto é construir e avaliar modelos de aprendizado de máquina que classifiquem quais Tweets são sobre desastres reais e quais não são.\n",
        "\n",
        "## **Acessar Diretório do Projeto**\n",
        "\n",
        "Esse Notebook assume que você está executando o código dentro da pasta `Projeto Final/Código`, que contém todos os códigos fontes relativos a esse trabalho. Para acessar o diretório no Colab é preciso criar um atalho em seu Drive (right click no diretório -> \"Adicionar atalho ao Google Drive\") e executar as células abaixo:"
      ]
    },
    {
      "cell_type": "code",
      "metadata": {
        "id": "WPMZqxlgSOl1",
        "colab": {
          "base_uri": "https://localhost:8080/",
          "height": 126
        },
        "outputId": "89668228-9de6-4d5e-831c-1c4baf29ae56"
      },
      "source": [
        "# Conectar ao Drive\n",
        "from google.colab import drive\n",
        "drive.mount('/content/drive/', force_remount=True)"
      ],
      "execution_count": null,
      "outputs": [
        {
          "output_type": "stream",
          "text": [
            "Go to this URL in a browser: https://accounts.google.com/o/oauth2/auth?client_id=947318989803-6bn6qk8qdgf4n4g3pfee6491hc0brc4i.apps.googleusercontent.com&redirect_uri=urn%3aietf%3awg%3aoauth%3a2.0%3aoob&response_type=code&scope=email%20https%3a%2f%2fwww.googleapis.com%2fauth%2fdocs.test%20https%3a%2f%2fwww.googleapis.com%2fauth%2fdrive%20https%3a%2f%2fwww.googleapis.com%2fauth%2fdrive.photos.readonly%20https%3a%2f%2fwww.googleapis.com%2fauth%2fpeopleapi.readonly\n",
            "\n",
            "Enter your authorization code:\n",
            "··········\n",
            "Mounted at /content/drive/\n"
          ],
          "name": "stdout"
        }
      ]
    },
    {
      "cell_type": "code",
      "metadata": {
        "id": "3iINZXg_SRhu",
        "colab": {
          "base_uri": "https://localhost:8080/",
          "height": 142
        },
        "outputId": "2f3fdbb7-8e45-4de4-88dc-7ed63f84bbfe"
      },
      "source": [
        "# Diretório do Projeto (/content/drive/My Drive/{path até Projeto Final/Código}), \n",
        "# dependendo da onde se localiza o atalho no seu Drive\n",
        "% cd '/content/drive/My Drive/[MC906] Introdução à Inteligência Artificial/Projeto Final/Código'\n",
        "! ls"
      ],
      "execution_count": null,
      "outputs": [
        {
          "output_type": "stream",
          "text": [
            "/content/drive/.shortcut-targets-by-id/1HmHC25ZqX3hUlCsRT-S0qiSsjwf10jLn/[MC906] Introdução à Inteligência Artificial/Projeto Final/Código\n",
            "'Attention CNN'\t\t\t Modelos\n",
            " BERT\t\t\t\t __pycache__\n",
            "'Convolutional Neural Network'\t'Quasi-Recurrent Networks'\n",
            "'Dense Neural Networks'\t\t'Recurrent Neural Networks'\n",
            "'Logistic Regression'\t\t tokenization.py\n",
            "'Melhor Pré-Processamento'\t utils.py\n"
          ],
          "name": "stdout"
        }
      ]
    },
    {
      "cell_type": "markdown",
      "metadata": {
        "id": "BfrywHzLsOlp"
      },
      "source": [
        "## **Dependências:**"
      ]
    },
    {
      "cell_type": "code",
      "metadata": {
        "id": "L3K-9NY1bNLS",
        "colab": {
          "base_uri": "https://localhost:8080/",
          "height": 124
        },
        "outputId": "efc4b344-bb09-44a4-f68d-1037b5792a1d"
      },
      "source": [
        "# Imports de pacotes instalados\n",
        "from os.path import join, exists\n",
        "import matplotlib.pyplot as plt\n",
        "import pandas as pd\n",
        "import numpy as np\n",
        "from tensorflow.keras import backend as K\n",
        "from tensorflow.keras import activations, initializers, regularizers, constraints\n",
        "from tensorflow.keras.layers import Layer, InputSpec\n",
        "from tensorflow.keras.layers import Input, Attention, Dense, Activation, Embedding, GlobalAveragePooling1D, GlobalMaxPooling1D, concatenate\n",
        "from tensorflow.keras.models import Model, load_model\n",
        "from tensorflow.keras.optimizers import Adam\n",
        "from tensorflow.keras.regularizers import l2\n",
        "from tensorflow.keras.constraints import MaxNorm\n",
        "from tensorflow.keras.callbacks import ModelCheckpoint\n",
        "from tensorflow.keras.preprocessing.sequence import pad_sequences\n",
        "from tensorflow.keras.preprocessing.text import Tokenizer\n",
        "\n",
        "# Imports locais\n",
        "from utils import *"
      ],
      "execution_count": null,
      "outputs": [
        {
          "output_type": "stream",
          "text": [
            "[nltk_data] Downloading package punkt to /root/nltk_data...\n",
            "[nltk_data]   Unzipping tokenizers/punkt.zip.\n",
            "[nltk_data] Downloading package stopwords to /root/nltk_data...\n",
            "[nltk_data]   Unzipping corpora/stopwords.zip.\n",
            "[nltk_data] Downloading package wordnet to /root/nltk_data...\n",
            "[nltk_data]   Unzipping corpora/wordnet.zip.\n"
          ],
          "name": "stdout"
        }
      ]
    },
    {
      "cell_type": "markdown",
      "metadata": {
        "id": "nPAVJ5i98MSR"
      },
      "source": [
        "## **Dataset:**\n",
        "\n",
        "Utilizamos um *dataset* disponível no site [Kaggle](https://www.kaggle.com/c/nlp-getting-started/data) (em inglês). Cada tweet apresenta três atributos: seu conteúdo (`text`), uma palavra-chave (`keyword`, opcional) e a localização da onde foi enviado (`location`, opcional). Como só usaremos o texto, removemos os dois últimos."
      ]
    },
    {
      "cell_type": "code",
      "metadata": {
        "id": "l0qHVW2tH4d9",
        "colab": {
          "base_uri": "https://localhost:8080/",
          "height": 196
        },
        "outputId": "1710411b-0f8e-4ccb-99fc-c590ae1b3dab"
      },
      "source": [
        "# Ler e limpar dados (removendo colunas do id, keyword e location)\n",
        "train = pd.read_csv(\"../Dataset/train.csv\")\n",
        "train = train.drop(['id','keyword','location'], axis=1)\n",
        "\n",
        "# Imprimir alguns dados\n",
        "print(train.head())\n",
        "vals = train.groupby('target').count()\n",
        "print(\"\\nSome General insights:\")\n",
        "print(f\"Figure of Speech: {vals.iloc[0]['text']*100/len(train):.2f}%\")\n",
        "print(f\"Actual Accidents: {vals.iloc[1]['text']*100/len(train):.2f}%\")\n",
        "\n",
        "# Salvar targets\n",
        "Y = np.array([[x] for x in train.target.tolist()])"
      ],
      "execution_count": null,
      "outputs": [
        {
          "output_type": "stream",
          "text": [
            "                                                text  target\n",
            "0  Our Deeds are the Reason of this #earthquake M...       1\n",
            "1             Forest fire near La Ronge Sask. Canada       1\n",
            "2  All residents asked to 'shelter in place' are ...       1\n",
            "3  13,000 people receive #wildfires evacuation or...       1\n",
            "4  Just got sent this photo from Ruby #Alaska as ...       1\n",
            "\n",
            "Some General insights:\n",
            "Figure of Speech: 57.03%\n",
            "Actual Accidents: 42.97%\n"
          ],
          "name": "stdout"
        }
      ]
    },
    {
      "cell_type": "markdown",
      "metadata": {
        "id": "QRGxX4jyZHC7"
      },
      "source": [
        "## **Pré-Processamento:**\n",
        "\n",
        "*Global Vectors for Word Representation*, ou GloVe, é um algoritmo de aprendizado não-supervisionado com o objetivo de obter representações vetoriais para palavras, proposto em 2014. O algoritmo mapeia as palavras no espaço, tal que a distância e a semelhança semântica entre elas é proporcional.\n",
        "\n",
        "Utilizamos sua representação de palavras para nosso conjunto de dados e seus pesos pré-treinados na camada de Embedding da rede, mais especificamente o arquivo *glove.840B.300d.txt*. Previamente, também removemos as pontuações e caracteres especiais dos textos."
      ]
    },
    {
      "cell_type": "code",
      "metadata": {
        "id": "4A_sPhy-WDol"
      },
      "source": [
        "# Limpar texto \n",
        "train.text = train.text.apply(clean_up)"
      ],
      "execution_count": null,
      "outputs": []
    },
    {
      "cell_type": "code",
      "metadata": {
        "id": "xQATSWoxEdqc",
        "colab": {
          "base_uri": "https://localhost:8080/",
          "height": 106
        },
        "outputId": "fb4eb974-5342-499e-ca7b-77b3e8106f3d"
      },
      "source": [
        "# Aplicar tokenização\n",
        "max_words = 20000\n",
        "max_length = 50\n",
        "tokenizer = Tokenizer(num_words=max_words)\n",
        "tokenizer.fit_on_texts(train.text)\n",
        "X = tokenizer.texts_to_sequences(train.text)\n",
        "print(X[1])\n",
        "X = pad_sequences(X, maxlen=max_length)\n",
        "print(X[1])"
      ],
      "execution_count": null,
      "outputs": [
        {
          "output_type": "stream",
          "text": [
            "[176, 44, 214, 647, 6630, 6631, 1327]\n",
            "[   0    0    0    0    0    0    0    0    0    0    0    0    0    0\n",
            "    0    0    0    0    0    0    0    0    0    0    0    0    0    0\n",
            "    0    0    0    0    0    0    0    0    0    0    0    0    0    0\n",
            "    0  176   44  214  647 6630 6631 1327]\n"
          ],
          "name": "stdout"
        }
      ]
    },
    {
      "cell_type": "code",
      "metadata": {
        "id": "MOOR3qfxZF3s"
      },
      "source": [
        "# Preparar incorporação de palavras\n",
        "embeddings_index = dict()\n",
        "f = open('../Glove/glove.840B.300d.txt')\n",
        "for line in f:\n",
        "    values = line.split()\n",
        "    word = values[0]\n",
        "    try:\n",
        "      float(values[1])\n",
        "    except ValueError:\n",
        "      continue\n",
        "    coefs = np.asarray(values[1:], dtype='float32')\n",
        "    embeddings_index[word] = coefs\n",
        "f.close()"
      ],
      "execution_count": null,
      "outputs": []
    },
    {
      "cell_type": "code",
      "metadata": {
        "id": "VCp-E9ZrdP83"
      },
      "source": [
        "# Construir matriz de incorporação\n",
        "embedding_matrix = np.zeros((max_words, 300))\n",
        "for word, index in tokenizer.word_index.items():\n",
        "    if index > max_words - 1:\n",
        "        break\n",
        "    else:\n",
        "        embedding_vector = embeddings_index.get(word)\n",
        "        if embedding_vector is not None:\n",
        "            embedding_matrix[index] = embedding_vector"
      ],
      "execution_count": null,
      "outputs": []
    },
    {
      "cell_type": "markdown",
      "metadata": {
        "id": "WAe2UfbBy7wv"
      },
      "source": [
        "## **Modelo:** Rede Quasi-Recorrente\n",
        "\n",
        "Um método alternativo que resolvemos testar foi o de redes \"quasi-recorrentes\", tanto sem quanto com atenção."
      ]
    },
    {
      "cell_type": "markdown",
      "metadata": {
        "id": "9syLE3hIvUf8"
      },
      "source": [
        "## **Camada QRNN**:\n",
        "Como não há implementação de uma camada Quasi-Recorrente no *Tensorflow*, foi utilizada uma implementação externa, criada pelo usuário Bilal ML e disponibilizada no site *Kaggle* a partir deste [link](https://www.kaggle.com/bkkaggle/keras-quasi-recurrent-neural-network).\n",
        "\n",
        "A integração da camada no *Tensorflow 2.0* foi simples, apenas necessitando do porte de uma função que não está presente na nova versão, chamada de *conv_output_length*. A função utilizada foi retirada de uma versão antiga da biblioteca *Keras*."
      ]
    },
    {
      "cell_type": "code",
      "metadata": {
        "id": "oWV4JKR4p5dK"
      },
      "source": [
        "def conv_output_length(input_length, filter_size, padding, stride, dilation=1):\n",
        "  \"\"\"Determines output length of a convolution given input length.\n",
        "  Arguments:\n",
        "      input_length: integer.\n",
        "      filter_size: integer.\n",
        "      padding: one of \"same\", \"valid\", \"full\", \"causal\"\n",
        "      stride: integer.\n",
        "      dilation: dilation rate, integer.\n",
        "  Returns:\n",
        "      The output length (integer).\n",
        "  \"\"\"\n",
        "  if input_length is None:\n",
        "    return None\n",
        "  assert padding in {'same', 'valid', 'full', 'causal'}\n",
        "  dilated_filter_size = filter_size + (filter_size - 1) * (dilation - 1)\n",
        "  if padding in ['same', 'causal']:\n",
        "    output_length = input_length\n",
        "  elif padding == 'valid':\n",
        "    output_length = input_length - dilated_filter_size + 1\n",
        "  elif padding == 'full':\n",
        "    output_length = input_length + dilated_filter_size - 1\n",
        "  return (output_length + stride - 1) // stride\n",
        "\n",
        "def _dropout(x, level, noise_shape=None, seed=None):\n",
        "    x = K.dropout(x, level, noise_shape, seed)\n",
        "    x *= (1. - level) # compensate for the scaling by the dropout\n",
        "    return x\n",
        "\n",
        "class QRNN(Layer):\n",
        "    '''Quasi RNN\n",
        "    # Arguments\n",
        "        units: dimension of the internal projections and the final output.\n",
        "    # References\n",
        "        - [Quasi-recurrent Neural Networks](http://arxiv.org/abs/1611.01576)\n",
        "    '''\n",
        "    def __init__(self, units, window_size=2, stride=1,\n",
        "                 return_sequences=False, go_backwards=False, \n",
        "                 stateful=False, unroll=False, activation='tanh',\n",
        "                 kernel_initializer='uniform', bias_initializer='zero',\n",
        "                 kernel_regularizer=None, bias_regularizer=None,\n",
        "                 activity_regularizer=None,\n",
        "                 kernel_constraint=None, bias_constraint=None, \n",
        "                 dropout=0, use_bias=True, input_dim=None, input_length=None,\n",
        "                 **kwargs):\n",
        "        self.return_sequences = return_sequences\n",
        "        self.go_backwards = go_backwards\n",
        "        self.stateful = stateful\n",
        "        self.unroll = unroll\n",
        "\n",
        "        self.units = units \n",
        "        self.window_size = window_size\n",
        "        self.strides = (stride, 1)\n",
        "\n",
        "        self.use_bias = use_bias\n",
        "        self.activation = activations.get(activation)\n",
        "        self.kernel_initializer = initializers.get(kernel_initializer)\n",
        "        self.bias_initializer = initializers.get(bias_initializer)\n",
        "        self.kernel_regularizer = regularizers.get(kernel_regularizer)\n",
        "        self.bias_regularizer = regularizers.get(bias_regularizer)\n",
        "        self.activity_regularizer = regularizers.get(activity_regularizer)\n",
        "        self.kernel_constraint = constraints.get(kernel_constraint)\n",
        "        self.bias_constraint = constraints.get(bias_constraint)\n",
        "\n",
        "        self.dropout = dropout\n",
        "        self.supports_masking = True\n",
        "        self.input_spec = [InputSpec(ndim=3)]\n",
        "        self.input_dim = input_dim\n",
        "        self.input_length = input_length\n",
        "        if self.input_dim:\n",
        "            kwargs['input_shape'] = (self.input_length, self.input_dim)\n",
        "        super(QRNN, self).__init__(**kwargs)\n",
        "\n",
        "    def build(self, input_shape):\n",
        "        if isinstance(input_shape, list):\n",
        "            input_shape = input_shape[0]\n",
        "\n",
        "        batch_size = input_shape[0] if self.stateful else None\n",
        "        self.input_dim = input_shape[2]\n",
        "        self.input_spec = InputSpec(shape=(batch_size, None, self.input_dim))\n",
        "        self.state_spec = InputSpec(shape=(batch_size, self.units))\n",
        "\n",
        "        self.states = [None]\n",
        "        if self.stateful:\n",
        "            self.reset_states()\n",
        "\n",
        "        kernel_shape = (self.window_size, 1, self.input_dim, self.units * 3)\n",
        "        self.kernel = self.add_weight(name='kernel',\n",
        "                                      shape=kernel_shape,\n",
        "                                      initializer=self.kernel_initializer,\n",
        "                                      regularizer=self.kernel_regularizer,\n",
        "                                      constraint=self.kernel_constraint)\n",
        "        if self.use_bias:\n",
        "            self.bias = self.add_weight(name='bias', \n",
        "                                        shape=(self.units * 3,),\n",
        "                                        initializer=self.bias_initializer,\n",
        "                                        regularizer=self.bias_regularizer,\n",
        "                                        constraint=self.bias_constraint)\n",
        "\n",
        "        self.built = True\n",
        "\n",
        "    def compute_output_shape(self, input_shape):\n",
        "        if isinstance(input_shape, list):\n",
        "            input_shape = input_shape[0]\n",
        "\n",
        "        length = input_shape[1]\n",
        "        if length:\n",
        "            length = conv_output_length(length + self.window_size - 1,\n",
        "                                        self.window_size, 'valid',\n",
        "                                        self.strides[0])\n",
        "        if self.return_sequences:\n",
        "            return (input_shape[0], length, self.units)\n",
        "        else:\n",
        "            return (input_shape[0], self.units)\n",
        "\n",
        "    def compute_mask(self, inputs, mask):\n",
        "        if self.return_sequences:\n",
        "            return mask\n",
        "        else:\n",
        "            return None\n",
        "\n",
        "    def get_initial_states(self, inputs):\n",
        "        # build an all-zero tensor of shape (samples, units)\n",
        "        initial_state = K.zeros_like(inputs)  # (samples, timesteps, input_dim)\n",
        "        initial_state = K.sum(initial_state, axis=(1, 2))  # (samples,)\n",
        "        initial_state = K.expand_dims(initial_state)  # (samples, 1)\n",
        "        initial_state = K.tile(initial_state, [1, self.units])  # (samples, units)\n",
        "        initial_states = [initial_state for _ in range(len(self.states))]\n",
        "        return initial_states\n",
        "\n",
        "    def reset_states(self, states=None):\n",
        "        if not self.stateful:\n",
        "            raise AttributeError('Layer must be stateful.')\n",
        "        if not self.input_spec:\n",
        "            raise RuntimeError('Layer has never been called '\n",
        "                               'and thus has no states.')\n",
        "\n",
        "        batch_size = self.input_spec.shape[0]\n",
        "        if not batch_size:\n",
        "            raise ValueError('If a QRNN is stateful, it needs to know '\n",
        "                             'its batch size. Specify the batch size '\n",
        "                             'of your input tensors: \\n'\n",
        "                             '- If using a Sequential model, '\n",
        "                             'specify the batch size by passing '\n",
        "                             'a `batch_input_shape` '\n",
        "                             'argument to your first layer.\\n'\n",
        "                             '- If using the functional API, specify '\n",
        "                             'the time dimension by passing a '\n",
        "                             '`batch_shape` argument to your Input layer.')\n",
        "\n",
        "        if self.states[0] is None:\n",
        "            self.states = [K.zeros((batch_size, self.units))\n",
        "                           for _ in self.states]\n",
        "        elif states is None:\n",
        "            for state in self.states:\n",
        "                K.set_value(state, np.zeros((batch_size, self.units)))\n",
        "        else:\n",
        "            if not isinstance(states, (list, tuple)):\n",
        "                states = [states]\n",
        "            if len(states) != len(self.states):\n",
        "                raise ValueError('Layer ' + self.name + ' expects ' +\n",
        "                                 str(len(self.states)) + ' states, '\n",
        "                                 'but it received ' + str(len(states)) +\n",
        "                                 'state values. Input received: ' +\n",
        "                                 str(states))\n",
        "            for index, (value, state) in enumerate(zip(states, self.states)):\n",
        "                if value.shape != (batch_size, self.units):\n",
        "                    raise ValueError('State ' + str(index) +\n",
        "                                     ' is incompatible with layer ' +\n",
        "                                     self.name + ': expected shape=' +\n",
        "                                     str((batch_size, self.units)) +\n",
        "                                     ', found shape=' + str(value.shape))\n",
        "                K.set_value(state, value)\n",
        "\n",
        "    def __call__(self, inputs, initial_state=None, **kwargs):\n",
        "        # If `initial_state` is specified,\n",
        "        # and if it a Keras tensor,\n",
        "        # then add it to the inputs and temporarily\n",
        "        # modify the input spec to include the state.\n",
        "        if initial_state is not None:\n",
        "            if hasattr(initial_state, '_keras_history'):\n",
        "                # Compute the full input spec, including state\n",
        "                input_spec = self.input_spec\n",
        "                state_spec = self.state_spec\n",
        "                if not isinstance(state_spec, list):\n",
        "                    state_spec = [state_spec]\n",
        "                self.input_spec = [input_spec] + state_spec\n",
        "\n",
        "                # Compute the full inputs, including state\n",
        "                if not isinstance(initial_state, (list, tuple)):\n",
        "                    initial_state = [initial_state]\n",
        "                inputs = [inputs] + list(initial_state)\n",
        "\n",
        "                # Perform the call\n",
        "                output = super(QRNN, self).__call__(inputs, **kwargs)\n",
        "\n",
        "                # Restore original input spec\n",
        "                self.input_spec = input_spec\n",
        "                return output\n",
        "            else:\n",
        "                kwargs['initial_state'] = initial_state\n",
        "        return super(QRNN, self).__call__(inputs, **kwargs)\n",
        "\n",
        "    def call(self, inputs, mask=None, initial_state=None, training=None):\n",
        "        # input shape: `(samples, time (padded with zeros), input_dim)`\n",
        "        # note that the .build() method of subclasses MUST define\n",
        "        # self.input_spec and self.state_spec with complete input shapes.\n",
        "        if isinstance(inputs, list):\n",
        "            initial_states = inputs[1:]\n",
        "            inputs = inputs[0]\n",
        "        elif initial_state is not None:\n",
        "            pass\n",
        "        elif self.stateful:\n",
        "            initial_states = self.states\n",
        "        else:\n",
        "            initial_states = self.get_initial_states(inputs)\n",
        "\n",
        "        if len(initial_states) != len(self.states):\n",
        "            raise ValueError('Layer has ' + str(len(self.states)) +\n",
        "                             ' states but was passed ' +\n",
        "                             str(len(initial_states)) +\n",
        "                             ' initial states.')\n",
        "        input_shape = K.int_shape(inputs)\n",
        "        if self.unroll and input_shape[1] is None:\n",
        "            raise ValueError('Cannot unroll a RNN if the '\n",
        "                             'time dimension is undefined. \\n'\n",
        "                             '- If using a Sequential model, '\n",
        "                             'specify the time dimension by passing '\n",
        "                             'an `input_shape` or `batch_input_shape` '\n",
        "                             'argument to your first layer. If your '\n",
        "                             'first layer is an Embedding, you can '\n",
        "                             'also use the `input_length` argument.\\n'\n",
        "                             '- If using the functional API, specify '\n",
        "                             'the time dimension by passing a `shape` '\n",
        "                             'or `batch_shape` argument to your Input layer.')\n",
        "        constants = self.get_constants(inputs, training=None)\n",
        "        preprocessed_input = self.preprocess_input(inputs, training=None)\n",
        "\n",
        "        last_output, outputs, states = K.rnn(self.step, preprocessed_input,\n",
        "                                            initial_states,\n",
        "                                            go_backwards=self.go_backwards,\n",
        "                                            mask=mask,\n",
        "                                            constants=constants,\n",
        "                                            unroll=self.unroll,\n",
        "                                            input_length=input_shape[1])\n",
        "        if self.stateful:\n",
        "            updates = []\n",
        "            for i in range(len(states)):\n",
        "                updates.append((self.states[i], states[i]))\n",
        "            self.add_update(updates, inputs)\n",
        "\n",
        "        # Properly set learning phase\n",
        "        if 0 < self.dropout < 1:\n",
        "            last_output._uses_learning_phase = True\n",
        "            outputs._uses_learning_phase = True\n",
        "\n",
        "        if self.return_sequences:\n",
        "            return outputs\n",
        "        else:\n",
        "            return last_output\n",
        "\n",
        "    def preprocess_input(self, inputs, training=None):\n",
        "        if self.window_size > 1:\n",
        "            inputs = K.temporal_padding(inputs, (self.window_size-1, 0))\n",
        "        inputs = K.expand_dims(inputs, 2)  # add a dummy dimension\n",
        "\n",
        "        output = K.conv2d(inputs, self.kernel, strides=self.strides,\n",
        "                          padding='valid',\n",
        "                          data_format='channels_last')\n",
        "        output = K.squeeze(output, 2)  # remove the dummy dimension\n",
        "        if self.use_bias:\n",
        "            output = K.bias_add(output, self.bias, data_format='channels_last')\n",
        "\n",
        "        if self.dropout is not None and 0. < self.dropout < 1.:\n",
        "            z = output[:, :, :self.units]\n",
        "            f = output[:, :, self.units:2 * self.units]\n",
        "            o = output[:, :, 2 * self.units:]\n",
        "            f = K.in_train_phase(1 - _dropout(1 - f, self.dropout), f, training=training)\n",
        "            return K.concatenate([z, f, o], -1)\n",
        "        else:\n",
        "            return output\n",
        "\n",
        "    def step(self, inputs, states):\n",
        "        prev_output = states[0]\n",
        "\n",
        "        z = inputs[:, :self.units]\n",
        "        f = inputs[:, self.units:2 * self.units]\n",
        "        o = inputs[:, 2 * self.units:]\n",
        "\n",
        "        z = self.activation(z)\n",
        "        f = f if self.dropout is not None and 0. < self.dropout < 1. else K.sigmoid(f)\n",
        "        o = K.sigmoid(o)\n",
        "\n",
        "        output = f * prev_output + (1 - f) * z\n",
        "        output = o * output\n",
        "\n",
        "        return output, [output]\n",
        "\n",
        "    def get_constants(self, inputs, training=None):\n",
        "        return []\n",
        " \n",
        "    def get_config(self):\n",
        "        config = {'units': self.units,\n",
        "                  'window_size': self.window_size,\n",
        "                  'stride': self.strides[0],\n",
        "                  'return_sequences': self.return_sequences,\n",
        "                  'go_backwards': self.go_backwards,\n",
        "                  'stateful': self.stateful,\n",
        "                  'unroll': self.unroll,\n",
        "                  'use_bias': self.use_bias,\n",
        "                  'dropout': self.dropout,\n",
        "                  'activation': activations.serialize(self.activation),\n",
        "                  'kernel_initializer': initializers.serialize(self.kernel_initializer),\n",
        "                  'bias_initializer': initializers.serialize(self.bias_initializer),\n",
        "                  'kernel_regularizer': regularizers.serialize(self.kernel_regularizer),\n",
        "                  'bias_regularizer': regularizers.serialize(self.bias_regularizer),\n",
        "                  'activity_regularizer': regularizers.serialize(self.activity_regularizer),\n",
        "                  'kernel_constraint': constraints.serialize(self.kernel_constraint),\n",
        "                  'bias_constraint': constraints.serialize(self.bias_constraint),\n",
        "                  'input_dim': self.input_dim,\n",
        "                  'input_length': self.input_length}\n",
        "        base_config = super(QRNN, self).get_config()\n",
        "        return dict(list(base_config.items()) + list(config.items()))"
      ],
      "execution_count": null,
      "outputs": []
    },
    {
      "cell_type": "markdown",
      "metadata": {
        "id": "FuaTyRnTvJgh"
      },
      "source": [
        "### **Rede 1**: QRNN sem atenção"
      ]
    },
    {
      "cell_type": "code",
      "metadata": {
        "id": "yXSlIH1ah9ZM"
      },
      "source": [
        "def QRNN_glove(max_words = max_words, max_len = X.shape[1], qrnn_out=256):\n",
        "  ''' Função que constrói o modelo QRNN sem atenção. '''\n",
        "\n",
        "  inputs = Input(name='inputs',shape=[max_len])\n",
        "  layer = Embedding(max_words, 300, input_length=50, weights=[embedding_matrix], trainable=False)(inputs)\n",
        "  layer = QRNN(qrnn_out, window_size=3, dropout=0.2, return_sequences=True,\n",
        "            kernel_regularizer=l2(1e-3), bias_regularizer=l2(1e-3), \n",
        "            kernel_constraint=MaxNorm(10), bias_constraint=MaxNorm(10))(layer)\n",
        "  avg_pool = GlobalAveragePooling1D()(layer)\n",
        "  max_pool = GlobalMaxPooling1D()(layer)\n",
        "  conc = concatenate([avg_pool, max_pool])\n",
        "  layer = Dense(1,name='out_layer')(conc)\n",
        "  layer = Activation('sigmoid')(layer)\n",
        "  model_glove = Model(inputs=inputs,outputs=layer)\n",
        "  return model_glove"
      ],
      "execution_count": null,
      "outputs": []
    },
    {
      "cell_type": "code",
      "metadata": {
        "id": "jgl282Okv1Uf",
        "colab": {
          "base_uri": "https://localhost:8080/",
          "height": 464
        },
        "outputId": "e71f87ca-129d-4973-e721-15931ad307d3"
      },
      "source": [
        "# Construir e compilar modelo\n",
        "qrnn = QRNN_glove()\n",
        "qrnn.summary()\n",
        "qrnn.compile(loss='binary_crossentropy', optimizer='adam', metrics=['accuracy'])"
      ],
      "execution_count": null,
      "outputs": [
        {
          "output_type": "stream",
          "text": [
            "Model: \"functional_5\"\n",
            "__________________________________________________________________________________________________\n",
            "Layer (type)                    Output Shape         Param #     Connected to                     \n",
            "==================================================================================================\n",
            "inputs (InputLayer)             [(None, 50)]         0                                            \n",
            "__________________________________________________________________________________________________\n",
            "embedding_2 (Embedding)         (None, 50, 300)      6000000     inputs[0][0]                     \n",
            "__________________________________________________________________________________________________\n",
            "qrnn_2 (QRNN)                   (None, 50, 256)      691968      embedding_2[0][0]                \n",
            "__________________________________________________________________________________________________\n",
            "global_average_pooling1d_2 (Glo (None, 256)          0           qrnn_2[0][0]                     \n",
            "__________________________________________________________________________________________________\n",
            "global_max_pooling1d_2 (GlobalM (None, 256)          0           qrnn_2[0][0]                     \n",
            "__________________________________________________________________________________________________\n",
            "concatenate_2 (Concatenate)     (None, 512)          0           global_average_pooling1d_2[0][0] \n",
            "                                                                 global_max_pooling1d_2[0][0]     \n",
            "__________________________________________________________________________________________________\n",
            "out_layer (Dense)               (None, 1)            513         concatenate_2[0][0]              \n",
            "__________________________________________________________________________________________________\n",
            "activation_2 (Activation)       (None, 1)            0           out_layer[0][0]                  \n",
            "==================================================================================================\n",
            "Total params: 6,692,481\n",
            "Trainable params: 692,481\n",
            "Non-trainable params: 6,000,000\n",
            "__________________________________________________________________________________________________\n"
          ],
          "name": "stdout"
        }
      ]
    },
    {
      "cell_type": "code",
      "metadata": {
        "id": "MsH0bIRmxl2o",
        "colab": {
          "base_uri": "https://localhost:8080/",
          "height": 553
        },
        "outputId": "7aea82e1-9563-40a2-a4a2-936f0d468db8"
      },
      "source": [
        "# Treinar no dataset pré-processado\n",
        "callbacks = [ModelCheckpoint(monitor='val_loss', filepath='./Modelos/best_model_QRNN_glove.h5', save_best_only=True)]\n",
        "QRNN_history = qrnn.fit(X,Y,batch_size=100,epochs=15, validation_split=0.1, callbacks=callbacks)\n",
        "\n",
        "# Carregar modelo\n",
        "if exists('./Modelos/best_model_QRNN.h5'):\n",
        "    neural_network = load_model('./Modelos/best_model_QRNN.h5')"
      ],
      "execution_count": null,
      "outputs": [
        {
          "output_type": "stream",
          "text": [
            "Epoch 1/15\n",
            "69/69 [==============================] - 11s 165ms/step - loss: 0.7872 - accuracy: 0.7824 - val_loss: 0.6093 - val_accuracy: 0.8031\n",
            "Epoch 2/15\n",
            "69/69 [==============================] - 10s 151ms/step - loss: 0.5182 - accuracy: 0.8346 - val_loss: 0.5555 - val_accuracy: 0.8123\n",
            "Epoch 3/15\n",
            "69/69 [==============================] - 10s 152ms/step - loss: 0.4564 - accuracy: 0.8535 - val_loss: 0.6205 - val_accuracy: 0.7703\n",
            "Epoch 4/15\n",
            "69/69 [==============================] - 10s 145ms/step - loss: 0.4163 - accuracy: 0.8695 - val_loss: 1.3441 - val_accuracy: 0.7874\n",
            "Epoch 5/15\n",
            "69/69 [==============================] - 10s 145ms/step - loss: 0.3806 - accuracy: 0.8969 - val_loss: 0.6741 - val_accuracy: 0.8018\n",
            "Epoch 6/15\n",
            "69/69 [==============================] - 10s 144ms/step - loss: 0.3582 - accuracy: 0.9123 - val_loss: 0.9540 - val_accuracy: 0.8018\n",
            "Epoch 7/15\n",
            "69/69 [==============================] - 10s 145ms/step - loss: 0.3453 - accuracy: 0.9225 - val_loss: 0.9258 - val_accuracy: 0.7874\n",
            "Epoch 8/15\n",
            "69/69 [==============================] - 10s 144ms/step - loss: 0.3296 - accuracy: 0.9289 - val_loss: 1.3710 - val_accuracy: 0.7940\n",
            "Epoch 9/15\n",
            "69/69 [==============================] - 10s 143ms/step - loss: 0.3206 - accuracy: 0.9413 - val_loss: 0.9895 - val_accuracy: 0.7940\n",
            "Epoch 10/15\n",
            "69/69 [==============================] - 10s 142ms/step - loss: 0.3181 - accuracy: 0.9448 - val_loss: 1.1071 - val_accuracy: 0.7822\n",
            "Epoch 11/15\n",
            "69/69 [==============================] - 10s 147ms/step - loss: 0.3012 - accuracy: 0.9494 - val_loss: 2.2243 - val_accuracy: 0.7966\n",
            "Epoch 12/15\n",
            "69/69 [==============================] - 10s 146ms/step - loss: 0.2949 - accuracy: 0.9502 - val_loss: 1.5331 - val_accuracy: 0.7887\n",
            "Epoch 13/15\n",
            "69/69 [==============================] - 10s 147ms/step - loss: 0.2856 - accuracy: 0.9555 - val_loss: 1.2611 - val_accuracy: 0.7927\n",
            "Epoch 14/15\n",
            "69/69 [==============================] - 10s 147ms/step - loss: 0.2837 - accuracy: 0.9562 - val_loss: 1.8395 - val_accuracy: 0.7559\n",
            "Epoch 15/15\n",
            "69/69 [==============================] - 10s 145ms/step - loss: 0.2788 - accuracy: 0.9577 - val_loss: 2.4619 - val_accuracy: 0.7808\n"
          ],
          "name": "stdout"
        }
      ]
    },
    {
      "cell_type": "code",
      "metadata": {
        "id": "_ELuw0b6yD7I",
        "colab": {
          "base_uri": "https://localhost:8080/",
          "height": 573
        },
        "outputId": "aad91e02-ea71-44b6-bf87-5858637afb07"
      },
      "source": [
        "# Plotar métricas\n",
        "plot_graphs(QRNN_history, \"QRNN GloVe\")"
      ],
      "execution_count": null,
      "outputs": [
        {
          "output_type": "display_data",
          "data": {
            "image/png": "[encoded data removed]",
            "text/plain": [
              "<Figure size 432x288 with 1 Axes>"
            ]
          },
          "metadata": {
            "tags": [],
            "needs_background": "light"
          }
        },
        {
          "output_type": "display_data",
          "data": {
            "image/png": "[encoded data removed]",
            "text/plain": [
              "<Figure size 432x288 with 1 Axes>"
            ]
          },
          "metadata": {
            "tags": [],
            "needs_background": "light"
          }
        }
      ]
    },
    {
      "cell_type": "markdown",
      "metadata": {
        "id": "IRNfIw5WzI5N"
      },
      "source": [
        "### **Rede 2:** QRNN com atenção"
      ]
    },
    {
      "cell_type": "code",
      "metadata": {
        "id": "yrkYQV5IS_L6"
      },
      "source": [
        "def QRNN_att(max_words = max_words, max_len = X.shape[1], qrnn_out=256):\n",
        "  ''' Função que constrói o modelo QRNN com atenção. '''\n",
        "\n",
        "  inputs = Input(name='inputs',shape=[max_len])\n",
        "  layer = Embedding(max_words, 300, input_length=50, weights=[embedding_matrix], trainable=False)(inputs)\n",
        "  layer = QRNN(qrnn_out, window_size=3, dropout=0.2, return_sequences=True,\n",
        "               kernel_regularizer=l2(1e-3), bias_regularizer=l2(1e-3), \n",
        "               kernel_constraint=MaxNorm(10), bias_constraint=MaxNorm(10))(layer)\n",
        "  att_layer = Attention()([layer,layer])\n",
        "  avg_pool = GlobalAveragePooling1D()(layer)\n",
        "  max_pool = GlobalMaxPooling1D()(att_layer)\n",
        "  conc = concatenate([avg_pool, max_pool])\n",
        "  layer = Dense(1,name='out_layer')(conc)\n",
        "  layer = Activation('sigmoid')(layer)\n",
        "  model_att = Model(inputs=inputs,outputs=layer)\n",
        "  return model_att"
      ],
      "execution_count": null,
      "outputs": []
    },
    {
      "cell_type": "code",
      "metadata": {
        "id": "fLyjf9YMTNr7",
        "colab": {
          "base_uri": "https://localhost:8080/",
          "height": 517
        },
        "outputId": "ac740241-8c7a-4d4c-a9a8-067f1711247c"
      },
      "source": [
        "# Construir e compilar modelo\n",
        "qrnn_att = QRNN_att()\n",
        "qrnn_att.summary()\n",
        "qrnn_att.compile(loss='binary_crossentropy', optimizer='adam', metrics=['accuracy'])"
      ],
      "execution_count": null,
      "outputs": [
        {
          "output_type": "stream",
          "text": [
            "Model: \"functional_11\"\n",
            "__________________________________________________________________________________________________\n",
            "Layer (type)                    Output Shape         Param #     Connected to                     \n",
            "==================================================================================================\n",
            "inputs (InputLayer)             [(None, 50)]         0                                            \n",
            "__________________________________________________________________________________________________\n",
            "embedding_5 (Embedding)         (None, 50, 300)      6000000     inputs[0][0]                     \n",
            "__________________________________________________________________________________________________\n",
            "qrnn_5 (QRNN)                   (None, 50, 256)      691968      embedding_5[0][0]                \n",
            "__________________________________________________________________________________________________\n",
            "attention_2 (Attention)         (None, 50, 256)      0           qrnn_5[0][0]                     \n",
            "                                                                 qrnn_5[0][0]                     \n",
            "__________________________________________________________________________________________________\n",
            "global_average_pooling1d_5 (Glo (None, 256)          0           qrnn_5[0][0]                     \n",
            "__________________________________________________________________________________________________\n",
            "global_max_pooling1d_5 (GlobalM (None, 256)          0           attention_2[0][0]                \n",
            "__________________________________________________________________________________________________\n",
            "concatenate_5 (Concatenate)     (None, 512)          0           global_average_pooling1d_5[0][0] \n",
            "                                                                 global_max_pooling1d_5[0][0]     \n",
            "__________________________________________________________________________________________________\n",
            "out_layer (Dense)               (None, 1)            513         concatenate_5[0][0]              \n",
            "__________________________________________________________________________________________________\n",
            "activation_5 (Activation)       (None, 1)            0           out_layer[0][0]                  \n",
            "==================================================================================================\n",
            "Total params: 6,692,481\n",
            "Trainable params: 692,481\n",
            "Non-trainable params: 6,000,000\n",
            "__________________________________________________________________________________________________\n"
          ],
          "name": "stdout"
        }
      ]
    },
    {
      "cell_type": "code",
      "metadata": {
        "id": "3RXlq0XQxoQy",
        "colab": {
          "base_uri": "https://localhost:8080/",
          "height": 196
        },
        "outputId": "8dcca420-93ce-4fd5-ea3c-c03bd30c90f9"
      },
      "source": [
        "# Treinar no dataset pré-processado\n",
        "callbacks = [ModelCheckpoint(monitor='val_loss', filepath='./Modelos/best_model_QRNN_att.h5', save_best_only=True)]\n",
        "qrnn_att_history = qrnn_att.fit(X,Y,batch_size=100,epochs=5, validation_split=0.1, callbacks=callbacks)"
      ],
      "execution_count": null,
      "outputs": [
        {
          "output_type": "stream",
          "text": [
            "Epoch 1/5\n",
            "69/69 [==============================] - 11s 162ms/step - loss: 0.7893 - accuracy: 0.7745 - val_loss: 0.5991 - val_accuracy: 0.8058\n",
            "Epoch 2/5\n",
            "69/69 [==============================] - 10s 152ms/step - loss: 0.5186 - accuracy: 0.8359 - val_loss: 0.5533 - val_accuracy: 0.8136\n",
            "Epoch 3/5\n",
            "69/69 [==============================] - 10s 149ms/step - loss: 0.4490 - accuracy: 0.8567 - val_loss: 0.5499 - val_accuracy: 0.8097\n",
            "Epoch 4/5\n",
            "69/69 [==============================] - 10s 151ms/step - loss: 0.4061 - accuracy: 0.8726 - val_loss: 0.5666 - val_accuracy: 0.8045\n",
            "Epoch 5/5\n",
            "69/69 [==============================] - 10s 143ms/step - loss: 0.3823 - accuracy: 0.8875 - val_loss: 0.5659 - val_accuracy: 0.8110\n"
          ],
          "name": "stdout"
        }
      ]
    },
    {
      "cell_type": "code",
      "metadata": {
        "id": "c8P9BTgN0sOa",
        "colab": {
          "base_uri": "https://localhost:8080/",
          "height": 573
        },
        "outputId": "547e8426-8670-4ffd-a953-b79ff0689ad7"
      },
      "source": [
        "# Plotar métricas\n",
        "plot_graphs(qrnn_att_history, \"QRNN Attention\")"
      ],
      "execution_count": null,
      "outputs": [
        {
          "output_type": "display_data",
          "data": {
            "image/png": "[encoded data removed]",
            "text/plain": [
              "<Figure size 432x288 with 1 Axes>"
            ]
          },
          "metadata": {
            "tags": [],
            "needs_background": "light"
          }
        },
        {
          "output_type": "display_data",
          "data": {
            "image/png": "[encoded data removed]",
            "text/plain": [
              "<Figure size 432x288 with 1 Axes>"
            ]
          },
          "metadata": {
            "tags": [],
            "needs_background": "light"
          }
        }
      ]
    }
  ]
}