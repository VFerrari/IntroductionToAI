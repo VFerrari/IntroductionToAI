{
  "nbformat": 4,
  "nbformat_minor": 0,
  "metadata": {
    "colab": {
      "name": "Recurrent Neural Networks",
      "provenance": [],
      "collapsed_sections": []
    },
    "kernelspec": {
      "name": "python3",
      "display_name": "Python 3"
    },
    "accelerator": "GPU"
  },
  "cells": [
    {
      "cell_type": "markdown",
      "metadata": {
        "id": "ssW86Xle1WRH"
      },
      "source": [
        "# **[MC906] Projeto Final**: Detecção de Desastres\n",
        "\n",
        "O objetivo desse projeto é construir e avaliar modelos de aprendizado de máquina que classifiquem quais Tweets são sobre desastres reais e quais não são.\n",
        "\n",
        "## **Acessar Diretório do Projeto**\n",
        "\n",
        "Esse Notebook assume que você está executando o código dentro da pasta `Projeto Final/Código`, que contém todos os códigos fontes relativos a esse trabalho. Para acessar o diretório no Colab é preciso criar um atalho em seu Drive (right click no diretório -> \"Adicionar atalho ao Google Drive\") e executar as células abaixo:"
      ]
    },
    {
      "cell_type": "code",
      "metadata": {
        "id": "K7D_q9xa3yFl",
        "colab": {
          "base_uri": "https://localhost:8080/",
          "height": 126
        },
        "outputId": "05115ba3-577d-46ee-9feb-a8c69b64fd20"
      },
      "source": [
        "# Conectar ao Drive\n",
        "from google.colab import drive\n",
        "drive.mount('/content/drive/', force_remount=True)"
      ],
      "execution_count": null,
      "outputs": [
        {
          "output_type": "stream",
          "text": [
            "Go to this URL in a browser: https://accounts.google.com/o/oauth2/auth?client_id=947318989803-6bn6qk8qdgf4n4g3pfee6491hc0brc4i.apps.googleusercontent.com&redirect_uri=urn%3aietf%3awg%3aoauth%3a2.0%3aoob&response_type=code&scope=email%20https%3a%2f%2fwww.googleapis.com%2fauth%2fdocs.test%20https%3a%2f%2fwww.googleapis.com%2fauth%2fdrive%20https%3a%2f%2fwww.googleapis.com%2fauth%2fdrive.photos.readonly%20https%3a%2f%2fwww.googleapis.com%2fauth%2fpeopleapi.readonly\n",
            "\n",
            "Enter your authorization code:\n",
            "··········\n",
            "Mounted at /content/drive/\n"
          ],
          "name": "stdout"
        }
      ]
    },
    {
      "cell_type": "code",
      "metadata": {
        "id": "0ntsLI4g373U",
        "colab": {
          "base_uri": "https://localhost:8080/",
          "height": 142
        },
        "outputId": "8e7d2ed7-f340-4e6e-b5c1-996d84db3886"
      },
      "source": [
        "# Diretório do Projeto (/content/drive/My Drive/{path até Projeto Final/Código}), \n",
        "# dependendo da onde se localiza o atalho no seu Drive\n",
        "% cd '/content/drive/My Drive/[MC906] Introdução à Inteligência Artificial/Projeto Final/Código'\n",
        "! ls"
      ],
      "execution_count": null,
      "outputs": [
        {
          "output_type": "stream",
          "text": [
            "/content/drive/.shortcut-targets-by-id/1HmHC25ZqX3hUlCsRT-S0qiSsjwf10jLn/[MC906] Introdução à Inteligência Artificial/Projeto Final/Código\n",
            "'Attention CNN'\t\t\t Modelos\n",
            " BERT\t\t\t\t __pycache__\n",
            "'Convolutional Neural Network'\t'Quasi-Recurrent Networks'\n",
            "'Dense Neural Networks'\t\t'Recurrent Neural Networks'\n",
            "'Logistic Regression'\t\t tokenization.py\n",
            "'Melhor Pré-Processamento'\t utils.py\n"
          ],
          "name": "stdout"
        }
      ]
    },
    {
      "cell_type": "markdown",
      "metadata": {
        "id": "ei0LDALj5Rpl"
      },
      "source": [
        "## **Dependências:**"
      ]
    },
    {
      "cell_type": "code",
      "metadata": {
        "id": "fMqgCbulHnWZ",
        "colab": {
          "base_uri": "https://localhost:8080/",
          "height": 124
        },
        "outputId": "d7a9f566-1e75-46b2-ce58-58129240d597"
      },
      "source": [
        "# Imports de pacotes instalados\n",
        "from os.path import join, exists\n",
        "import pandas as pd\n",
        "import numpy as np\n",
        "import matplotlib.pyplot as plt\n",
        "from tensorflow.keras.layers import LSTM, Activation,GlobalAveragePooling1D, Dense, Input, Embedding, Bidirectional, concatenate, GlobalMaxPooling1D\n",
        "from tensorflow.keras.models import Model, load_model\n",
        "from tensorflow.keras.optimizers import Adam\n",
        "from tensorflow.keras.preprocessing.sequence import pad_sequences\n",
        "from tensorflow.keras.preprocessing.text import Tokenizer\n",
        "from tensorflow.keras.callbacks import ModelCheckpoint\n",
        "\n",
        "# Imports locais\n",
        "from utils import *"
      ],
      "execution_count": null,
      "outputs": [
        {
          "output_type": "stream",
          "text": [
            "[nltk_data] Downloading package punkt to /root/nltk_data...\n",
            "[nltk_data]   Unzipping tokenizers/punkt.zip.\n",
            "[nltk_data] Downloading package stopwords to /root/nltk_data...\n",
            "[nltk_data]   Unzipping corpora/stopwords.zip.\n",
            "[nltk_data] Downloading package wordnet to /root/nltk_data...\n",
            "[nltk_data]   Unzipping corpora/wordnet.zip.\n"
          ],
          "name": "stdout"
        }
      ]
    },
    {
      "cell_type": "markdown",
      "metadata": {
        "id": "nPAVJ5i98MSR"
      },
      "source": [
        "## **Dataset:**\n",
        "\n",
        "Utilizamos um *dataset* disponível no site [Kaggle](https://www.kaggle.com/c/nlp-getting-started/data) (em inglês). Cada tweet apresenta três atributos: seu conteúdo (`text`), uma palavra-chave (`keyword`, opcional) e a localização da onde foi enviado (`location`, opcional). Como só usaremos o texto, removemos os dois últimos."
      ]
    },
    {
      "cell_type": "code",
      "metadata": {
        "id": "l0qHVW2tH4d9",
        "colab": {
          "base_uri": "https://localhost:8080/",
          "height": 196
        },
        "outputId": "5556c0d9-a0c0-4c65-ad6d-d0668a9d6e86"
      },
      "source": [
        "# Ler e limpar dados (removendo colunas do id, keyword e location)\n",
        "train = pd.read_csv(\"../Dataset/train.csv\")\n",
        "train = train.drop(['id','keyword','location'], axis=1)\n",
        "\n",
        "# Imprimir alguns dados\n",
        "print(train.head())\n",
        "vals = train.groupby('target').count()\n",
        "print(\"\\nSome General insights:\")\n",
        "print(f\"Figure of Speech: {vals.iloc[0]['text']*100/len(train):.2f}%\")\n",
        "print(f\"Actual Accidents: {vals.iloc[1]['text']*100/len(train):.2f}%\")"
      ],
      "execution_count": null,
      "outputs": [
        {
          "output_type": "stream",
          "text": [
            "                                                text  target\n",
            "0  Our Deeds are the Reason of this #earthquake M...       1\n",
            "1             Forest fire near La Ronge Sask. Canada       1\n",
            "2  All residents asked to 'shelter in place' are ...       1\n",
            "3  13,000 people receive #wildfires evacuation or...       1\n",
            "4  Just got sent this photo from Ruby #Alaska as ...       1\n",
            "\n",
            "Some General insights:\n",
            "Figure of Speech: 57.03%\n",
            "Actual Accidents: 42.97%\n"
          ],
          "name": "stdout"
        }
      ]
    },
    {
      "cell_type": "markdown",
      "metadata": {
        "id": "NjbLji1w7FI5"
      },
      "source": [
        "## **Modelo**: Redes Recorrentes\n",
        "\n",
        "As redes recorrentes possuem uma memória interna e são capazes de processar uma sequência de entradas em ordem, podendo prever, por exemplo, qual seria a próxima palavra adequada em uma sentença. Por este motivo optamos por analisar o impacto da utilização de RNNs no problema de detecção de desastres, pois, de acordo com a sequência das palavras nos tweets, preservamos mais informação, o que pode ajudar a identificar se o tweet é sobre um desastre ou não.  "
      ]
    },
    {
      "cell_type": "markdown",
      "metadata": {
        "id": "h0Hp6wZF8u-r"
      },
      "source": [
        "### **Modelo 1:** Redes Recorrentes com Pré-Processamento Simples"
      ]
    },
    {
      "cell_type": "markdown",
      "metadata": {
        "id": "QKA1DEyn8W9I"
      },
      "source": [
        "Primeiro, fizemos pré-processamento textual do dataset através de uma simples *Tokenização*, separando as frases em tokens/palavras e pontuações. Neste caso, como estamos lidando com RNNs, também precisamos fazer o *padding* das entradas."
      ]
    },
    {
      "cell_type": "code",
      "metadata": {
        "id": "xQATSWoxEdqc",
        "colab": {
          "base_uri": "https://localhost:8080/",
          "height": 106
        },
        "outputId": "46a8b62c-4da1-4163-ff7b-47a13819ef9e"
      },
      "source": [
        "# Aplicar tokenização\n",
        "max_words = 20000\n",
        "max_length = 50\n",
        "tokenizer = Tokenizer(num_words=max_words)\n",
        "tokenizer.fit_on_texts(train.text)\n",
        "X = tokenizer.texts_to_sequences(train.text)\n",
        "print(X[1])\n",
        "X = pad_sequences(X, maxlen=max_length)\n",
        "print(X[1])\n",
        "\n",
        "# Salvar array de targets\n",
        "Y = np.array([[x] for x in train.target.tolist()])"
      ],
      "execution_count": null,
      "outputs": [
        {
          "output_type": "stream",
          "text": [
            "[188, 46, 226, 797, 6969, 6970, 1399]\n",
            "[   0    0    0    0    0    0    0    0    0    0    0    0    0    0\n",
            "    0    0    0    0    0    0    0    0    0    0    0    0    0    0\n",
            "    0    0    0    0    0    0    0    0    0    0    0    0    0    0\n",
            "    0  188   46  226  797 6969 6970 1399]\n"
          ],
          "name": "stdout"
        }
      ]
    },
    {
      "cell_type": "code",
      "metadata": {
        "id": "6PxrPqR5Os26"
      },
      "source": [
        "embed_dim = 150\n",
        "lstm_out = 128\n",
        "\n",
        "def RNN_network(max_words = max_words, max_len = X.shape[1]):\n",
        "  ''' Função que constrói o modelo RNN. '''\n",
        "\n",
        "  inputs = Input(name='inputs',shape=[max_len])\n",
        "  layer = Embedding(max_words,embed_dim,input_length=max_len, name='embedding')(inputs)\n",
        "  layer = Bidirectional(LSTM(lstm_out, return_sequences=False, name='LSTM'))(layer)\n",
        "  layer = Dense(1,name='out_layer')(layer)\n",
        "  layer = Activation('sigmoid')(layer)\n",
        "  model = Model(inputs=inputs,outputs=layer)\n",
        "  return model"
      ],
      "execution_count": null,
      "outputs": []
    },
    {
      "cell_type": "code",
      "metadata": {
        "id": "lNzmJuqXO0jx",
        "colab": {
          "base_uri": "https://localhost:8080/",
          "height": 319
        },
        "outputId": "e64d92bb-4933-49b4-9060-6c980db3c4de"
      },
      "source": [
        "# Criar e compilar modelo\n",
        "recurrent_network = RNN_network()\n",
        "recurrent_network.summary()\n",
        "recurrent_network.compile(loss='binary_crossentropy',optimizer='adam',metrics=['accuracy'])"
      ],
      "execution_count": null,
      "outputs": [
        {
          "output_type": "stream",
          "text": [
            "Model: \"functional_1\"\n",
            "_________________________________________________________________\n",
            "Layer (type)                 Output Shape              Param #   \n",
            "=================================================================\n",
            "inputs (InputLayer)          [(None, 50)]              0         \n",
            "_________________________________________________________________\n",
            "embedding (Embedding)        (None, 50, 150)           3000000   \n",
            "_________________________________________________________________\n",
            "bidirectional (Bidirectional (None, 256)               285696    \n",
            "_________________________________________________________________\n",
            "out_layer (Dense)            (None, 1)                 257       \n",
            "_________________________________________________________________\n",
            "activation (Activation)      (None, 1)                 0         \n",
            "=================================================================\n",
            "Total params: 3,285,953\n",
            "Trainable params: 3,285,953\n",
            "Non-trainable params: 0\n",
            "_________________________________________________________________\n"
          ],
          "name": "stdout"
        }
      ]
    },
    {
      "cell_type": "code",
      "metadata": {
        "id": "VmzBnDrxVuCz",
        "colab": {
          "base_uri": "https://localhost:8080/",
          "height": 373
        },
        "outputId": "a43b5e77-d504-42c7-8b11-9504bcff5620"
      },
      "source": [
        "# Treinar no dataset pré-processado\n",
        "callbacks = [ModelCheckpoint(monitor='val_loss', filepath='./Modelos/best_model_RNN.h5', save_best_only=True)]\n",
        "rnn_history = recurrent_network.fit(X,Y,batch_size=32,epochs=10, validation_split=0.1, callbacks=callbacks)\n",
        "\n",
        "# Carregar modelo\n",
        "if exists('./Modelos/best_model_RNN.h5'):\n",
        "    recurrent_network = load_model('./Modelos/best_model_RNN.h5')"
      ],
      "execution_count": null,
      "outputs": [
        {
          "output_type": "stream",
          "text": [
            "Epoch 1/10\n",
            "215/215 [==============================] - 15s 69ms/step - loss: 0.5172 - accuracy: 0.7419 - val_loss: 0.4521 - val_accuracy: 0.7940\n",
            "Epoch 2/10\n",
            "215/215 [==============================] - 14s 64ms/step - loss: 0.2774 - accuracy: 0.8918 - val_loss: 0.4669 - val_accuracy: 0.7861\n",
            "Epoch 3/10\n",
            "215/215 [==============================] - 13s 62ms/step - loss: 0.1331 - accuracy: 0.9523 - val_loss: 0.5451 - val_accuracy: 0.7913\n",
            "Epoch 4/10\n",
            "215/215 [==============================] - 14s 63ms/step - loss: 0.0651 - accuracy: 0.9762 - val_loss: 0.6363 - val_accuracy: 0.7717\n",
            "Epoch 5/10\n",
            "215/215 [==============================] - 14s 63ms/step - loss: 0.0373 - accuracy: 0.9880 - val_loss: 0.6438 - val_accuracy: 0.7782\n",
            "Epoch 6/10\n",
            "215/215 [==============================] - 13s 62ms/step - loss: 0.0247 - accuracy: 0.9902 - val_loss: 0.8265 - val_accuracy: 0.7507\n",
            "Epoch 7/10\n",
            "215/215 [==============================] - 13s 61ms/step - loss: 0.0302 - accuracy: 0.9899 - val_loss: 0.8021 - val_accuracy: 0.7638\n",
            "Epoch 8/10\n",
            "215/215 [==============================] - 13s 61ms/step - loss: 0.0196 - accuracy: 0.9914 - val_loss: 0.9825 - val_accuracy: 0.7283\n",
            "Epoch 9/10\n",
            "215/215 [==============================] - 13s 61ms/step - loss: 0.0176 - accuracy: 0.9926 - val_loss: 0.9563 - val_accuracy: 0.7703\n",
            "Epoch 10/10\n",
            "215/215 [==============================] - 13s 62ms/step - loss: 0.0152 - accuracy: 0.9927 - val_loss: 0.8555 - val_accuracy: 0.7625\n"
          ],
          "name": "stdout"
        }
      ]
    },
    {
      "cell_type": "code",
      "metadata": {
        "id": "qh-n3K_r-hk-",
        "colab": {
          "base_uri": "https://localhost:8080/",
          "height": 573
        },
        "outputId": "25d855d2-99db-4337-d42f-3a7b4c8adefa"
      },
      "source": [
        "# Plotar métricas\n",
        "plot_graphs(rnn_history,\"RNN\")"
      ],
      "execution_count": null,
      "outputs": [
        {
          "output_type": "display_data",
          "data": {
            "image/png": "[encoded data removed]",
            "text/plain": [
              "<Figure size 432x288 with 1 Axes>"
            ]
          },
          "metadata": {
            "tags": [],
            "needs_background": "light"
          }
        },
        {
          "output_type": "display_data",
          "data": {
            "image/png": "[encoded data removed]",
            "text/plain": [
              "<Figure size 432x288 with 1 Axes>"
            ]
          },
          "metadata": {
            "tags": [],
            "needs_background": "light"
          }
        }
      ]
    },
    {
      "cell_type": "markdown",
      "metadata": {
        "id": "gsGaT1X7rBMl"
      },
      "source": [
        "### **Modelo 2:** Redes Recorrentes usando Pooling"
      ]
    },
    {
      "cell_type": "code",
      "metadata": {
        "id": "DtottitqrAP0"
      },
      "source": [
        "def RNN_pooling(max_words = max_words, max_len = X.shape[1]):\n",
        "  ''' Função que constrói modelo RNN com pooling. '''\n",
        "\n",
        "  inputs = Input(name='inputs',shape=[max_len])\n",
        "  layer = Embedding(max_words, 300, input_length=50)(inputs)\n",
        "  layer = Bidirectional(LSTM(lstm_out, return_sequences=True, name='LSTM'))(layer)\n",
        "  avg_pool = GlobalAveragePooling1D()(layer)\n",
        "  max_pool = GlobalMaxPooling1D()(layer)\n",
        "  conc = concatenate([avg_pool, max_pool])\n",
        "  layer = Dense(1,name='out_layer')(conc)\n",
        "  layer = Activation('sigmoid')(layer)\n",
        "  model_pooling = Model(inputs=inputs,outputs=layer)\n",
        "  return model_pooling"
      ],
      "execution_count": null,
      "outputs": []
    },
    {
      "cell_type": "code",
      "metadata": {
        "id": "M8-KBv12rifH",
        "colab": {
          "base_uri": "https://localhost:8080/",
          "height": 464
        },
        "outputId": "7b7e0168-e389-4e96-e2f3-4f34f13ba2ae"
      },
      "source": [
        "# Construir e compilar modelo\n",
        "RNN_pooling = RNN_pooling()\n",
        "RNN_pooling.summary()\n",
        "RNN_pooling.compile(loss='binary_crossentropy', optimizer='adam', metrics=['accuracy'])"
      ],
      "execution_count": null,
      "outputs": [
        {
          "output_type": "stream",
          "text": [
            "Model: \"functional_3\"\n",
            "__________________________________________________________________________________________________\n",
            "Layer (type)                    Output Shape         Param #     Connected to                     \n",
            "==================================================================================================\n",
            "inputs (InputLayer)             [(None, 50)]         0                                            \n",
            "__________________________________________________________________________________________________\n",
            "embedding_2 (Embedding)         (None, 50, 300)      6000000     inputs[0][0]                     \n",
            "__________________________________________________________________________________________________\n",
            "bidirectional_1 (Bidirectional) (None, 50, 256)      439296      embedding_2[0][0]                \n",
            "__________________________________________________________________________________________________\n",
            "global_average_pooling1d_1 (Glo (None, 256)          0           bidirectional_1[0][0]            \n",
            "__________________________________________________________________________________________________\n",
            "global_max_pooling1d_1 (GlobalM (None, 256)          0           bidirectional_1[0][0]            \n",
            "__________________________________________________________________________________________________\n",
            "concatenate_1 (Concatenate)     (None, 512)          0           global_average_pooling1d_1[0][0] \n",
            "                                                                 global_max_pooling1d_1[0][0]     \n",
            "__________________________________________________________________________________________________\n",
            "out_layer (Dense)               (None, 1)            513         concatenate_1[0][0]              \n",
            "__________________________________________________________________________________________________\n",
            "activation_1 (Activation)       (None, 1)            0           out_layer[0][0]                  \n",
            "==================================================================================================\n",
            "Total params: 6,439,809\n",
            "Trainable params: 6,439,809\n",
            "Non-trainable params: 0\n",
            "__________________________________________________________________________________________________\n"
          ],
          "name": "stdout"
        }
      ]
    },
    {
      "cell_type": "code",
      "metadata": {
        "id": "6F41xLy1roAS",
        "colab": {
          "base_uri": "https://localhost:8080/",
          "height": 374
        },
        "outputId": "9be97b53-2375-4d29-a744-cad4602075a9"
      },
      "source": [
        "# Treinar no dataset pré-processado\n",
        "callbacks = [ModelCheckpoint(monitor='val_loss', filepath='./Modelos/best_model_RNN_pool.h5', save_best_only=True)]\n",
        "RNN_pooling_history = RNN_pooling.fit(X,Y,batch_size=32,epochs=10, validation_split=0.1, callbacks=callbacks)\n",
        "\n",
        "# Carregar modelo\n",
        "if exists('./Modelos/best_model_RNN_pool.h5'):\n",
        "    RNN_pooling = load_model('./Modelos/best_model_RNN_pool.h5')"
      ],
      "execution_count": null,
      "outputs": [
        {
          "output_type": "stream",
          "text": [
            "Epoch 1/10\n",
            "215/215 [==============================] - 16s 73ms/step - loss: 0.5120 - accuracy: 0.7546 - val_loss: 0.4390 - val_accuracy: 0.7979\n",
            "Epoch 2/10\n",
            "215/215 [==============================] - 14s 67ms/step - loss: 0.2601 - accuracy: 0.8997 - val_loss: 0.4949 - val_accuracy: 0.7874\n",
            "Epoch 3/10\n",
            "215/215 [==============================] - 14s 66ms/step - loss: 0.1218 - accuracy: 0.9580 - val_loss: 0.5992 - val_accuracy: 0.7730\n",
            "Epoch 4/10\n",
            "215/215 [==============================] - 14s 65ms/step - loss: 0.0647 - accuracy: 0.9794 - val_loss: 0.7325 - val_accuracy: 0.7546\n",
            "Epoch 5/10\n",
            "215/215 [==============================] - 14s 64ms/step - loss: 0.0351 - accuracy: 0.9885 - val_loss: 0.8095 - val_accuracy: 0.7598\n",
            "Epoch 6/10\n",
            "215/215 [==============================] - 14s 64ms/step - loss: 0.0216 - accuracy: 0.9918 - val_loss: 0.9187 - val_accuracy: 0.7625\n",
            "Epoch 7/10\n",
            "215/215 [==============================] - 14s 64ms/step - loss: 0.0168 - accuracy: 0.9923 - val_loss: 1.0411 - val_accuracy: 0.7677\n",
            "Epoch 8/10\n",
            "215/215 [==============================] - 14s 64ms/step - loss: 0.0155 - accuracy: 0.9923 - val_loss: 1.2408 - val_accuracy: 0.7415\n",
            "Epoch 9/10\n",
            "215/215 [==============================] - 14s 65ms/step - loss: 0.0174 - accuracy: 0.9926 - val_loss: 1.0844 - val_accuracy: 0.7625\n",
            "Epoch 10/10\n",
            "181/215 [========================>.....] - ETA: 2s - loss: 0.0158 - accuracy: 0.9943"
          ],
          "name": "stdout"
        }
      ]
    },
    {
      "cell_type": "code",
      "metadata": {
        "id": "NpxdUPYursyJ"
      },
      "source": [
        "# Plotar métricas\n",
        "plot_graphs(RNN_pooling_history, \"RNN Pooling\")"
      ],
      "execution_count": null,
      "outputs": []
    },
    {
      "cell_type": "markdown",
      "metadata": {
        "id": "QRGxX4jyZHC7"
      },
      "source": [
        "### **Modelo 3:** Redes Recorrentes usando GloVe\n",
        "\n",
        "*Global Vectors for Word Representation*, ou GloVe, é um algoritmo de aprendizado não-supervisionado com o objetivo de obter representações vetoriais para palavras, proposto em 2014. O algoritmo mapeia as palavras no espaço, tal que a distância e a semelhança semântica entre elas é proporcional.\n",
        "\n",
        "Utilizamos sua representação de palavras para nosso conjunto de dados e seus pesos pré-treinados na camada de Embedding da rede, mais especificamente o arquivo *glove.840B.300d.txt*."
      ]
    },
    {
      "cell_type": "code",
      "metadata": {
        "id": "MOOR3qfxZF3s"
      },
      "source": [
        "# Preparar incorporação de palavras\n",
        "import numpy as np\n",
        "embeddings_index = dict()\n",
        "f = open('../Glove/glove.840B.300d.txt')\n",
        "for line in f:\n",
        "    values = line.split()\n",
        "    word = values[0]\n",
        "    try:\n",
        "      float(values[1])\n",
        "    except ValueError:\n",
        "      continue\n",
        "    coefs = np.asarray(values[1:], dtype='float32')\n",
        "    embeddings_index[word] = coefs\n",
        "f.close()"
      ],
      "execution_count": null,
      "outputs": []
    },
    {
      "cell_type": "code",
      "metadata": {
        "id": "VCp-E9ZrdP83"
      },
      "source": [
        "# Construir matriz de incorporação\n",
        "embedding_matrix = np.zeros((max_words, 300))\n",
        "for word, index in tokenizer.word_index.items():\n",
        "    if index > max_words - 1:\n",
        "        break\n",
        "    else:\n",
        "        embedding_vector = embeddings_index.get(word)\n",
        "        if embedding_vector is not None:\n",
        "            embedding_matrix[index] = embedding_vector"
      ],
      "execution_count": null,
      "outputs": []
    },
    {
      "cell_type": "code",
      "metadata": {
        "id": "yXSlIH1ah9ZM"
      },
      "source": [
        "def RNN_glove(max_words = max_words, max_len = X.shape[1]):\n",
        "  ''' Função que constrói modelo RNN usando Glove. '''\n",
        "  \n",
        "  inputs = Input(name='inputs',shape=[max_len])\n",
        "  layer = Embedding(max_words, 300, input_length=50, weights=[embedding_matrix], trainable=False)(inputs)\n",
        "  layer = Bidirectional(LSTM(lstm_out, return_sequences=True, name='LSTM'))(layer)\n",
        "  avg_pool = GlobalAveragePooling1D()(layer)\n",
        "  max_pool = GlobalMaxPooling1D()(layer)\n",
        "  conc = concatenate([avg_pool, max_pool])\n",
        "  layer = Dense(1,name='out_layer')(conc)\n",
        "  layer = Activation('sigmoid')(layer)\n",
        "  model_glove = Model(inputs=inputs,outputs=layer)\n",
        "  return model_glove"
      ],
      "execution_count": null,
      "outputs": []
    },
    {
      "cell_type": "code",
      "metadata": {
        "id": "rkA6lK9z_njK",
        "colab": {
          "base_uri": "https://localhost:8080/",
          "height": 457
        },
        "outputId": "f5abe22b-8843-4bda-fe84-e2119f9b020b"
      },
      "source": [
        "# Construir e compilar modelo\n",
        "RNN_glove = RNN_glove()\n",
        "RNN_glove.summary()\n",
        "RNN_glove.compile(loss='binary_crossentropy', optimizer='adam', metrics=['accuracy'])"
      ],
      "execution_count": null,
      "outputs": [
        {
          "output_type": "stream",
          "text": [
            "Model: \"functional_5\"\n",
            "__________________________________________________________________________________________________\n",
            "Layer (type)                    Output Shape         Param #     Connected to                     \n",
            "==================================================================================================\n",
            "inputs (InputLayer)             [(None, 50)]         0                                            \n",
            "__________________________________________________________________________________________________\n",
            "embedding_1 (Embedding)         (None, 50, 300)      6000000     inputs[0][0]                     \n",
            "__________________________________________________________________________________________________\n",
            "bidirectional_2 (Bidirectional) (None, 50, 256)      439296      embedding_1[0][0]                \n",
            "__________________________________________________________________________________________________\n",
            "global_average_pooling1d (Globa (None, 256)          0           bidirectional_2[0][0]            \n",
            "__________________________________________________________________________________________________\n",
            "global_max_pooling1d (GlobalMax (None, 256)          0           bidirectional_2[0][0]            \n",
            "__________________________________________________________________________________________________\n",
            "concatenate (Concatenate)       (None, 512)          0           global_average_pooling1d[0][0]   \n",
            "                                                                 global_max_pooling1d[0][0]       \n",
            "__________________________________________________________________________________________________\n",
            "out_layer (Dense)               (None, 1)            513         concatenate[0][0]                \n",
            "__________________________________________________________________________________________________\n",
            "activation_2 (Activation)       (None, 1)            0           out_layer[0][0]                  \n",
            "==================================================================================================\n",
            "Total params: 6,439,809\n",
            "Trainable params: 439,809\n",
            "Non-trainable params: 6,000,000\n",
            "__________________________________________________________________________________________________\n"
          ],
          "name": "stdout"
        }
      ]
    },
    {
      "cell_type": "code",
      "metadata": {
        "id": "EricbaGhXAjq",
        "colab": {
          "base_uri": "https://localhost:8080/",
          "height": 373
        },
        "outputId": "e63ed83f-9892-4e0e-e8bd-1e89052f4b0f"
      },
      "source": [
        "# Treinar no dataset pré-processado\n",
        "callbacks = [ModelCheckpoint(monitor='val_loss', filepath='./Modelos/best_model_RNN_glove.h5', save_best_only=True)]\n",
        "RNN_glove_history = RNN_glove.fit(X,Y,batch_size=32,epochs=10, validation_split=0.1, callbacks=callbacks)\n",
        "\n",
        "# Carregar modelo\n",
        "if exists('./Modelos/best_model_RNN_glove.h5'):\n",
        "    RNN_glove = load_model('./Modelos/best_model_RNN_glove.h5')"
      ],
      "execution_count": null,
      "outputs": [
        {
          "output_type": "stream",
          "text": [
            "Epoch 1/10\n",
            "215/215 [==============================] - 8s 38ms/step - loss: 0.4554 - accuracy: 0.7948 - val_loss: 0.4317 - val_accuracy: 0.8071\n",
            "Epoch 2/10\n",
            "215/215 [==============================] - 7s 33ms/step - loss: 0.3884 - accuracy: 0.8310 - val_loss: 0.4364 - val_accuracy: 0.7979\n",
            "Epoch 3/10\n",
            "215/215 [==============================] - 8s 36ms/step - loss: 0.3572 - accuracy: 0.8494 - val_loss: 0.4304 - val_accuracy: 0.8058\n",
            "Epoch 4/10\n",
            "215/215 [==============================] - 7s 33ms/step - loss: 0.3207 - accuracy: 0.8626 - val_loss: 0.4539 - val_accuracy: 0.7953\n",
            "Epoch 5/10\n",
            "215/215 [==============================] - 7s 33ms/step - loss: 0.2800 - accuracy: 0.8898 - val_loss: 0.4792 - val_accuracy: 0.7795\n",
            "Epoch 6/10\n",
            "215/215 [==============================] - 7s 33ms/step - loss: 0.2390 - accuracy: 0.9048 - val_loss: 0.5000 - val_accuracy: 0.7979\n",
            "Epoch 7/10\n",
            "215/215 [==============================] - 7s 33ms/step - loss: 0.1957 - accuracy: 0.9279 - val_loss: 0.5173 - val_accuracy: 0.7769\n",
            "Epoch 8/10\n",
            "215/215 [==============================] - 7s 33ms/step - loss: 0.1597 - accuracy: 0.9435 - val_loss: 0.6149 - val_accuracy: 0.7848\n",
            "Epoch 9/10\n",
            "215/215 [==============================] - 7s 33ms/step - loss: 0.1415 - accuracy: 0.9504 - val_loss: 0.5523 - val_accuracy: 0.7848\n",
            "Epoch 10/10\n",
            "215/215 [==============================] - 7s 33ms/step - loss: 0.1184 - accuracy: 0.9581 - val_loss: 0.6311 - val_accuracy: 0.7795\n"
          ],
          "name": "stdout"
        }
      ]
    },
    {
      "cell_type": "code",
      "metadata": {
        "id": "xcitaebf_xTt",
        "colab": {
          "base_uri": "https://localhost:8080/",
          "height": 573
        },
        "outputId": "5afdf3bb-d9f5-4b0e-dab3-a4525b12d3e2"
      },
      "source": [
        "# Plotar métricas\n",
        "plot_graphs(RNN_glove_history, \"RNN GloVe\")"
      ],
      "execution_count": null,
      "outputs": [
        {
          "output_type": "display_data",
          "data": {
            "image/png": "[encoded data removed]",
            "text/plain": [
              "<Figure size 432x288 with 1 Axes>"
            ]
          },
          "metadata": {
            "tags": [],
            "needs_background": "light"
          }
        },
        {
          "output_type": "display_data",
          "data": {
            "image/png": "[encoded data removed]",
            "text/plain": [
              "<Figure size 432x288 with 1 Axes>"
            ]
          },
          "metadata": {
            "tags": [],
            "needs_background": "light"
          }
        }
      ]
    }
  ]
}