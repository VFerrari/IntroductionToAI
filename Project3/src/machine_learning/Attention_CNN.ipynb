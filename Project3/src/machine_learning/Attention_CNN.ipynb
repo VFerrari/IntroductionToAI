{
  "nbformat": 4,
  "nbformat_minor": 0,
  "metadata": {
    "colab": {
      "name": "Attention CNN",
      "provenance": [],
      "collapsed_sections": []
    },
    "kernelspec": {
      "name": "python3",
      "display_name": "Python 3"
    }
  },
  "cells": [
    {
      "cell_type": "markdown",
      "metadata": {
        "id": "W730qo3tI8ir"
      },
      "source": [
        "# **[MC906] Projeto Final**: Detecção de Desastres\n",
        "\n",
        "O objetivo desse projeto é construir e avaliar modelos de aprendizado de máquina que classifiquem quais Tweets são sobre desastres reais e quais não são.\n",
        "\n",
        "## **Acessar Diretório do Projeto**\n",
        "\n",
        "Esse Notebook assume que você está executando o código dentro da pasta `Projeto Final/Código`, que contém todos os códigos fontes relativos a esse trabalho. Para acessar o diretório no Colab é preciso criar um atalho em seu Drive (right click no diretório -> \"Adicionar atalho ao Google Drive\") e executar as células abaixo:"
      ]
    },
    {
      "cell_type": "code",
      "metadata": {
        "id": "QtgPJ_DEKIXH",
        "colab": {
          "base_uri": "https://localhost:8080/",
          "height": 121
        },
        "outputId": "9056bb4f-a2a3-48dc-b30e-94ac7680e9da"
      },
      "source": [
        "# Conectar ao Drive\n",
        "from google.colab import drive\n",
        "drive.mount('/content/drive/', force_remount=True)"
      ],
      "execution_count": null,
      "outputs": [
        {
          "output_type": "stream",
          "text": [
            "Go to this URL in a browser: https://accounts.google.com/o/oauth2/auth?client_id=947318989803-6bn6qk8qdgf4n4g3pfee6491hc0brc4i.apps.googleusercontent.com&redirect_uri=urn%3aietf%3awg%3aoauth%3a2.0%3aoob&response_type=code&scope=email%20https%3a%2f%2fwww.googleapis.com%2fauth%2fdocs.test%20https%3a%2f%2fwww.googleapis.com%2fauth%2fdrive%20https%3a%2f%2fwww.googleapis.com%2fauth%2fdrive.photos.readonly%20https%3a%2f%2fwww.googleapis.com%2fauth%2fpeopleapi.readonly\n",
            "\n",
            "Enter your authorization code:\n",
            "··········\n",
            "Mounted at /content/drive/\n"
          ],
          "name": "stdout"
        }
      ]
    },
    {
      "cell_type": "code",
      "metadata": {
        "id": "wjaZdrDzKLuH",
        "colab": {
          "base_uri": "https://localhost:8080/",
          "height": 134
        },
        "outputId": "5a73f5bc-daa9-4a82-9dc5-439beb4b6a48"
      },
      "source": [
        "# Diretório do Projeto (/content/drive/My Drive/{path até Projeto Final/Código}), \n",
        "# dependendo da onde se localiza o atalho no seu Drive\n",
        "% cd '/content/drive/My Drive/[MC906] Introdução à Inteligência Artificial/Projeto Final/Código'\n",
        "! ls"
      ],
      "execution_count": null,
      "outputs": [
        {
          "output_type": "stream",
          "text": [
            "/content/drive/My Drive/[MC906] Introdução à Inteligência Artificial/Projeto Final\n",
            "'Copy of Attention CNN'\t\t     Glove\n",
            "'Copy of authors.txt'\t\t     __pycache__\n",
            "'Copy of Quasi-Recurrent Networks'  'Recurrent Neural Networks'\n",
            "'Copy of requirements.txt'\t     Relatório\n",
            " Dataset\t\t\t     utils.py\n",
            "'Dense Neural Networks'\n"
          ],
          "name": "stdout"
        }
      ]
    },
    {
      "cell_type": "markdown",
      "metadata": {
        "id": "E108nSAZJY2O"
      },
      "source": [
        "## **Dependências:**\n"
      ]
    },
    {
      "cell_type": "code",
      "metadata": {
        "id": "_lIIQyDhc_Ou",
        "colab": {
          "base_uri": "https://localhost:8080/",
          "height": 118
        },
        "outputId": "1da04008-53c4-47ac-d579-0ce68d2edfb2"
      },
      "source": [
        "# Imports de pacotes instalados\n",
        "import matplotlib.pyplot as plt\n",
        "import numpy as np\n",
        "from os.path import join, exists\n",
        "import pandas as pd\n",
        "from tensorflow.keras.layers import Input, Activation, Dense, Embedding, GlobalMaxPooling1D, Conv1D, Dropout, Attention, concatenate\n",
        "from tensorflow.keras.models import Model, load_model\n",
        "from tensorflow.keras.preprocessing.sequence import pad_sequences\n",
        "from tensorflow.keras.preprocessing.text import Tokenizer\n",
        "from tensorflow.keras.callbacks import ModelCheckpoint\n",
        "\n",
        "# Imports locais\n",
        "from utils import *"
      ],
      "execution_count": null,
      "outputs": [
        {
          "output_type": "stream",
          "text": [
            "[nltk_data] Downloading package punkt to /root/nltk_data...\n",
            "[nltk_data]   Unzipping tokenizers/punkt.zip.\n",
            "[nltk_data] Downloading package stopwords to /root/nltk_data...\n",
            "[nltk_data]   Unzipping corpora/stopwords.zip.\n",
            "[nltk_data] Downloading package wordnet to /root/nltk_data...\n",
            "[nltk_data]   Unzipping corpora/wordnet.zip.\n"
          ],
          "name": "stdout"
        }
      ]
    },
    {
      "cell_type": "markdown",
      "metadata": {
        "id": "p0A_vcT0LF2g"
      },
      "source": [
        "## **Dataset:**\n",
        "\n",
        "Utilizamos um *dataset* disponível no site [Kaggle](https://www.kaggle.com/c/nlp-getting-started/data) (em inglês). Cada tweet apresenta três atributos: seu conteúdo (`text`), uma palavra-chave (`keyword`, opcional) e a localização da onde foi enviado (`location`, opcional). Como só usaremos o texto, removemos os dois últimos."
      ]
    },
    {
      "cell_type": "code",
      "metadata": {
        "id": "rIwYY0OkdCFS",
        "colab": {
          "base_uri": "https://localhost:8080/",
          "height": 185
        },
        "outputId": "4e107ab0-4384-495d-a121-97c1b9db81a9"
      },
      "source": [
        "# Ler e limpar dados (removendo colunas do id, keyword e location)\n",
        "train = pd.read_csv(\"../Dataset/train.csv\", dtype={'id': np.int16, 'target': np.int8})\n",
        "train = train.drop(['id','keyword','location'], axis=1)\n",
        "\n",
        "# Imprimir alguns dados\n",
        "print(train.head())\n",
        "vals = train.groupby('target').count()\n",
        "print(\"\\nSome General insights:\")\n",
        "print(f\"Figure of Speech: {vals.iloc[0]['text']*100/len(train):.2f}%\")\n",
        "print(f\"Actual Accidents: {vals.iloc[1]['text']*100/len(train):.2f}%\")\n",
        "\n",
        "# Salvar targets\n",
        "Y = np.array([[x] for x in train.target.tolist()])"
      ],
      "execution_count": null,
      "outputs": [
        {
          "output_type": "stream",
          "text": [
            "                                                text  target\n",
            "0  Our Deeds are the Reason of this #earthquake M...       1\n",
            "1             Forest fire near La Ronge Sask. Canada       1\n",
            "2  All residents asked to 'shelter in place' are ...       1\n",
            "3  13,000 people receive #wildfires evacuation or...       1\n",
            "4  Just got sent this photo from Ruby #Alaska as ...       1\n",
            "\n",
            "Some General insights:\n",
            "Figure of Speech: 57.03%\n",
            "Actual Accidents: 42.97%\n"
          ],
          "name": "stdout"
        }
      ]
    },
    {
      "cell_type": "markdown",
      "metadata": {
        "id": "lo9_6b_ULK10"
      },
      "source": [
        "## **Pré-Processamento:**\n",
        "\n",
        "*Global Vectors for Word Representation*, ou GloVe, é um algoritmo de aprendizado não-supervisionado com o objetivo de obter representações vetoriais para palavras, proposto em 2014. O algoritmo mapeia as palavras no espaço, tal que a distância e a semelhança semântica entre elas é proporcional.\n",
        "\n",
        "Utilizamos sua representação de palavras para nosso conjunto de dados e seus pesos pré-treinados na camada de Embedding da rede, mais especificamente o arquivo *glove.840B.300d.txt*."
      ]
    },
    {
      "cell_type": "code",
      "metadata": {
        "id": "JQzDbhTPeaSf"
      },
      "source": [
        "# Aplicar tokenização\n",
        "vocabulary_size = 20000\n",
        "tokenizer = Tokenizer(num_words= vocabulary_size)\n",
        "tokenizer.fit_on_texts(train['text'])\n",
        "sequences = tokenizer.texts_to_sequences(train['text'])\n",
        "X = pad_sequences(sequences, maxlen=50)"
      ],
      "execution_count": null,
      "outputs": []
    },
    {
      "cell_type": "code",
      "metadata": {
        "id": "_ZC73SRmdGXh"
      },
      "source": [
        "# Preparar incorporação de palavras\n",
        "embeddings_index = dict()\n",
        "f = open('../Glove/glove.840B.300d.txt')\n",
        "for line in f:\n",
        "    values = line.split()\n",
        "    word = values[0]\n",
        "    try:\n",
        "        float(values[1])\n",
        "    except ValueError:\n",
        "        continue\n",
        "    coefs = np.asarray(values[1:], dtype='float32')\n",
        "    embeddings_index[word] = coefs\n",
        "f.close()"
      ],
      "execution_count": null,
      "outputs": []
    },
    {
      "cell_type": "code",
      "metadata": {
        "id": "rNT8nnhrdZOl"
      },
      "source": [
        "# Construir matriz de incorporação\n",
        "embedding_matrix = np.zeros((vocabulary_size, 300))\n",
        "for word, index in tokenizer.word_index.items():\n",
        "    if index > vocabulary_size - 1:\n",
        "        break\n",
        "    else:\n",
        "        embedding_vector = embeddings_index.get(word)\n",
        "        if embedding_vector is not None:\n",
        "            embedding_matrix[index] = embedding_vector"
      ],
      "execution_count": null,
      "outputs": []
    },
    {
      "cell_type": "markdown",
      "metadata": {
        "id": "OI5wtXHnLM9Q"
      },
      "source": [
        "## **Modelo**: Redes Convolucionais com Atenção\n",
        "\n",
        "Um método alternativo testado foi o de redes convolucionais com mecanismo de atenção para modelar dependências. Empregamos um modelo de auto-atenção *self-attention* no qual os campos de *query* e *value* são iguais.\n",
        "\n",
        "Abaixo, implementamos uma rede convolucional simples usando as camadas *Conv1D*, com 128 filtros, *GlobalMaxPooling1D* e *Attention* da biblioteca *Tensorflow (Keras)*."
      ]
    },
    {
      "cell_type": "code",
      "metadata": {
        "id": "gRw7pLUKjoHK"
      },
      "source": [
        "def att_CNN(max_words=20000, max_len=X.shape[1]):\n",
        "  ''' Função que constrói o modelo CNN com atenção. '''\n",
        "\n",
        "  inputs = Input(name='inputs',shape=[max_len])\n",
        "  layer = Embedding(max_words, 300, input_length=max_len, weights=[embedding_matrix],trainable=False)(inputs)\n",
        "  layer = Conv1D(128, 5)(layer)\n",
        "  layer = Activation('relu')(layer)\n",
        "  self_att = Attention()([layer,layer])\n",
        "  layer_pool = GlobalMaxPooling1D()(layer)\n",
        "  self_pool = GlobalMaxPooling1D()(self_att)\n",
        "  conc = concatenate([layer_pool, self_pool])\n",
        "  layer = Dense(1)(conc)\n",
        "  layer = Activation('sigmoid')(layer)\n",
        "  model = Model(inputs=inputs,outputs=layer)\n",
        "  return model"
      ],
      "execution_count": null,
      "outputs": []
    },
    {
      "cell_type": "code",
      "metadata": {
        "id": "afN8zQIaDiJM",
        "colab": {
          "base_uri": "https://localhost:8080/",
          "height": 521
        },
        "outputId": "ce2bcded-932c-4f1d-8c8b-09a76ef6b992"
      },
      "source": [
        "# Construir e compilar modelo\n",
        "att_cnn = att_CNN()\n",
        "att_cnn.summary()\n",
        "att_cnn.compile(loss='binary_crossentropy',optimizer='adam',metrics=['accuracy'])"
      ],
      "execution_count": null,
      "outputs": [
        {
          "output_type": "stream",
          "text": [
            "Model: \"model_1\"\n",
            "__________________________________________________________________________________________________\n",
            "Layer (type)                    Output Shape         Param #     Connected to                     \n",
            "==================================================================================================\n",
            "inputs (InputLayer)             [(None, 50)]         0                                            \n",
            "__________________________________________________________________________________________________\n",
            "embedding_1 (Embedding)         (None, 50, 300)      6000000     inputs[0][0]                     \n",
            "__________________________________________________________________________________________________\n",
            "conv1d_1 (Conv1D)               (None, 46, 128)      192128      embedding_1[0][0]                \n",
            "__________________________________________________________________________________________________\n",
            "activation_2 (Activation)       (None, 46, 128)      0           conv1d_1[0][0]                   \n",
            "__________________________________________________________________________________________________\n",
            "attention_1 (Attention)         (None, 46, 128)      0           activation_2[0][0]               \n",
            "                                                                 activation_2[0][0]               \n",
            "__________________________________________________________________________________________________\n",
            "global_max_pooling1d_2 (GlobalM (None, 128)          0           activation_2[0][0]               \n",
            "__________________________________________________________________________________________________\n",
            "global_max_pooling1d_3 (GlobalM (None, 128)          0           attention_1[0][0]                \n",
            "__________________________________________________________________________________________________\n",
            "concatenate_1 (Concatenate)     (None, 256)          0           global_max_pooling1d_2[0][0]     \n",
            "                                                                 global_max_pooling1d_3[0][0]     \n",
            "__________________________________________________________________________________________________\n",
            "dense_1 (Dense)                 (None, 1)            257         concatenate_1[0][0]              \n",
            "__________________________________________________________________________________________________\n",
            "activation_3 (Activation)       (None, 1)            0           dense_1[0][0]                    \n",
            "==================================================================================================\n",
            "Total params: 6,192,385\n",
            "Trainable params: 192,385\n",
            "Non-trainable params: 6,000,000\n",
            "__________________________________________________________________________________________________\n"
          ],
          "name": "stdout"
        }
      ]
    },
    {
      "cell_type": "code",
      "metadata": {
        "id": "yVsCza62f9Mx",
        "colab": {
          "base_uri": "https://localhost:8080/",
          "height": 373
        },
        "outputId": "a433d8cb-99d0-4923-ef66-0731db8b227b"
      },
      "source": [
        "# Treinar no dataset pré-processado\n",
        "callbacks = [ModelCheckpoint(monitor='val_loss', filepath='./Modelos/best_model_attention.h5', save_best_only=True)]\n",
        "att_history = att_cnn.fit(X,Y,batch_size=100,epochs=10, validation_split=0.1, callbacks=callbacks)\n",
        "\n",
        "# Carregar modelo\n",
        "if exists('./Modelos/best_model_attention.h5'):\n",
        "    att_cnn = load_model('./Modelos/best_model_attention.h5')"
      ],
      "execution_count": null,
      "outputs": [
        {
          "output_type": "stream",
          "text": [
            "Epoch 1/10\n",
            "69/69 [==============================] - 8s 113ms/step - loss: 0.4669 - accuracy: 0.7759 - val_loss: 0.4663 - val_accuracy: 0.7848\n",
            "Epoch 2/10\n",
            "69/69 [==============================] - 8s 112ms/step - loss: 0.3302 - accuracy: 0.8638 - val_loss: 0.4473 - val_accuracy: 0.7979\n",
            "Epoch 3/10\n",
            "69/69 [==============================] - 8s 109ms/step - loss: 0.2523 - accuracy: 0.9086 - val_loss: 0.4774 - val_accuracy: 0.7769\n",
            "Epoch 4/10\n",
            "69/69 [==============================] - 7s 107ms/step - loss: 0.1933 - accuracy: 0.9402 - val_loss: 0.4896 - val_accuracy: 0.7795\n",
            "Epoch 5/10\n",
            "69/69 [==============================] - 8s 112ms/step - loss: 0.1476 - accuracy: 0.9593 - val_loss: 0.5197 - val_accuracy: 0.7782\n",
            "Epoch 6/10\n",
            "69/69 [==============================] - 7s 107ms/step - loss: 0.1300 - accuracy: 0.9641 - val_loss: 0.5997 - val_accuracy: 0.7808\n",
            "Epoch 7/10\n",
            "69/69 [==============================] - 7s 107ms/step - loss: 0.1194 - accuracy: 0.9693 - val_loss: 0.5768 - val_accuracy: 0.7900\n",
            "Epoch 8/10\n",
            "69/69 [==============================] - 7s 107ms/step - loss: 0.1054 - accuracy: 0.9726 - val_loss: 0.5694 - val_accuracy: 0.7874\n",
            "Epoch 9/10\n",
            "69/69 [==============================] - 7s 106ms/step - loss: 0.1022 - accuracy: 0.9733 - val_loss: 0.5818 - val_accuracy: 0.7782\n",
            "Epoch 10/10\n",
            "69/69 [==============================] - 7s 108ms/step - loss: 0.1059 - accuracy: 0.9734 - val_loss: 0.6141 - val_accuracy: 0.7848\n"
          ],
          "name": "stdout"
        }
      ]
    },
    {
      "cell_type": "code",
      "metadata": {
        "id": "4UK0gp1FOJNH",
        "colab": {
          "base_uri": "https://localhost:8080/",
          "height": 573
        },
        "outputId": "536d9f8e-9db0-4c8b-abb2-dfc1ea66dc91"
      },
      "source": [
        "# Plotar métricas\n",
        "plot_graphs(att_history, \"CNN Attention\")"
      ],
      "execution_count": null,
      "outputs": [
        {
          "output_type": "display_data",
          "data": {
            "image/png": "[encoded data removed]",
            "text/plain": [
              "<Figure size 432x288 with 1 Axes>"
            ]
          },
          "metadata": {
            "tags": [],
            "needs_background": "light"
          }
        },
        {
          "output_type": "display_data",
          "data": {
            "image/png": "[encoded data removed]",
            "text/plain": [
              "<Figure size 432x288 with 1 Axes>"
            ]
          },
          "metadata": {
            "tags": [],
            "needs_background": "light"
          }
        }
      ]
    }
  ]
}